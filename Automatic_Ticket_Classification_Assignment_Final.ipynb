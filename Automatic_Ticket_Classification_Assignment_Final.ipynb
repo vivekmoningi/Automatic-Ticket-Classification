{
  "cells": [
    {
      "cell_type": "markdown",
      "metadata": {
        "id": "view-in-github",
        "colab_type": "text"
      },
      "source": [
        "<a href=\"https://colab.research.google.com/github/vivekmoningi/Automatic-Ticket-Classification/blob/main/Automatic_Ticket_Classification_Assignment_Final.ipynb\" target=\"_parent\"><img src=\"https://colab.research.google.com/assets/colab-badge.svg\" alt=\"Open In Colab\"/></a>"
      ]
    },
    {
      "cell_type": "markdown",
      "metadata": {
        "id": "rhR-ZUkwJrFn"
      },
      "source": [
        "## Problem Statement \n",
        "\n",
        "You need to build a model that is able to classify customer complaints based on the products/services. By doing so, you can segregate these tickets into their relevant categories and, therefore, help in the quick resolution of the issue.\n",
        "\n",
        "You will be doing topic modelling on the <b>.json</b> data provided by the company. Since this data is not labelled, you need to apply NMF to analyse patterns and classify tickets into the following five clusters based on their products/services:\n",
        "\n",
        "* Credit card / Prepaid card\n",
        "\n",
        "* Bank account services\n",
        "\n",
        "* Theft/Dispute reporting\n",
        "\n",
        "* Mortgages/loans\n",
        "\n",
        "* Others \n",
        "\n",
        "\n",
        "With the help of topic modelling, you will be able to map each ticket onto its respective department/category. You can then use this data to train any supervised model such as logistic regression, decision tree or random forest. Using this trained model, you can classify any new customer complaint support ticket into its relevant department."
      ]
    },
    {
      "cell_type": "markdown",
      "metadata": {
        "id": "mcgXVNyaLUFS"
      },
      "source": [
        "## Pipelines that needs to be performed:\n",
        "\n",
        "You need to perform the following eight major tasks to complete the assignment:\n",
        "\n",
        "1.  Data loading\n",
        "\n",
        "2. Text preprocessing\n",
        "\n",
        "3. Exploratory data analysis (EDA)\n",
        "\n",
        "4. Feature extraction\n",
        "\n",
        "5. Topic modelling \n",
        "\n",
        "6. Model building using supervised learning\n",
        "\n",
        "7. Model training and evaluation\n",
        "\n",
        "8. Model inference"
      ]
    },
    {
      "cell_type": "markdown",
      "metadata": {
        "id": "JuLFIymAL58u"
      },
      "source": [
        "## Importing the necessary libraries"
      ]
    },
    {
      "cell_type": "code",
      "execution_count": 3,
      "metadata": {
        "id": "O-Q9pqrcJrFr"
      },
      "outputs": [],
      "source": [
        "#importing necessary packages\n",
        "\n",
        "import json \n",
        "import numpy as np\n",
        "import pandas as pd\n",
        "import re, nltk, spacy, string, pprint\n",
        "import en_core_web_sm\n",
        "nlp = en_core_web_sm.load()\n",
        "import seaborn as sns\n",
        "import matplotlib.pyplot as plt\n",
        "%matplotlib inline\n",
        "\n",
        "from plotly.offline import plot\n",
        "import plotly.graph_objects as go\n",
        "import plotly.express as px\n",
        "\n",
        "from sklearn.feature_extraction.text import CountVectorizer, TfidfVectorizer\n",
        "from pprint import pprint\n",
        "\n",
        "from nltk.stem import WordNetLemmatizer\n",
        "from textblob import TextBlob\n",
        "from wordcloud import WordCloud, STOPWORDS\n",
        "from nltk.corpus import stopwords\n",
        "\n",
        "import warnings\n",
        "warnings.filterwarnings('ignore')"
      ]
    },
    {
      "cell_type": "code",
      "source": [
        "# downloading nltk packages\n",
        "\n",
        "nltk.download('punkt')\n",
        "nltk.download('wordnet')\n",
        "nltk.download('omw-1.4') \n",
        "nltk.download('averaged_perceptron_tagger')\n",
        "nltk.download('stopwords')"
      ],
      "metadata": {
        "id": "MaZSR2jtNARU"
      },
      "execution_count": null,
      "outputs": []
    },
    {
      "cell_type": "code",
      "execution_count": 5,
      "metadata": {
        "colab": {
          "base_uri": "https://localhost:8080/"
        },
        "id": "SJN4d0DOEJ7K",
        "outputId": "93e54f1c-6151-4b37-81ef-392939109c4c"
      },
      "outputs": [
        {
          "output_type": "stream",
          "name": "stdout",
          "text": [
            "Mounted at /content/drive\n"
          ]
        }
      ],
      "source": [
        "from google.colab import drive\n",
        "drive.mount('/content/drive')"
      ]
    },
    {
      "cell_type": "markdown",
      "metadata": {
        "id": "KtRLCsNVJrFt"
      },
      "source": [
        "## Loading the data\n",
        "\n",
        "The data is in JSON format and we need to convert it to a dataframe."
      ]
    },
    {
      "cell_type": "code",
      "execution_count": 6,
      "metadata": {
        "id": "puVzIf_iJrFt"
      },
      "outputs": [],
      "source": [
        "# Opening JSON file \n",
        "f = open('/content/drive/MyDrive/complaints.json')# Write the path to your data file and load it \n",
        "  \n",
        "# returns JSON object as  \n",
        "# a dictionary \n",
        "data = json.load(f)\n",
        "df=pd.json_normalize(data)"
      ]
    },
    {
      "cell_type": "markdown",
      "metadata": {
        "id": "_xYpH-sAJrFu"
      },
      "source": [
        "## Data preparation"
      ]
    },
    {
      "cell_type": "code",
      "execution_count": 7,
      "metadata": {
        "colab": {
          "base_uri": "https://localhost:8080/"
        },
        "id": "Lf8ufHH5JrFu",
        "outputId": "926aa43d-4336-4cbf-823f-f068e3e83ed3"
      },
      "outputs": [
        {
          "output_type": "execute_result",
          "data": {
            "text/plain": [
              "(78313, 22)"
            ]
          },
          "metadata": {},
          "execution_count": 7
        }
      ],
      "source": [
        "# Inspect the dataframe to understand the given data.\n",
        "\n",
        "df.shape"
      ]
    },
    {
      "cell_type": "code",
      "execution_count": null,
      "metadata": {
        "id": "Dwcty-wmJrFw"
      },
      "outputs": [],
      "source": [
        "#print the column names\n",
        "df.head(5)"
      ]
    },
    {
      "cell_type": "code",
      "execution_count": 9,
      "metadata": {
        "colab": {
          "base_uri": "https://localhost:8080/"
        },
        "id": "N4WnUTuzwIS3",
        "outputId": "13de8fa0-5535-4904-9470-e29e0e861e1f"
      },
      "outputs": [
        {
          "output_type": "stream",
          "name": "stdout",
          "text": [
            "<class 'pandas.core.frame.DataFrame'>\n",
            "RangeIndex: 78313 entries, 0 to 78312\n",
            "Data columns (total 22 columns):\n",
            " #   Column                             Non-Null Count  Dtype  \n",
            "---  ------                             --------------  -----  \n",
            " 0   _index                             78313 non-null  object \n",
            " 1   _type                              78313 non-null  object \n",
            " 2   _id                                78313 non-null  object \n",
            " 3   _score                             78313 non-null  float64\n",
            " 4   _source.tags                       10900 non-null  object \n",
            " 5   _source.zip_code                   71556 non-null  object \n",
            " 6   _source.complaint_id               78313 non-null  object \n",
            " 7   _source.issue                      78313 non-null  object \n",
            " 8   _source.date_received              78313 non-null  object \n",
            " 9   _source.state                      76322 non-null  object \n",
            " 10  _source.consumer_disputed          78313 non-null  object \n",
            " 11  _source.product                    78313 non-null  object \n",
            " 12  _source.company_response           78313 non-null  object \n",
            " 13  _source.company                    78313 non-null  object \n",
            " 14  _source.submitted_via              78313 non-null  object \n",
            " 15  _source.date_sent_to_company       78313 non-null  object \n",
            " 16  _source.company_public_response    4 non-null      object \n",
            " 17  _source.sub_product                67742 non-null  object \n",
            " 18  _source.timely                     78313 non-null  object \n",
            " 19  _source.complaint_what_happened    78313 non-null  object \n",
            " 20  _source.sub_issue                  32016 non-null  object \n",
            " 21  _source.consumer_consent_provided  77305 non-null  object \n",
            "dtypes: float64(1), object(21)\n",
            "memory usage: 13.1+ MB\n"
          ]
        }
      ],
      "source": [
        "#checking info of the data\n",
        "\n",
        "df.info()"
      ]
    },
    {
      "cell_type": "code",
      "execution_count": 10,
      "metadata": {
        "colab": {
          "base_uri": "https://localhost:8080/"
        },
        "id": "RPcvU-OpsqRU",
        "outputId": "2f4ced0c-ade1-495e-bc3b-443f4f3cb0e5"
      },
      "outputs": [
        {
          "output_type": "execute_result",
          "data": {
            "text/plain": [
              "Index(['_index', '_type', '_id', '_score', '_source.tags', '_source.zip_code',\n",
              "       '_source.complaint_id', '_source.issue', '_source.date_received',\n",
              "       '_source.state', '_source.consumer_disputed', '_source.product',\n",
              "       '_source.company_response', '_source.company', '_source.submitted_via',\n",
              "       '_source.date_sent_to_company', '_source.company_public_response',\n",
              "       '_source.sub_product', '_source.timely',\n",
              "       '_source.complaint_what_happened', '_source.sub_issue',\n",
              "       '_source.consumer_consent_provided'],\n",
              "      dtype='object')"
            ]
          },
          "metadata": {},
          "execution_count": 10
        }
      ],
      "source": [
        "# storing the columns in cols_list\n",
        "\n",
        "cols_list = df.columns\n",
        "cols_list"
      ]
    },
    {
      "cell_type": "code",
      "execution_count": 11,
      "metadata": {
        "colab": {
          "base_uri": "https://localhost:8080/"
        },
        "id": "FYCtKXD1JrFw",
        "outputId": "07b64cfe-2f03-4a8b-a926-6fa9f6d4e51d"
      },
      "outputs": [
        {
          "output_type": "execute_result",
          "data": {
            "text/plain": [
              "['index',\n",
              " 'type',\n",
              " 'id',\n",
              " 'score',\n",
              " 'tags',\n",
              " 'zip_code',\n",
              " 'complaint_id',\n",
              " 'issue',\n",
              " 'date_received',\n",
              " 'state',\n",
              " 'consumer_disputed',\n",
              " 'product',\n",
              " 'company_response',\n",
              " 'company',\n",
              " 'submitted_via',\n",
              " 'date_sent_to_company',\n",
              " 'company_public_response',\n",
              " 'sub_product',\n",
              " 'timely',\n",
              " 'complaint_what_happened',\n",
              " 'sub_issue',\n",
              " 'consumer_consent_provided']"
            ]
          },
          "metadata": {},
          "execution_count": 11
        }
      ],
      "source": [
        "#Assign new column names\n",
        "#removing _ from the column name\n",
        "df.columns=[re.sub('^_','',col) for col in df.columns]\n",
        "\n",
        "#Removing \"source.\" from column names\n",
        "df.columns = [re.sub(r\"^\\bsource\\b\\.\", \"\", col) for col in df.columns]\n",
        "\n",
        "list(df.columns)\n"
      ]
    },
    {
      "cell_type": "code",
      "execution_count": 12,
      "metadata": {
        "colab": {
          "base_uri": "https://localhost:8080/"
        },
        "id": "baFOccBU3ek1",
        "outputId": "4169a368-71a9-4f28-bbb3-0e9a654810d9"
      },
      "outputs": [
        {
          "output_type": "execute_result",
          "data": {
            "text/plain": [
              "index                         0.00\n",
              "type                          0.00\n",
              "id                            0.00\n",
              "score                         0.00\n",
              "tags                         86.08\n",
              "zip_code                      8.63\n",
              "complaint_id                  0.00\n",
              "issue                         0.00\n",
              "date_received                 0.00\n",
              "state                         2.54\n",
              "consumer_disputed             0.00\n",
              "product                       0.00\n",
              "company_response              0.00\n",
              "company                       0.00\n",
              "submitted_via                 0.00\n",
              "date_sent_to_company          0.00\n",
              "company_public_response      99.99\n",
              "sub_product                  13.50\n",
              "timely                        0.00\n",
              "complaint_what_happened       0.00\n",
              "sub_issue                    59.12\n",
              "consumer_consent_provided     1.29\n",
              "dtype: float64"
            ]
          },
          "metadata": {},
          "execution_count": 12
        }
      ],
      "source": [
        "# checking the number of nan values\n",
        "round(df.isna().sum()/df.shape[0]*100,2)"
      ]
    },
    {
      "cell_type": "code",
      "execution_count": 13,
      "metadata": {
        "colab": {
          "base_uri": "https://localhost:8080/",
          "height": 300
        },
        "id": "24uW1FNH6onH",
        "outputId": "c98ae750-5fc7-4e15-9630-c515814eefc8"
      },
      "outputs": [
        {
          "output_type": "execute_result",
          "data": {
            "text/plain": [
              "         score\n",
              "count  78313.0\n",
              "mean       0.0\n",
              "std        0.0\n",
              "min        0.0\n",
              "25%        0.0\n",
              "50%        0.0\n",
              "75%        0.0\n",
              "max        0.0"
            ],
            "text/html": [
              "\n",
              "  <div id=\"df-69e4d7c9-f6fb-4785-b38c-9a19fbb3951e\">\n",
              "    <div class=\"colab-df-container\">\n",
              "      <div>\n",
              "<style scoped>\n",
              "    .dataframe tbody tr th:only-of-type {\n",
              "        vertical-align: middle;\n",
              "    }\n",
              "\n",
              "    .dataframe tbody tr th {\n",
              "        vertical-align: top;\n",
              "    }\n",
              "\n",
              "    .dataframe thead th {\n",
              "        text-align: right;\n",
              "    }\n",
              "</style>\n",
              "<table border=\"1\" class=\"dataframe\">\n",
              "  <thead>\n",
              "    <tr style=\"text-align: right;\">\n",
              "      <th></th>\n",
              "      <th>score</th>\n",
              "    </tr>\n",
              "  </thead>\n",
              "  <tbody>\n",
              "    <tr>\n",
              "      <th>count</th>\n",
              "      <td>78313.0</td>\n",
              "    </tr>\n",
              "    <tr>\n",
              "      <th>mean</th>\n",
              "      <td>0.0</td>\n",
              "    </tr>\n",
              "    <tr>\n",
              "      <th>std</th>\n",
              "      <td>0.0</td>\n",
              "    </tr>\n",
              "    <tr>\n",
              "      <th>min</th>\n",
              "      <td>0.0</td>\n",
              "    </tr>\n",
              "    <tr>\n",
              "      <th>25%</th>\n",
              "      <td>0.0</td>\n",
              "    </tr>\n",
              "    <tr>\n",
              "      <th>50%</th>\n",
              "      <td>0.0</td>\n",
              "    </tr>\n",
              "    <tr>\n",
              "      <th>75%</th>\n",
              "      <td>0.0</td>\n",
              "    </tr>\n",
              "    <tr>\n",
              "      <th>max</th>\n",
              "      <td>0.0</td>\n",
              "    </tr>\n",
              "  </tbody>\n",
              "</table>\n",
              "</div>\n",
              "      <button class=\"colab-df-convert\" onclick=\"convertToInteractive('df-69e4d7c9-f6fb-4785-b38c-9a19fbb3951e')\"\n",
              "              title=\"Convert this dataframe to an interactive table.\"\n",
              "              style=\"display:none;\">\n",
              "        \n",
              "  <svg xmlns=\"http://www.w3.org/2000/svg\" height=\"24px\"viewBox=\"0 0 24 24\"\n",
              "       width=\"24px\">\n",
              "    <path d=\"M0 0h24v24H0V0z\" fill=\"none\"/>\n",
              "    <path d=\"M18.56 5.44l.94 2.06.94-2.06 2.06-.94-2.06-.94-.94-2.06-.94 2.06-2.06.94zm-11 1L8.5 8.5l.94-2.06 2.06-.94-2.06-.94L8.5 2.5l-.94 2.06-2.06.94zm10 10l.94 2.06.94-2.06 2.06-.94-2.06-.94-.94-2.06-.94 2.06-2.06.94z\"/><path d=\"M17.41 7.96l-1.37-1.37c-.4-.4-.92-.59-1.43-.59-.52 0-1.04.2-1.43.59L10.3 9.45l-7.72 7.72c-.78.78-.78 2.05 0 2.83L4 21.41c.39.39.9.59 1.41.59.51 0 1.02-.2 1.41-.59l7.78-7.78 2.81-2.81c.8-.78.8-2.07 0-2.86zM5.41 20L4 18.59l7.72-7.72 1.47 1.35L5.41 20z\"/>\n",
              "  </svg>\n",
              "      </button>\n",
              "      \n",
              "  <style>\n",
              "    .colab-df-container {\n",
              "      display:flex;\n",
              "      flex-wrap:wrap;\n",
              "      gap: 12px;\n",
              "    }\n",
              "\n",
              "    .colab-df-convert {\n",
              "      background-color: #E8F0FE;\n",
              "      border: none;\n",
              "      border-radius: 50%;\n",
              "      cursor: pointer;\n",
              "      display: none;\n",
              "      fill: #1967D2;\n",
              "      height: 32px;\n",
              "      padding: 0 0 0 0;\n",
              "      width: 32px;\n",
              "    }\n",
              "\n",
              "    .colab-df-convert:hover {\n",
              "      background-color: #E2EBFA;\n",
              "      box-shadow: 0px 1px 2px rgba(60, 64, 67, 0.3), 0px 1px 3px 1px rgba(60, 64, 67, 0.15);\n",
              "      fill: #174EA6;\n",
              "    }\n",
              "\n",
              "    [theme=dark] .colab-df-convert {\n",
              "      background-color: #3B4455;\n",
              "      fill: #D2E3FC;\n",
              "    }\n",
              "\n",
              "    [theme=dark] .colab-df-convert:hover {\n",
              "      background-color: #434B5C;\n",
              "      box-shadow: 0px 1px 3px 1px rgba(0, 0, 0, 0.15);\n",
              "      filter: drop-shadow(0px 1px 2px rgba(0, 0, 0, 0.3));\n",
              "      fill: #FFFFFF;\n",
              "    }\n",
              "  </style>\n",
              "\n",
              "      <script>\n",
              "        const buttonEl =\n",
              "          document.querySelector('#df-69e4d7c9-f6fb-4785-b38c-9a19fbb3951e button.colab-df-convert');\n",
              "        buttonEl.style.display =\n",
              "          google.colab.kernel.accessAllowed ? 'block' : 'none';\n",
              "\n",
              "        async function convertToInteractive(key) {\n",
              "          const element = document.querySelector('#df-69e4d7c9-f6fb-4785-b38c-9a19fbb3951e');\n",
              "          const dataTable =\n",
              "            await google.colab.kernel.invokeFunction('convertToInteractive',\n",
              "                                                     [key], {});\n",
              "          if (!dataTable) return;\n",
              "\n",
              "          const docLinkHtml = 'Like what you see? Visit the ' +\n",
              "            '<a target=\"_blank\" href=https://colab.research.google.com/notebooks/data_table.ipynb>data table notebook</a>'\n",
              "            + ' to learn more about interactive tables.';\n",
              "          element.innerHTML = '';\n",
              "          dataTable['output_type'] = 'display_data';\n",
              "          await google.colab.output.renderOutput(dataTable, element);\n",
              "          const docLink = document.createElement('div');\n",
              "          docLink.innerHTML = docLinkHtml;\n",
              "          element.appendChild(docLink);\n",
              "        }\n",
              "      </script>\n",
              "    </div>\n",
              "  </div>\n",
              "  "
            ]
          },
          "metadata": {},
          "execution_count": 13
        }
      ],
      "source": [
        "#describe to understand the statistics\n",
        "df.describe()"
      ]
    },
    {
      "cell_type": "code",
      "execution_count": 14,
      "metadata": {
        "colab": {
          "base_uri": "https://localhost:8080/"
        },
        "id": "r_BtcTrxW1MZ",
        "outputId": "c30b1af8-1f3c-4095-96ee-e58f94f23909"
      },
      "outputs": [
        {
          "output_type": "execute_result",
          "data": {
            "text/plain": [
              "57241"
            ]
          },
          "metadata": {},
          "execution_count": 14
        }
      ],
      "source": [
        "# Counting number of rows with blank under complaints column \n",
        "len(df[df['complaint_what_happened'] == \"\"])"
      ]
    },
    {
      "cell_type": "code",
      "execution_count": 15,
      "metadata": {
        "id": "grQUPFL5JrFx"
      },
      "outputs": [],
      "source": [
        "#Assign nan in place of blanks in the complaints column\n",
        "df['complaint_what_happened'].replace(\"\", np.nan, inplace=True)"
      ]
    },
    {
      "cell_type": "code",
      "execution_count": 16,
      "metadata": {
        "colab": {
          "base_uri": "https://localhost:8080/"
        },
        "id": "Jfxd8VSmJrFy",
        "outputId": "be5299d8-c1d8-4c52-f3a8-0e0fd5e22c28"
      },
      "outputs": [
        {
          "output_type": "execute_result",
          "data": {
            "text/plain": [
              "(21072, 22)"
            ]
          },
          "metadata": {},
          "execution_count": 16
        }
      ],
      "source": [
        "#Remove all rows where complaints column is nan\n",
        "df.dropna(subset=['complaint_what_happened'], inplace=True)\n",
        "\n",
        "#New shape of df\n",
        "df.shape"
      ]
    },
    {
      "cell_type": "code",
      "execution_count": 17,
      "metadata": {
        "colab": {
          "base_uri": "https://localhost:8080/",
          "height": 1000
        },
        "id": "vyb-mpbgRMGI",
        "outputId": "2e8ef9b8-6e1e-4adc-ed2d-b83881c926a1"
      },
      "outputs": [
        {
          "output_type": "execute_result",
          "data": {
            "text/plain": [
              "                  index       type       id  score           tags zip_code  \\\n",
              "1   complaint-public-v2  complaint  3229299    0.0  Servicemember    319XX   \n",
              "2   complaint-public-v2  complaint  3199379    0.0           None    77069   \n",
              "10  complaint-public-v2  complaint  3233499    0.0           None    104XX   \n",
              "11  complaint-public-v2  complaint  3180294    0.0           None    750XX   \n",
              "14  complaint-public-v2  complaint  3224980    0.0           None    920XX   \n",
              "15  complaint-public-v2  complaint  3209411    0.0           None     None   \n",
              "17  complaint-public-v2  complaint  3331023    0.0           None    770XX   \n",
              "20  complaint-public-v2  complaint  3352857    0.0           None    207XX   \n",
              "21  complaint-public-v2  complaint  3226110    0.0  Servicemember    846XX   \n",
              "23  complaint-public-v2  complaint  3237765    0.0           None    330XX   \n",
              "\n",
              "   complaint_id                                 issue  \\\n",
              "1       3229299       Written notification about debt   \n",
              "2       3199379    Other features, terms, or problems   \n",
              "10      3233499  Incorrect information on your report   \n",
              "11      3180294  Incorrect information on your report   \n",
              "14      3224980                   Managing an account   \n",
              "15      3209411           Improper use of your report   \n",
              "17      3331023                    Closing an account   \n",
              "20      3352857           Struggling to pay your loan   \n",
              "21      3226110                         Fraud or scam   \n",
              "23      3237765  Incorrect information on your report   \n",
              "\n",
              "                date_received state  ...                 company_response  \\\n",
              "1   2019-05-01T12:00:00-05:00    GA  ...          Closed with explanation   \n",
              "2   2019-04-02T12:00:00-05:00    TX  ...          Closed with explanation   \n",
              "10  2019-05-06T12:00:00-05:00    NY  ...          Closed with explanation   \n",
              "11  2019-03-14T12:00:00-05:00    TX  ...          Closed with explanation   \n",
              "14  2019-04-27T12:00:00-05:00    CA  ...          Closed with explanation   \n",
              "15  2019-04-11T12:00:00-05:00    LA  ...          Closed with explanation   \n",
              "17  2019-08-06T12:00:00-05:00    TX  ...          Closed with explanation   \n",
              "20  2019-08-24T12:00:00-05:00    MD  ...          Closed with explanation   \n",
              "21  2019-04-29T12:00:00-05:00    UT  ...          Closed with explanation   \n",
              "23  2019-05-09T12:00:00-05:00    FL  ...  Closed with non-monetary relief   \n",
              "\n",
              "                 company submitted_via       date_sent_to_company  \\\n",
              "1   JPMORGAN CHASE & CO.           Web  2019-05-01T12:00:00-05:00   \n",
              "2   JPMORGAN CHASE & CO.           Web  2019-04-02T12:00:00-05:00   \n",
              "10  JPMORGAN CHASE & CO.           Web  2019-05-06T12:00:00-05:00   \n",
              "11  JPMORGAN CHASE & CO.           Web  2019-03-15T12:00:00-05:00   \n",
              "14  JPMORGAN CHASE & CO.           Web  2019-04-27T12:00:00-05:00   \n",
              "15  JPMORGAN CHASE & CO.           Web  2019-04-11T12:00:00-05:00   \n",
              "17  JPMORGAN CHASE & CO.           Web  2019-08-06T12:00:00-05:00   \n",
              "20  JPMORGAN CHASE & CO.           Web  2019-08-24T12:00:00-05:00   \n",
              "21  JPMORGAN CHASE & CO.           Web  2019-04-29T12:00:00-05:00   \n",
              "23  JPMORGAN CHASE & CO.           Web  2019-05-09T12:00:00-05:00   \n",
              "\n",
              "   company_public_response                                 sub_product timely  \\\n",
              "1                     None                            Credit card debt    Yes   \n",
              "2                     None  General-purpose credit card or charge card    Yes   \n",
              "10                    None              Other personal consumer report    Yes   \n",
              "11                    None                            Credit reporting    Yes   \n",
              "14                    None                            Checking account    Yes   \n",
              "15                    None                            Credit reporting    Yes   \n",
              "17                    None                            Checking account    Yes   \n",
              "20                    None                                        Loan    Yes   \n",
              "21                    None                Domestic (US) money transfer    Yes   \n",
              "23                    None  General-purpose credit card or charge card    Yes   \n",
              "\n",
              "                              complaint_what_happened  \\\n",
              "1   Good morning my name is XXXX XXXX and I apprec...   \n",
              "2   I upgraded my XXXX XXXX card in XX/XX/2018 and...   \n",
              "10  Chase Card was reported on XX/XX/2019. However...   \n",
              "11  On XX/XX/2018, while trying to book a XXXX  XX...   \n",
              "14  my grand son give me check for {$1600.00} i de...   \n",
              "15                      Can you please remove inquiry   \n",
              "17  With out notice J.P. Morgan Chase restricted m...   \n",
              "20  During the summer months, I experience a decli...   \n",
              "21  On XXXX XX/XX/2019, I made a {$300.00} payment...   \n",
              "23  I have a Chase credit card which is incorrectl...   \n",
              "\n",
              "                                            sub_issue  \\\n",
              "1    Didn't receive enough information to verify debt   \n",
              "2               Problem with rewards from credit card   \n",
              "10                Information belongs to someone else   \n",
              "11                Information belongs to someone else   \n",
              "14       Funds not handled or disbursed as instructed   \n",
              "15  Credit inquiries on your report that you don't...   \n",
              "17             Funds not received from closed account   \n",
              "20                   Denied request to lower payments   \n",
              "21                                               None   \n",
              "23                      Account information incorrect   \n",
              "\n",
              "   consumer_consent_provided  \n",
              "1           Consent provided  \n",
              "2           Consent provided  \n",
              "10          Consent provided  \n",
              "11          Consent provided  \n",
              "14          Consent provided  \n",
              "15          Consent provided  \n",
              "17          Consent provided  \n",
              "20          Consent provided  \n",
              "21          Consent provided  \n",
              "23          Consent provided  \n",
              "\n",
              "[10 rows x 22 columns]"
            ],
            "text/html": [
              "\n",
              "  <div id=\"df-130fa0ee-5f96-4db7-af0e-df908b37533a\">\n",
              "    <div class=\"colab-df-container\">\n",
              "      <div>\n",
              "<style scoped>\n",
              "    .dataframe tbody tr th:only-of-type {\n",
              "        vertical-align: middle;\n",
              "    }\n",
              "\n",
              "    .dataframe tbody tr th {\n",
              "        vertical-align: top;\n",
              "    }\n",
              "\n",
              "    .dataframe thead th {\n",
              "        text-align: right;\n",
              "    }\n",
              "</style>\n",
              "<table border=\"1\" class=\"dataframe\">\n",
              "  <thead>\n",
              "    <tr style=\"text-align: right;\">\n",
              "      <th></th>\n",
              "      <th>index</th>\n",
              "      <th>type</th>\n",
              "      <th>id</th>\n",
              "      <th>score</th>\n",
              "      <th>tags</th>\n",
              "      <th>zip_code</th>\n",
              "      <th>complaint_id</th>\n",
              "      <th>issue</th>\n",
              "      <th>date_received</th>\n",
              "      <th>state</th>\n",
              "      <th>...</th>\n",
              "      <th>company_response</th>\n",
              "      <th>company</th>\n",
              "      <th>submitted_via</th>\n",
              "      <th>date_sent_to_company</th>\n",
              "      <th>company_public_response</th>\n",
              "      <th>sub_product</th>\n",
              "      <th>timely</th>\n",
              "      <th>complaint_what_happened</th>\n",
              "      <th>sub_issue</th>\n",
              "      <th>consumer_consent_provided</th>\n",
              "    </tr>\n",
              "  </thead>\n",
              "  <tbody>\n",
              "    <tr>\n",
              "      <th>1</th>\n",
              "      <td>complaint-public-v2</td>\n",
              "      <td>complaint</td>\n",
              "      <td>3229299</td>\n",
              "      <td>0.0</td>\n",
              "      <td>Servicemember</td>\n",
              "      <td>319XX</td>\n",
              "      <td>3229299</td>\n",
              "      <td>Written notification about debt</td>\n",
              "      <td>2019-05-01T12:00:00-05:00</td>\n",
              "      <td>GA</td>\n",
              "      <td>...</td>\n",
              "      <td>Closed with explanation</td>\n",
              "      <td>JPMORGAN CHASE &amp; CO.</td>\n",
              "      <td>Web</td>\n",
              "      <td>2019-05-01T12:00:00-05:00</td>\n",
              "      <td>None</td>\n",
              "      <td>Credit card debt</td>\n",
              "      <td>Yes</td>\n",
              "      <td>Good morning my name is XXXX XXXX and I apprec...</td>\n",
              "      <td>Didn't receive enough information to verify debt</td>\n",
              "      <td>Consent provided</td>\n",
              "    </tr>\n",
              "    <tr>\n",
              "      <th>2</th>\n",
              "      <td>complaint-public-v2</td>\n",
              "      <td>complaint</td>\n",
              "      <td>3199379</td>\n",
              "      <td>0.0</td>\n",
              "      <td>None</td>\n",
              "      <td>77069</td>\n",
              "      <td>3199379</td>\n",
              "      <td>Other features, terms, or problems</td>\n",
              "      <td>2019-04-02T12:00:00-05:00</td>\n",
              "      <td>TX</td>\n",
              "      <td>...</td>\n",
              "      <td>Closed with explanation</td>\n",
              "      <td>JPMORGAN CHASE &amp; CO.</td>\n",
              "      <td>Web</td>\n",
              "      <td>2019-04-02T12:00:00-05:00</td>\n",
              "      <td>None</td>\n",
              "      <td>General-purpose credit card or charge card</td>\n",
              "      <td>Yes</td>\n",
              "      <td>I upgraded my XXXX XXXX card in XX/XX/2018 and...</td>\n",
              "      <td>Problem with rewards from credit card</td>\n",
              "      <td>Consent provided</td>\n",
              "    </tr>\n",
              "    <tr>\n",
              "      <th>10</th>\n",
              "      <td>complaint-public-v2</td>\n",
              "      <td>complaint</td>\n",
              "      <td>3233499</td>\n",
              "      <td>0.0</td>\n",
              "      <td>None</td>\n",
              "      <td>104XX</td>\n",
              "      <td>3233499</td>\n",
              "      <td>Incorrect information on your report</td>\n",
              "      <td>2019-05-06T12:00:00-05:00</td>\n",
              "      <td>NY</td>\n",
              "      <td>...</td>\n",
              "      <td>Closed with explanation</td>\n",
              "      <td>JPMORGAN CHASE &amp; CO.</td>\n",
              "      <td>Web</td>\n",
              "      <td>2019-05-06T12:00:00-05:00</td>\n",
              "      <td>None</td>\n",
              "      <td>Other personal consumer report</td>\n",
              "      <td>Yes</td>\n",
              "      <td>Chase Card was reported on XX/XX/2019. However...</td>\n",
              "      <td>Information belongs to someone else</td>\n",
              "      <td>Consent provided</td>\n",
              "    </tr>\n",
              "    <tr>\n",
              "      <th>11</th>\n",
              "      <td>complaint-public-v2</td>\n",
              "      <td>complaint</td>\n",
              "      <td>3180294</td>\n",
              "      <td>0.0</td>\n",
              "      <td>None</td>\n",
              "      <td>750XX</td>\n",
              "      <td>3180294</td>\n",
              "      <td>Incorrect information on your report</td>\n",
              "      <td>2019-03-14T12:00:00-05:00</td>\n",
              "      <td>TX</td>\n",
              "      <td>...</td>\n",
              "      <td>Closed with explanation</td>\n",
              "      <td>JPMORGAN CHASE &amp; CO.</td>\n",
              "      <td>Web</td>\n",
              "      <td>2019-03-15T12:00:00-05:00</td>\n",
              "      <td>None</td>\n",
              "      <td>Credit reporting</td>\n",
              "      <td>Yes</td>\n",
              "      <td>On XX/XX/2018, while trying to book a XXXX  XX...</td>\n",
              "      <td>Information belongs to someone else</td>\n",
              "      <td>Consent provided</td>\n",
              "    </tr>\n",
              "    <tr>\n",
              "      <th>14</th>\n",
              "      <td>complaint-public-v2</td>\n",
              "      <td>complaint</td>\n",
              "      <td>3224980</td>\n",
              "      <td>0.0</td>\n",
              "      <td>None</td>\n",
              "      <td>920XX</td>\n",
              "      <td>3224980</td>\n",
              "      <td>Managing an account</td>\n",
              "      <td>2019-04-27T12:00:00-05:00</td>\n",
              "      <td>CA</td>\n",
              "      <td>...</td>\n",
              "      <td>Closed with explanation</td>\n",
              "      <td>JPMORGAN CHASE &amp; CO.</td>\n",
              "      <td>Web</td>\n",
              "      <td>2019-04-27T12:00:00-05:00</td>\n",
              "      <td>None</td>\n",
              "      <td>Checking account</td>\n",
              "      <td>Yes</td>\n",
              "      <td>my grand son give me check for {$1600.00} i de...</td>\n",
              "      <td>Funds not handled or disbursed as instructed</td>\n",
              "      <td>Consent provided</td>\n",
              "    </tr>\n",
              "    <tr>\n",
              "      <th>15</th>\n",
              "      <td>complaint-public-v2</td>\n",
              "      <td>complaint</td>\n",
              "      <td>3209411</td>\n",
              "      <td>0.0</td>\n",
              "      <td>None</td>\n",
              "      <td>None</td>\n",
              "      <td>3209411</td>\n",
              "      <td>Improper use of your report</td>\n",
              "      <td>2019-04-11T12:00:00-05:00</td>\n",
              "      <td>LA</td>\n",
              "      <td>...</td>\n",
              "      <td>Closed with explanation</td>\n",
              "      <td>JPMORGAN CHASE &amp; CO.</td>\n",
              "      <td>Web</td>\n",
              "      <td>2019-04-11T12:00:00-05:00</td>\n",
              "      <td>None</td>\n",
              "      <td>Credit reporting</td>\n",
              "      <td>Yes</td>\n",
              "      <td>Can you please remove inquiry</td>\n",
              "      <td>Credit inquiries on your report that you don't...</td>\n",
              "      <td>Consent provided</td>\n",
              "    </tr>\n",
              "    <tr>\n",
              "      <th>17</th>\n",
              "      <td>complaint-public-v2</td>\n",
              "      <td>complaint</td>\n",
              "      <td>3331023</td>\n",
              "      <td>0.0</td>\n",
              "      <td>None</td>\n",
              "      <td>770XX</td>\n",
              "      <td>3331023</td>\n",
              "      <td>Closing an account</td>\n",
              "      <td>2019-08-06T12:00:00-05:00</td>\n",
              "      <td>TX</td>\n",
              "      <td>...</td>\n",
              "      <td>Closed with explanation</td>\n",
              "      <td>JPMORGAN CHASE &amp; CO.</td>\n",
              "      <td>Web</td>\n",
              "      <td>2019-08-06T12:00:00-05:00</td>\n",
              "      <td>None</td>\n",
              "      <td>Checking account</td>\n",
              "      <td>Yes</td>\n",
              "      <td>With out notice J.P. Morgan Chase restricted m...</td>\n",
              "      <td>Funds not received from closed account</td>\n",
              "      <td>Consent provided</td>\n",
              "    </tr>\n",
              "    <tr>\n",
              "      <th>20</th>\n",
              "      <td>complaint-public-v2</td>\n",
              "      <td>complaint</td>\n",
              "      <td>3352857</td>\n",
              "      <td>0.0</td>\n",
              "      <td>None</td>\n",
              "      <td>207XX</td>\n",
              "      <td>3352857</td>\n",
              "      <td>Struggling to pay your loan</td>\n",
              "      <td>2019-08-24T12:00:00-05:00</td>\n",
              "      <td>MD</td>\n",
              "      <td>...</td>\n",
              "      <td>Closed with explanation</td>\n",
              "      <td>JPMORGAN CHASE &amp; CO.</td>\n",
              "      <td>Web</td>\n",
              "      <td>2019-08-24T12:00:00-05:00</td>\n",
              "      <td>None</td>\n",
              "      <td>Loan</td>\n",
              "      <td>Yes</td>\n",
              "      <td>During the summer months, I experience a decli...</td>\n",
              "      <td>Denied request to lower payments</td>\n",
              "      <td>Consent provided</td>\n",
              "    </tr>\n",
              "    <tr>\n",
              "      <th>21</th>\n",
              "      <td>complaint-public-v2</td>\n",
              "      <td>complaint</td>\n",
              "      <td>3226110</td>\n",
              "      <td>0.0</td>\n",
              "      <td>Servicemember</td>\n",
              "      <td>846XX</td>\n",
              "      <td>3226110</td>\n",
              "      <td>Fraud or scam</td>\n",
              "      <td>2019-04-29T12:00:00-05:00</td>\n",
              "      <td>UT</td>\n",
              "      <td>...</td>\n",
              "      <td>Closed with explanation</td>\n",
              "      <td>JPMORGAN CHASE &amp; CO.</td>\n",
              "      <td>Web</td>\n",
              "      <td>2019-04-29T12:00:00-05:00</td>\n",
              "      <td>None</td>\n",
              "      <td>Domestic (US) money transfer</td>\n",
              "      <td>Yes</td>\n",
              "      <td>On XXXX XX/XX/2019, I made a {$300.00} payment...</td>\n",
              "      <td>None</td>\n",
              "      <td>Consent provided</td>\n",
              "    </tr>\n",
              "    <tr>\n",
              "      <th>23</th>\n",
              "      <td>complaint-public-v2</td>\n",
              "      <td>complaint</td>\n",
              "      <td>3237765</td>\n",
              "      <td>0.0</td>\n",
              "      <td>None</td>\n",
              "      <td>330XX</td>\n",
              "      <td>3237765</td>\n",
              "      <td>Incorrect information on your report</td>\n",
              "      <td>2019-05-09T12:00:00-05:00</td>\n",
              "      <td>FL</td>\n",
              "      <td>...</td>\n",
              "      <td>Closed with non-monetary relief</td>\n",
              "      <td>JPMORGAN CHASE &amp; CO.</td>\n",
              "      <td>Web</td>\n",
              "      <td>2019-05-09T12:00:00-05:00</td>\n",
              "      <td>None</td>\n",
              "      <td>General-purpose credit card or charge card</td>\n",
              "      <td>Yes</td>\n",
              "      <td>I have a Chase credit card which is incorrectl...</td>\n",
              "      <td>Account information incorrect</td>\n",
              "      <td>Consent provided</td>\n",
              "    </tr>\n",
              "  </tbody>\n",
              "</table>\n",
              "<p>10 rows × 22 columns</p>\n",
              "</div>\n",
              "      <button class=\"colab-df-convert\" onclick=\"convertToInteractive('df-130fa0ee-5f96-4db7-af0e-df908b37533a')\"\n",
              "              title=\"Convert this dataframe to an interactive table.\"\n",
              "              style=\"display:none;\">\n",
              "        \n",
              "  <svg xmlns=\"http://www.w3.org/2000/svg\" height=\"24px\"viewBox=\"0 0 24 24\"\n",
              "       width=\"24px\">\n",
              "    <path d=\"M0 0h24v24H0V0z\" fill=\"none\"/>\n",
              "    <path d=\"M18.56 5.44l.94 2.06.94-2.06 2.06-.94-2.06-.94-.94-2.06-.94 2.06-2.06.94zm-11 1L8.5 8.5l.94-2.06 2.06-.94-2.06-.94L8.5 2.5l-.94 2.06-2.06.94zm10 10l.94 2.06.94-2.06 2.06-.94-2.06-.94-.94-2.06-.94 2.06-2.06.94z\"/><path d=\"M17.41 7.96l-1.37-1.37c-.4-.4-.92-.59-1.43-.59-.52 0-1.04.2-1.43.59L10.3 9.45l-7.72 7.72c-.78.78-.78 2.05 0 2.83L4 21.41c.39.39.9.59 1.41.59.51 0 1.02-.2 1.41-.59l7.78-7.78 2.81-2.81c.8-.78.8-2.07 0-2.86zM5.41 20L4 18.59l7.72-7.72 1.47 1.35L5.41 20z\"/>\n",
              "  </svg>\n",
              "      </button>\n",
              "      \n",
              "  <style>\n",
              "    .colab-df-container {\n",
              "      display:flex;\n",
              "      flex-wrap:wrap;\n",
              "      gap: 12px;\n",
              "    }\n",
              "\n",
              "    .colab-df-convert {\n",
              "      background-color: #E8F0FE;\n",
              "      border: none;\n",
              "      border-radius: 50%;\n",
              "      cursor: pointer;\n",
              "      display: none;\n",
              "      fill: #1967D2;\n",
              "      height: 32px;\n",
              "      padding: 0 0 0 0;\n",
              "      width: 32px;\n",
              "    }\n",
              "\n",
              "    .colab-df-convert:hover {\n",
              "      background-color: #E2EBFA;\n",
              "      box-shadow: 0px 1px 2px rgba(60, 64, 67, 0.3), 0px 1px 3px 1px rgba(60, 64, 67, 0.15);\n",
              "      fill: #174EA6;\n",
              "    }\n",
              "\n",
              "    [theme=dark] .colab-df-convert {\n",
              "      background-color: #3B4455;\n",
              "      fill: #D2E3FC;\n",
              "    }\n",
              "\n",
              "    [theme=dark] .colab-df-convert:hover {\n",
              "      background-color: #434B5C;\n",
              "      box-shadow: 0px 1px 3px 1px rgba(0, 0, 0, 0.15);\n",
              "      filter: drop-shadow(0px 1px 2px rgba(0, 0, 0, 0.3));\n",
              "      fill: #FFFFFF;\n",
              "    }\n",
              "  </style>\n",
              "\n",
              "      <script>\n",
              "        const buttonEl =\n",
              "          document.querySelector('#df-130fa0ee-5f96-4db7-af0e-df908b37533a button.colab-df-convert');\n",
              "        buttonEl.style.display =\n",
              "          google.colab.kernel.accessAllowed ? 'block' : 'none';\n",
              "\n",
              "        async function convertToInteractive(key) {\n",
              "          const element = document.querySelector('#df-130fa0ee-5f96-4db7-af0e-df908b37533a');\n",
              "          const dataTable =\n",
              "            await google.colab.kernel.invokeFunction('convertToInteractive',\n",
              "                                                     [key], {});\n",
              "          if (!dataTable) return;\n",
              "\n",
              "          const docLinkHtml = 'Like what you see? Visit the ' +\n",
              "            '<a target=\"_blank\" href=https://colab.research.google.com/notebooks/data_table.ipynb>data table notebook</a>'\n",
              "            + ' to learn more about interactive tables.';\n",
              "          element.innerHTML = '';\n",
              "          dataTable['output_type'] = 'display_data';\n",
              "          await google.colab.output.renderOutput(dataTable, element);\n",
              "          const docLink = document.createElement('div');\n",
              "          docLink.innerHTML = docLinkHtml;\n",
              "          element.appendChild(docLink);\n",
              "        }\n",
              "      </script>\n",
              "    </div>\n",
              "  </div>\n",
              "  "
            ]
          },
          "metadata": {},
          "execution_count": 17
        }
      ],
      "source": [
        "df.head(10)"
      ]
    },
    {
      "cell_type": "markdown",
      "metadata": {
        "id": "L944HZpsJrFy"
      },
      "source": [
        "## Prepare the text for topic modeling\n",
        "\n",
        "Once you have removed all the blank complaints, you need to:\n",
        "\n",
        "* Make the text lowercase\n",
        "* Remove text in square brackets\n",
        "* Remove punctuation\n",
        "* Remove words containing numbers\n",
        "\n",
        "\n",
        "Once you have done these cleaning operations you need to perform the following:\n",
        "* Lemmatize the texts\n",
        "* Extract the POS tags of the lemmatized text and remove all the words which have tags other than NN[tag == \"NN\"].\n"
      ]
    },
    {
      "cell_type": "code",
      "execution_count": 18,
      "metadata": {
        "id": "qm7SjjSkJrFz"
      },
      "outputs": [],
      "source": [
        "# Write your function here to clean the text and remove all the unnecessary elements.\n",
        "def clean_texts(text):\n",
        "  text = text.lower()\n",
        "\n",
        "  # to remove square brackets\n",
        "  text = re.sub(r'\\[.*?\\]','',text)\n",
        "  \n",
        "  # to remove punctations\n",
        "  text = text.translate(str.maketrans('', '', string.punctuation))\n",
        "\n",
        "  #to remove words containing numbers\n",
        "  text = re.sub(r'\\w*\\d\\w*','',text)\n",
        "\n",
        "  return text\n"
      ]
    },
    {
      "cell_type": "code",
      "execution_count": 19,
      "metadata": {
        "id": "0s20ykheTTVR"
      },
      "outputs": [],
      "source": [
        "# applying the clean text for complaints\n",
        "df['complaint_what_happened']= df['complaint_what_happened'].apply(lambda x: clean_texts(x))"
      ]
    },
    {
      "cell_type": "code",
      "execution_count": 20,
      "metadata": {
        "colab": {
          "base_uri": "https://localhost:8080/"
        },
        "id": "GQTRWFE2UV8o",
        "outputId": "3920e0fc-e90f-475b-b7fa-74d30bb878ff"
      },
      "outputs": [
        {
          "output_type": "execute_result",
          "data": {
            "text/plain": [
              "1     good morning my name is xxxx xxxx and i apprec...\n",
              "2     i upgraded my xxxx xxxx card in  and was told ...\n",
              "10    chase card was reported on  however fraudulent...\n",
              "11    on  while trying to book a xxxx  xxxx  ticket ...\n",
              "14    my grand son give me check for  i deposit it i...\n",
              "15                        can you please remove inquiry\n",
              "17    with out notice jp morgan chase restricted my ...\n",
              "20    during the summer months i experience a declin...\n",
              "21    on xxxx  i made a  payment to an online retail...\n",
              "23    i have a chase credit card which is incorrectl...\n",
              "Name: complaint_what_happened, dtype: object"
            ]
          },
          "metadata": {},
          "execution_count": 20
        }
      ],
      "source": [
        "# checking 10 rows of values\n",
        "\n",
        "df['complaint_what_happened'][:10]"
      ]
    },
    {
      "cell_type": "code",
      "source": [
        "# a function to lemmatize and POS removed\n",
        "def lemmatization_POS_removed(texts, allowed_postags=['NN']):\n",
        "    \"\"\"https://spacy.io/api/annotation\"\"\"\n",
        "    #texts_out = []\n",
        "\n",
        "    doc = nlp(texts)\n",
        "    \n",
        "    result = ' '.join([token.lemma_ for token in doc if token.tag_ in allowed_postags])\n",
        "    \n",
        "    return result"
      ],
      "metadata": {
        "id": "tpd8fc-kerDm"
      },
      "execution_count": 28,
      "outputs": []
    },
    {
      "cell_type": "code",
      "execution_count": 31,
      "metadata": {
        "id": "uXnN7aa_JrF0"
      },
      "outputs": [],
      "source": [
        "#Create a dataframe('df_clean') that will have only the complaints and the lemmatized complaints \n",
        "df_clean = df[['complaint_what_happened','Lemm_Complaints']]"
      ]
    },
    {
      "cell_type": "code",
      "execution_count": 32,
      "metadata": {
        "colab": {
          "base_uri": "https://localhost:8080/",
          "height": 206
        },
        "id": "nOiDVvEIJrF0",
        "outputId": "a0a6f56e-751f-4417-faca-d9fe1fa1d5a8"
      },
      "outputs": [
        {
          "output_type": "execute_result",
          "data": {
            "text/plain": [
              "                              complaint_what_happened  \\\n",
              "1   good morning my name is xxxx xxxx and i apprec...   \n",
              "2   i upgraded my xxxx xxxx card in  and was told ...   \n",
              "10  chase card was reported on  however fraudulent...   \n",
              "11  on  while trying to book a xxxx  xxxx  ticket ...   \n",
              "14  my grand son give me check for  i deposit it i...   \n",
              "\n",
              "                                      Lemm_Complaints  \n",
              "1   morning name stop debt verification statement ...  \n",
              "2   agent anniversary date agent information order...  \n",
              "10  chase card application identity consent credit...  \n",
              "11  ticket offer ticket card information offer min...  \n",
              "14  son check chase account fund chase bank accoun...  "
            ],
            "text/html": [
              "\n",
              "  <div id=\"df-b1de0c95-cafb-4b6d-a7a2-d66365457016\">\n",
              "    <div class=\"colab-df-container\">\n",
              "      <div>\n",
              "<style scoped>\n",
              "    .dataframe tbody tr th:only-of-type {\n",
              "        vertical-align: middle;\n",
              "    }\n",
              "\n",
              "    .dataframe tbody tr th {\n",
              "        vertical-align: top;\n",
              "    }\n",
              "\n",
              "    .dataframe thead th {\n",
              "        text-align: right;\n",
              "    }\n",
              "</style>\n",
              "<table border=\"1\" class=\"dataframe\">\n",
              "  <thead>\n",
              "    <tr style=\"text-align: right;\">\n",
              "      <th></th>\n",
              "      <th>complaint_what_happened</th>\n",
              "      <th>Lemm_Complaints</th>\n",
              "    </tr>\n",
              "  </thead>\n",
              "  <tbody>\n",
              "    <tr>\n",
              "      <th>1</th>\n",
              "      <td>good morning my name is xxxx xxxx and i apprec...</td>\n",
              "      <td>morning name stop debt verification statement ...</td>\n",
              "    </tr>\n",
              "    <tr>\n",
              "      <th>2</th>\n",
              "      <td>i upgraded my xxxx xxxx card in  and was told ...</td>\n",
              "      <td>agent anniversary date agent information order...</td>\n",
              "    </tr>\n",
              "    <tr>\n",
              "      <th>10</th>\n",
              "      <td>chase card was reported on  however fraudulent...</td>\n",
              "      <td>chase card application identity consent credit...</td>\n",
              "    </tr>\n",
              "    <tr>\n",
              "      <th>11</th>\n",
              "      <td>on  while trying to book a xxxx  xxxx  ticket ...</td>\n",
              "      <td>ticket offer ticket card information offer min...</td>\n",
              "    </tr>\n",
              "    <tr>\n",
              "      <th>14</th>\n",
              "      <td>my grand son give me check for  i deposit it i...</td>\n",
              "      <td>son check chase account fund chase bank accoun...</td>\n",
              "    </tr>\n",
              "  </tbody>\n",
              "</table>\n",
              "</div>\n",
              "      <button class=\"colab-df-convert\" onclick=\"convertToInteractive('df-b1de0c95-cafb-4b6d-a7a2-d66365457016')\"\n",
              "              title=\"Convert this dataframe to an interactive table.\"\n",
              "              style=\"display:none;\">\n",
              "        \n",
              "  <svg xmlns=\"http://www.w3.org/2000/svg\" height=\"24px\"viewBox=\"0 0 24 24\"\n",
              "       width=\"24px\">\n",
              "    <path d=\"M0 0h24v24H0V0z\" fill=\"none\"/>\n",
              "    <path d=\"M18.56 5.44l.94 2.06.94-2.06 2.06-.94-2.06-.94-.94-2.06-.94 2.06-2.06.94zm-11 1L8.5 8.5l.94-2.06 2.06-.94-2.06-.94L8.5 2.5l-.94 2.06-2.06.94zm10 10l.94 2.06.94-2.06 2.06-.94-2.06-.94-.94-2.06-.94 2.06-2.06.94z\"/><path d=\"M17.41 7.96l-1.37-1.37c-.4-.4-.92-.59-1.43-.59-.52 0-1.04.2-1.43.59L10.3 9.45l-7.72 7.72c-.78.78-.78 2.05 0 2.83L4 21.41c.39.39.9.59 1.41.59.51 0 1.02-.2 1.41-.59l7.78-7.78 2.81-2.81c.8-.78.8-2.07 0-2.86zM5.41 20L4 18.59l7.72-7.72 1.47 1.35L5.41 20z\"/>\n",
              "  </svg>\n",
              "      </button>\n",
              "      \n",
              "  <style>\n",
              "    .colab-df-container {\n",
              "      display:flex;\n",
              "      flex-wrap:wrap;\n",
              "      gap: 12px;\n",
              "    }\n",
              "\n",
              "    .colab-df-convert {\n",
              "      background-color: #E8F0FE;\n",
              "      border: none;\n",
              "      border-radius: 50%;\n",
              "      cursor: pointer;\n",
              "      display: none;\n",
              "      fill: #1967D2;\n",
              "      height: 32px;\n",
              "      padding: 0 0 0 0;\n",
              "      width: 32px;\n",
              "    }\n",
              "\n",
              "    .colab-df-convert:hover {\n",
              "      background-color: #E2EBFA;\n",
              "      box-shadow: 0px 1px 2px rgba(60, 64, 67, 0.3), 0px 1px 3px 1px rgba(60, 64, 67, 0.15);\n",
              "      fill: #174EA6;\n",
              "    }\n",
              "\n",
              "    [theme=dark] .colab-df-convert {\n",
              "      background-color: #3B4455;\n",
              "      fill: #D2E3FC;\n",
              "    }\n",
              "\n",
              "    [theme=dark] .colab-df-convert:hover {\n",
              "      background-color: #434B5C;\n",
              "      box-shadow: 0px 1px 3px 1px rgba(0, 0, 0, 0.15);\n",
              "      filter: drop-shadow(0px 1px 2px rgba(0, 0, 0, 0.3));\n",
              "      fill: #FFFFFF;\n",
              "    }\n",
              "  </style>\n",
              "\n",
              "      <script>\n",
              "        const buttonEl =\n",
              "          document.querySelector('#df-b1de0c95-cafb-4b6d-a7a2-d66365457016 button.colab-df-convert');\n",
              "        buttonEl.style.display =\n",
              "          google.colab.kernel.accessAllowed ? 'block' : 'none';\n",
              "\n",
              "        async function convertToInteractive(key) {\n",
              "          const element = document.querySelector('#df-b1de0c95-cafb-4b6d-a7a2-d66365457016');\n",
              "          const dataTable =\n",
              "            await google.colab.kernel.invokeFunction('convertToInteractive',\n",
              "                                                     [key], {});\n",
              "          if (!dataTable) return;\n",
              "\n",
              "          const docLinkHtml = 'Like what you see? Visit the ' +\n",
              "            '<a target=\"_blank\" href=https://colab.research.google.com/notebooks/data_table.ipynb>data table notebook</a>'\n",
              "            + ' to learn more about interactive tables.';\n",
              "          element.innerHTML = '';\n",
              "          dataTable['output_type'] = 'display_data';\n",
              "          await google.colab.output.renderOutput(dataTable, element);\n",
              "          const docLink = document.createElement('div');\n",
              "          docLink.innerHTML = docLinkHtml;\n",
              "          element.appendChild(docLink);\n",
              "        }\n",
              "      </script>\n",
              "    </div>\n",
              "  </div>\n",
              "  "
            ]
          },
          "metadata": {},
          "execution_count": 32
        }
      ],
      "source": [
        "df_clean.head()"
      ]
    },
    {
      "cell_type": "code",
      "execution_count": 35,
      "metadata": {
        "id": "Kk7fc4DuJrF1"
      },
      "outputs": [],
      "source": [
        "#Write your function to extract the POS tags \n",
        "\n",
        "def pos_tag(text):\n",
        "  # write your code here\n",
        "  nn_words = []\n",
        "  doc = nlp(text)\n",
        "  for tok in doc:\n",
        "      if(tok.tag_ == 'NN'):\n",
        "        nn_words.append(tok.lemma_)\n",
        "  nn_words_str = \" \".join(nn_words)\n",
        "  return nn_words_str\n",
        "\n",
        "\n",
        "#this column should contain lemmatized text with all the words removed which have tags other than NN[tag == \"NN\"].\n",
        "df_clean[\"complaint_POS_removed\"] =  df_clean.apply(lambda x: pos_tag(x['Lemm_Complaints']), axis=1)\n",
        "\n"
      ]
    },
    {
      "cell_type": "code",
      "execution_count": 36,
      "metadata": {
        "colab": {
          "base_uri": "https://localhost:8080/",
          "height": 206
        },
        "id": "AjxfchvFJrF2",
        "outputId": "b87bb425-a0c0-48f9-af60-6685d635d6db"
      },
      "outputs": [
        {
          "output_type": "execute_result",
          "data": {
            "text/plain": [
              "                              complaint_what_happened  \\\n",
              "1   good morning my name is xxxx xxxx and i apprec...   \n",
              "2   i upgraded my xxxx xxxx card in  and was told ...   \n",
              "10  chase card was reported on  however fraudulent...   \n",
              "11  on  while trying to book a xxxx  xxxx  ticket ...   \n",
              "14  my grand son give me check for  i deposit it i...   \n",
              "\n",
              "                                      Lemm_Complaints  \\\n",
              "1   morning name stop debt verification statement ...   \n",
              "2   agent anniversary date agent information order...   \n",
              "10  chase card application identity consent credit...   \n",
              "11  ticket offer ticket card information offer min...   \n",
              "14  son check chase account fund chase bank accoun...   \n",
              "\n",
              "                                complaint_POS_removed  \n",
              "1   morning name debt verification statement bank ...  \n",
              "2   agent anniversary date agent information order...  \n",
              "10  chase card application identity consent credit...  \n",
              "11  ticket offer ticket card information minute sc...  \n",
              "14  account money son money bank check owner count...  "
            ],
            "text/html": [
              "\n",
              "  <div id=\"df-f84a9642-1675-4258-bbc2-277874b8c9ff\">\n",
              "    <div class=\"colab-df-container\">\n",
              "      <div>\n",
              "<style scoped>\n",
              "    .dataframe tbody tr th:only-of-type {\n",
              "        vertical-align: middle;\n",
              "    }\n",
              "\n",
              "    .dataframe tbody tr th {\n",
              "        vertical-align: top;\n",
              "    }\n",
              "\n",
              "    .dataframe thead th {\n",
              "        text-align: right;\n",
              "    }\n",
              "</style>\n",
              "<table border=\"1\" class=\"dataframe\">\n",
              "  <thead>\n",
              "    <tr style=\"text-align: right;\">\n",
              "      <th></th>\n",
              "      <th>complaint_what_happened</th>\n",
              "      <th>Lemm_Complaints</th>\n",
              "      <th>complaint_POS_removed</th>\n",
              "    </tr>\n",
              "  </thead>\n",
              "  <tbody>\n",
              "    <tr>\n",
              "      <th>1</th>\n",
              "      <td>good morning my name is xxxx xxxx and i apprec...</td>\n",
              "      <td>morning name stop debt verification statement ...</td>\n",
              "      <td>morning name debt verification statement bank ...</td>\n",
              "    </tr>\n",
              "    <tr>\n",
              "      <th>2</th>\n",
              "      <td>i upgraded my xxxx xxxx card in  and was told ...</td>\n",
              "      <td>agent anniversary date agent information order...</td>\n",
              "      <td>agent anniversary date agent information order...</td>\n",
              "    </tr>\n",
              "    <tr>\n",
              "      <th>10</th>\n",
              "      <td>chase card was reported on  however fraudulent...</td>\n",
              "      <td>chase card application identity consent credit...</td>\n",
              "      <td>chase card application identity consent credit...</td>\n",
              "    </tr>\n",
              "    <tr>\n",
              "      <th>11</th>\n",
              "      <td>on  while trying to book a xxxx  xxxx  ticket ...</td>\n",
              "      <td>ticket offer ticket card information offer min...</td>\n",
              "      <td>ticket offer ticket card information minute sc...</td>\n",
              "    </tr>\n",
              "    <tr>\n",
              "      <th>14</th>\n",
              "      <td>my grand son give me check for  i deposit it i...</td>\n",
              "      <td>son check chase account fund chase bank accoun...</td>\n",
              "      <td>account money son money bank check owner count...</td>\n",
              "    </tr>\n",
              "  </tbody>\n",
              "</table>\n",
              "</div>\n",
              "      <button class=\"colab-df-convert\" onclick=\"convertToInteractive('df-f84a9642-1675-4258-bbc2-277874b8c9ff')\"\n",
              "              title=\"Convert this dataframe to an interactive table.\"\n",
              "              style=\"display:none;\">\n",
              "        \n",
              "  <svg xmlns=\"http://www.w3.org/2000/svg\" height=\"24px\"viewBox=\"0 0 24 24\"\n",
              "       width=\"24px\">\n",
              "    <path d=\"M0 0h24v24H0V0z\" fill=\"none\"/>\n",
              "    <path d=\"M18.56 5.44l.94 2.06.94-2.06 2.06-.94-2.06-.94-.94-2.06-.94 2.06-2.06.94zm-11 1L8.5 8.5l.94-2.06 2.06-.94-2.06-.94L8.5 2.5l-.94 2.06-2.06.94zm10 10l.94 2.06.94-2.06 2.06-.94-2.06-.94-.94-2.06-.94 2.06-2.06.94z\"/><path d=\"M17.41 7.96l-1.37-1.37c-.4-.4-.92-.59-1.43-.59-.52 0-1.04.2-1.43.59L10.3 9.45l-7.72 7.72c-.78.78-.78 2.05 0 2.83L4 21.41c.39.39.9.59 1.41.59.51 0 1.02-.2 1.41-.59l7.78-7.78 2.81-2.81c.8-.78.8-2.07 0-2.86zM5.41 20L4 18.59l7.72-7.72 1.47 1.35L5.41 20z\"/>\n",
              "  </svg>\n",
              "      </button>\n",
              "      \n",
              "  <style>\n",
              "    .colab-df-container {\n",
              "      display:flex;\n",
              "      flex-wrap:wrap;\n",
              "      gap: 12px;\n",
              "    }\n",
              "\n",
              "    .colab-df-convert {\n",
              "      background-color: #E8F0FE;\n",
              "      border: none;\n",
              "      border-radius: 50%;\n",
              "      cursor: pointer;\n",
              "      display: none;\n",
              "      fill: #1967D2;\n",
              "      height: 32px;\n",
              "      padding: 0 0 0 0;\n",
              "      width: 32px;\n",
              "    }\n",
              "\n",
              "    .colab-df-convert:hover {\n",
              "      background-color: #E2EBFA;\n",
              "      box-shadow: 0px 1px 2px rgba(60, 64, 67, 0.3), 0px 1px 3px 1px rgba(60, 64, 67, 0.15);\n",
              "      fill: #174EA6;\n",
              "    }\n",
              "\n",
              "    [theme=dark] .colab-df-convert {\n",
              "      background-color: #3B4455;\n",
              "      fill: #D2E3FC;\n",
              "    }\n",
              "\n",
              "    [theme=dark] .colab-df-convert:hover {\n",
              "      background-color: #434B5C;\n",
              "      box-shadow: 0px 1px 3px 1px rgba(0, 0, 0, 0.15);\n",
              "      filter: drop-shadow(0px 1px 2px rgba(0, 0, 0, 0.3));\n",
              "      fill: #FFFFFF;\n",
              "    }\n",
              "  </style>\n",
              "\n",
              "      <script>\n",
              "        const buttonEl =\n",
              "          document.querySelector('#df-f84a9642-1675-4258-bbc2-277874b8c9ff button.colab-df-convert');\n",
              "        buttonEl.style.display =\n",
              "          google.colab.kernel.accessAllowed ? 'block' : 'none';\n",
              "\n",
              "        async function convertToInteractive(key) {\n",
              "          const element = document.querySelector('#df-f84a9642-1675-4258-bbc2-277874b8c9ff');\n",
              "          const dataTable =\n",
              "            await google.colab.kernel.invokeFunction('convertToInteractive',\n",
              "                                                     [key], {});\n",
              "          if (!dataTable) return;\n",
              "\n",
              "          const docLinkHtml = 'Like what you see? Visit the ' +\n",
              "            '<a target=\"_blank\" href=https://colab.research.google.com/notebooks/data_table.ipynb>data table notebook</a>'\n",
              "            + ' to learn more about interactive tables.';\n",
              "          element.innerHTML = '';\n",
              "          dataTable['output_type'] = 'display_data';\n",
              "          await google.colab.output.renderOutput(dataTable, element);\n",
              "          const docLink = document.createElement('div');\n",
              "          docLink.innerHTML = docLinkHtml;\n",
              "          element.appendChild(docLink);\n",
              "        }\n",
              "      </script>\n",
              "    </div>\n",
              "  </div>\n",
              "  "
            ]
          },
          "metadata": {},
          "execution_count": 36
        }
      ],
      "source": [
        "#The clean dataframe should now contain the raw complaint, lemmatized complaint and the complaint after removing POS tags.\n",
        "df_clean.head()"
      ]
    },
    {
      "cell_type": "code",
      "source": [
        "df_clean.shape"
      ],
      "metadata": {
        "colab": {
          "base_uri": "https://localhost:8080/"
        },
        "id": "gsRbVKC0_LoP",
        "outputId": "ed329913-eb34-47da-c611-da0e82409cc3"
      },
      "execution_count": 37,
      "outputs": [
        {
          "output_type": "execute_result",
          "data": {
            "text/plain": [
              "(21072, 3)"
            ]
          },
          "metadata": {},
          "execution_count": 37
        }
      ]
    },
    {
      "cell_type": "markdown",
      "metadata": {
        "id": "_7Un1AElJrF2"
      },
      "source": [
        "## Exploratory data analysis to get familiar with the data.\n",
        "\n",
        "Write the code in this task to perform the following:\n",
        "\n",
        "*   Visualise the data according to the 'Complaint' character length\n",
        "*   Using a word cloud find the top 40 words by frequency among all the articles after processing the text\n",
        "*   Find the top unigrams,bigrams and trigrams by frequency among all the complaints after processing the text. ‘\n",
        "\n",
        "\n"
      ]
    },
    {
      "cell_type": "code",
      "execution_count": 38,
      "metadata": {
        "colab": {
          "base_uri": "https://localhost:8080/"
        },
        "id": "q-zaqJF6JrF2",
        "outputId": "dfe6eaa1-515a-405e-c368-e9419890becc"
      },
      "outputs": [
        {
          "output_type": "execute_result",
          "data": {
            "text/plain": [
              "[114, 95, 65, 339, 90, 7, 329, 413, 850, 45]"
            ]
          },
          "metadata": {},
          "execution_count": 38
        }
      ],
      "source": [
        "# Write your code here to visualise the data according to the 'Complaint' character length\n",
        "char_len=[len(x) for x in df_clean['complaint_POS_removed']]\n",
        "char_len[:10]"
      ]
    },
    {
      "cell_type": "code",
      "execution_count": 39,
      "metadata": {
        "colab": {
          "base_uri": "https://localhost:8080/",
          "height": 439
        },
        "id": "EjXaNAfte6PD",
        "outputId": "1acb22af-7b49-4847-fc97-d281c545e487"
      },
      "outputs": [
        {
          "output_type": "execute_result",
          "data": {
            "text/plain": [
              "Text(0, 0.5, 'No. of Complaints')"
            ]
          },
          "metadata": {},
          "execution_count": 39
        },
        {
          "output_type": "display_data",
          "data": {
            "text/plain": [
              "<Figure size 720x432 with 1 Axes>"
            ],
            "image/png": "[encoded data removed]"
          },
          "metadata": {
            "needs_background": "light"
          }
        }
      ],
      "source": [
        "plt.figure(figsize=[10,6])\n",
        "sns.histplot(data = char_len,bins=50)\n",
        "plt.title('Distribution of Complaint Character Length', fontsize=25)\n",
        "plt.xlabel('Complaint Character Length',size=20)\n",
        "plt.ylabel('No. of Complaints',size=20)"
      ]
    },
    {
      "cell_type": "markdown",
      "metadata": {
        "id": "T9jD_6SeJrF3"
      },
      "source": [
        "#### Find the top 40 words by frequency among all the articles after processing the text."
      ]
    },
    {
      "cell_type": "code",
      "execution_count": 40,
      "metadata": {
        "colab": {
          "base_uri": "https://localhost:8080/",
          "height": 466
        },
        "id": "QcfdvtfZJrF3",
        "outputId": "e0311ee2-a170-412e-c889-7da455781b86"
      },
      "outputs": [
        {
          "output_type": "display_data",
          "data": {
            "text/plain": [
              "<Figure size 576x576 with 1 Axes>"
            ],
            "image/png": "[encoded data removed]"
          },
          "metadata": {
            "needs_background": "light"
          }
        }
      ],
      "source": [
        "#Using a word cloud find the top 40 words by frequency among all the articles after processing the text\n",
        "comment_words = ''\n",
        "stopwords = set(STOPWORDS)\n",
        "\n",
        "wordcloud = WordCloud(width = 800, height = 800,\n",
        "                background_color ='white',\n",
        "                stopwords = stopwords,\n",
        "                min_font_size = 10).generate(str(df_clean['complaint_POS_removed']))\n",
        "\n",
        "fig = plt.figure(figsize = (8,8))\n",
        "plt.imshow(wordcloud)\n",
        "plt.axis('off')\n",
        "plt.show()\n"
      ]
    },
    {
      "cell_type": "code",
      "execution_count": 41,
      "metadata": {
        "id": "OkSmc3UaJrF4"
      },
      "outputs": [],
      "source": [
        "#Removing -PRON- from the text corpus\n",
        "df_clean['Complaint_clean'] = df_clean['complaint_POS_removed'].str.replace('-PRON-', '')"
      ]
    },
    {
      "cell_type": "code",
      "source": [
        "#checking the size\n",
        "df_clean.shape"
      ],
      "metadata": {
        "colab": {
          "base_uri": "https://localhost:8080/"
        },
        "id": "F9xcS8K1_Un5",
        "outputId": "9b42f1dc-2ebf-405d-fbcb-817dd8b37b07"
      },
      "execution_count": 42,
      "outputs": [
        {
          "output_type": "execute_result",
          "data": {
            "text/plain": [
              "(21072, 4)"
            ]
          },
          "metadata": {},
          "execution_count": 42
        }
      ]
    },
    {
      "cell_type": "markdown",
      "metadata": {
        "id": "5DfCSbbmJrF4"
      },
      "source": [
        "#### Find the top unigrams,bigrams and trigrams by frequency among all the complaints after processing the text."
      ]
    },
    {
      "cell_type": "code",
      "execution_count": 43,
      "metadata": {
        "colab": {
          "base_uri": "https://localhost:8080/"
        },
        "id": "okfnyXZlnLsI",
        "outputId": "8ffad32d-14de-4c85-978b-4434c522bcee"
      },
      "outputs": [
        {
          "output_type": "stream",
          "name": "stderr",
          "text": [
            "[nltk_data] Downloading package stopwords to /root/nltk_data...\n",
            "[nltk_data]   Package stopwords is already up-to-date!\n"
          ]
        },
        {
          "output_type": "execute_result",
          "data": {
            "text/plain": [
              "True"
            ]
          },
          "metadata": {},
          "execution_count": 43
        }
      ],
      "source": []
    },
    {
      "cell_type": "code",
      "execution_count": 44,
      "metadata": {
        "id": "5mbk5DS5JrF4"
      },
      "outputs": [],
      "source": [
        "#Write your code here to find the top 30 unigram frequency among the complaints in the cleaned datafram(df_clean). \n",
        "\n",
        "def top_grams(grams,n=30):\n",
        "    vector = CountVectorizer(ngram_range=(grams,grams), stop_words='english').fit(df_clean['Complaint_clean'])\n",
        "    bag_of_words = vector.transform(df_clean['Complaint_clean'])\n",
        "    sum_of_words = bag_of_words.sum(axis=0) \n",
        "    word_freq = [(word, sum_of_words[0, idx]) for word, idx in vector.vocabulary_.items()]\n",
        "    word_freq =sorted(word_freq, key = lambda x: x[1], reverse=True)\n",
        "    return word_freq[:n]"
      ]
    },
    {
      "cell_type": "code",
      "execution_count": 45,
      "metadata": {
        "colab": {
          "base_uri": "https://localhost:8080/",
          "height": 363
        },
        "id": "BW-TeNXpk29a",
        "outputId": "470e57d9-5b9e-49bf-9e5e-030b9f221775"
      },
      "outputs": [
        {
          "output_type": "execute_result",
          "data": {
            "text/plain": [
              "       unigram  count\n",
              "0        chase  54558\n",
              "1      account  34984\n",
              "2       credit  31312\n",
              "3         card  25991\n",
              "4      payment  13754\n",
              "5         time  11503\n",
              "6        money  11392\n",
              "7         loan   9410\n",
              "8  information   9246\n",
              "9         bank   8361"
            ],
            "text/html": [
              "\n",
              "  <div id=\"df-ef100c32-a9fb-47a9-87b5-863723634a9e\">\n",
              "    <div class=\"colab-df-container\">\n",
              "      <div>\n",
              "<style scoped>\n",
              "    .dataframe tbody tr th:only-of-type {\n",
              "        vertical-align: middle;\n",
              "    }\n",
              "\n",
              "    .dataframe tbody tr th {\n",
              "        vertical-align: top;\n",
              "    }\n",
              "\n",
              "    .dataframe thead th {\n",
              "        text-align: right;\n",
              "    }\n",
              "</style>\n",
              "<table border=\"1\" class=\"dataframe\">\n",
              "  <thead>\n",
              "    <tr style=\"text-align: right;\">\n",
              "      <th></th>\n",
              "      <th>unigram</th>\n",
              "      <th>count</th>\n",
              "    </tr>\n",
              "  </thead>\n",
              "  <tbody>\n",
              "    <tr>\n",
              "      <th>0</th>\n",
              "      <td>chase</td>\n",
              "      <td>54558</td>\n",
              "    </tr>\n",
              "    <tr>\n",
              "      <th>1</th>\n",
              "      <td>account</td>\n",
              "      <td>34984</td>\n",
              "    </tr>\n",
              "    <tr>\n",
              "      <th>2</th>\n",
              "      <td>credit</td>\n",
              "      <td>31312</td>\n",
              "    </tr>\n",
              "    <tr>\n",
              "      <th>3</th>\n",
              "      <td>card</td>\n",
              "      <td>25991</td>\n",
              "    </tr>\n",
              "    <tr>\n",
              "      <th>4</th>\n",
              "      <td>payment</td>\n",
              "      <td>13754</td>\n",
              "    </tr>\n",
              "    <tr>\n",
              "      <th>5</th>\n",
              "      <td>time</td>\n",
              "      <td>11503</td>\n",
              "    </tr>\n",
              "    <tr>\n",
              "      <th>6</th>\n",
              "      <td>money</td>\n",
              "      <td>11392</td>\n",
              "    </tr>\n",
              "    <tr>\n",
              "      <th>7</th>\n",
              "      <td>loan</td>\n",
              "      <td>9410</td>\n",
              "    </tr>\n",
              "    <tr>\n",
              "      <th>8</th>\n",
              "      <td>information</td>\n",
              "      <td>9246</td>\n",
              "    </tr>\n",
              "    <tr>\n",
              "      <th>9</th>\n",
              "      <td>bank</td>\n",
              "      <td>8361</td>\n",
              "    </tr>\n",
              "  </tbody>\n",
              "</table>\n",
              "</div>\n",
              "      <button class=\"colab-df-convert\" onclick=\"convertToInteractive('df-ef100c32-a9fb-47a9-87b5-863723634a9e')\"\n",
              "              title=\"Convert this dataframe to an interactive table.\"\n",
              "              style=\"display:none;\">\n",
              "        \n",
              "  <svg xmlns=\"http://www.w3.org/2000/svg\" height=\"24px\"viewBox=\"0 0 24 24\"\n",
              "       width=\"24px\">\n",
              "    <path d=\"M0 0h24v24H0V0z\" fill=\"none\"/>\n",
              "    <path d=\"M18.56 5.44l.94 2.06.94-2.06 2.06-.94-2.06-.94-.94-2.06-.94 2.06-2.06.94zm-11 1L8.5 8.5l.94-2.06 2.06-.94-2.06-.94L8.5 2.5l-.94 2.06-2.06.94zm10 10l.94 2.06.94-2.06 2.06-.94-2.06-.94-.94-2.06-.94 2.06-2.06.94z\"/><path d=\"M17.41 7.96l-1.37-1.37c-.4-.4-.92-.59-1.43-.59-.52 0-1.04.2-1.43.59L10.3 9.45l-7.72 7.72c-.78.78-.78 2.05 0 2.83L4 21.41c.39.39.9.59 1.41.59.51 0 1.02-.2 1.41-.59l7.78-7.78 2.81-2.81c.8-.78.8-2.07 0-2.86zM5.41 20L4 18.59l7.72-7.72 1.47 1.35L5.41 20z\"/>\n",
              "  </svg>\n",
              "      </button>\n",
              "      \n",
              "  <style>\n",
              "    .colab-df-container {\n",
              "      display:flex;\n",
              "      flex-wrap:wrap;\n",
              "      gap: 12px;\n",
              "    }\n",
              "\n",
              "    .colab-df-convert {\n",
              "      background-color: #E8F0FE;\n",
              "      border: none;\n",
              "      border-radius: 50%;\n",
              "      cursor: pointer;\n",
              "      display: none;\n",
              "      fill: #1967D2;\n",
              "      height: 32px;\n",
              "      padding: 0 0 0 0;\n",
              "      width: 32px;\n",
              "    }\n",
              "\n",
              "    .colab-df-convert:hover {\n",
              "      background-color: #E2EBFA;\n",
              "      box-shadow: 0px 1px 2px rgba(60, 64, 67, 0.3), 0px 1px 3px 1px rgba(60, 64, 67, 0.15);\n",
              "      fill: #174EA6;\n",
              "    }\n",
              "\n",
              "    [theme=dark] .colab-df-convert {\n",
              "      background-color: #3B4455;\n",
              "      fill: #D2E3FC;\n",
              "    }\n",
              "\n",
              "    [theme=dark] .colab-df-convert:hover {\n",
              "      background-color: #434B5C;\n",
              "      box-shadow: 0px 1px 3px 1px rgba(0, 0, 0, 0.15);\n",
              "      filter: drop-shadow(0px 1px 2px rgba(0, 0, 0, 0.3));\n",
              "      fill: #FFFFFF;\n",
              "    }\n",
              "  </style>\n",
              "\n",
              "      <script>\n",
              "        const buttonEl =\n",
              "          document.querySelector('#df-ef100c32-a9fb-47a9-87b5-863723634a9e button.colab-df-convert');\n",
              "        buttonEl.style.display =\n",
              "          google.colab.kernel.accessAllowed ? 'block' : 'none';\n",
              "\n",
              "        async function convertToInteractive(key) {\n",
              "          const element = document.querySelector('#df-ef100c32-a9fb-47a9-87b5-863723634a9e');\n",
              "          const dataTable =\n",
              "            await google.colab.kernel.invokeFunction('convertToInteractive',\n",
              "                                                     [key], {});\n",
              "          if (!dataTable) return;\n",
              "\n",
              "          const docLinkHtml = 'Like what you see? Visit the ' +\n",
              "            '<a target=\"_blank\" href=https://colab.research.google.com/notebooks/data_table.ipynb>data table notebook</a>'\n",
              "            + ' to learn more about interactive tables.';\n",
              "          element.innerHTML = '';\n",
              "          dataTable['output_type'] = 'display_data';\n",
              "          await google.colab.output.renderOutput(dataTable, element);\n",
              "          const docLink = document.createElement('div');\n",
              "          docLink.innerHTML = docLinkHtml;\n",
              "          element.appendChild(docLink);\n",
              "        }\n",
              "      </script>\n",
              "    </div>\n",
              "  </div>\n",
              "  "
            ]
          },
          "metadata": {},
          "execution_count": 45
        }
      ],
      "source": [
        "#Print the top 10 words in the unigram frequency\n",
        "\n",
        "df_unigram = pd.DataFrame(top_grams(1),columns = ['unigram' , 'count'])\n",
        "df_unigram.head(10)"
      ]
    },
    {
      "cell_type": "code",
      "execution_count": 46,
      "metadata": {
        "colab": {
          "base_uri": "https://localhost:8080/",
          "height": 363
        },
        "id": "NPnMNIpyJrF9",
        "outputId": "176d0c7d-aab0-43bb-ca8e-4f30da42a77e"
      },
      "outputs": [
        {
          "output_type": "execute_result",
          "data": {
            "text/plain": [
              "             bigram  count\n",
              "0       credit card  10770\n",
              "1      chase credit   4088\n",
              "2     account chase   3423\n",
              "3     chase account   3157\n",
              "4     credit report   2964\n",
              "5   account account   2922\n",
              "6  customer service   2765\n",
              "7       chase chase   2482\n",
              "8        card chase   2171\n",
              "9        chase card   1860"
            ],
            "text/html": [
              "\n",
              "  <div id=\"df-174aad35-cb54-477e-8224-def43745acdd\">\n",
              "    <div class=\"colab-df-container\">\n",
              "      <div>\n",
              "<style scoped>\n",
              "    .dataframe tbody tr th:only-of-type {\n",
              "        vertical-align: middle;\n",
              "    }\n",
              "\n",
              "    .dataframe tbody tr th {\n",
              "        vertical-align: top;\n",
              "    }\n",
              "\n",
              "    .dataframe thead th {\n",
              "        text-align: right;\n",
              "    }\n",
              "</style>\n",
              "<table border=\"1\" class=\"dataframe\">\n",
              "  <thead>\n",
              "    <tr style=\"text-align: right;\">\n",
              "      <th></th>\n",
              "      <th>bigram</th>\n",
              "      <th>count</th>\n",
              "    </tr>\n",
              "  </thead>\n",
              "  <tbody>\n",
              "    <tr>\n",
              "      <th>0</th>\n",
              "      <td>credit card</td>\n",
              "      <td>10770</td>\n",
              "    </tr>\n",
              "    <tr>\n",
              "      <th>1</th>\n",
              "      <td>chase credit</td>\n",
              "      <td>4088</td>\n",
              "    </tr>\n",
              "    <tr>\n",
              "      <th>2</th>\n",
              "      <td>account chase</td>\n",
              "      <td>3423</td>\n",
              "    </tr>\n",
              "    <tr>\n",
              "      <th>3</th>\n",
              "      <td>chase account</td>\n",
              "      <td>3157</td>\n",
              "    </tr>\n",
              "    <tr>\n",
              "      <th>4</th>\n",
              "      <td>credit report</td>\n",
              "      <td>2964</td>\n",
              "    </tr>\n",
              "    <tr>\n",
              "      <th>5</th>\n",
              "      <td>account account</td>\n",
              "      <td>2922</td>\n",
              "    </tr>\n",
              "    <tr>\n",
              "      <th>6</th>\n",
              "      <td>customer service</td>\n",
              "      <td>2765</td>\n",
              "    </tr>\n",
              "    <tr>\n",
              "      <th>7</th>\n",
              "      <td>chase chase</td>\n",
              "      <td>2482</td>\n",
              "    </tr>\n",
              "    <tr>\n",
              "      <th>8</th>\n",
              "      <td>card chase</td>\n",
              "      <td>2171</td>\n",
              "    </tr>\n",
              "    <tr>\n",
              "      <th>9</th>\n",
              "      <td>chase card</td>\n",
              "      <td>1860</td>\n",
              "    </tr>\n",
              "  </tbody>\n",
              "</table>\n",
              "</div>\n",
              "      <button class=\"colab-df-convert\" onclick=\"convertToInteractive('df-174aad35-cb54-477e-8224-def43745acdd')\"\n",
              "              title=\"Convert this dataframe to an interactive table.\"\n",
              "              style=\"display:none;\">\n",
              "        \n",
              "  <svg xmlns=\"http://www.w3.org/2000/svg\" height=\"24px\"viewBox=\"0 0 24 24\"\n",
              "       width=\"24px\">\n",
              "    <path d=\"M0 0h24v24H0V0z\" fill=\"none\"/>\n",
              "    <path d=\"M18.56 5.44l.94 2.06.94-2.06 2.06-.94-2.06-.94-.94-2.06-.94 2.06-2.06.94zm-11 1L8.5 8.5l.94-2.06 2.06-.94-2.06-.94L8.5 2.5l-.94 2.06-2.06.94zm10 10l.94 2.06.94-2.06 2.06-.94-2.06-.94-.94-2.06-.94 2.06-2.06.94z\"/><path d=\"M17.41 7.96l-1.37-1.37c-.4-.4-.92-.59-1.43-.59-.52 0-1.04.2-1.43.59L10.3 9.45l-7.72 7.72c-.78.78-.78 2.05 0 2.83L4 21.41c.39.39.9.59 1.41.59.51 0 1.02-.2 1.41-.59l7.78-7.78 2.81-2.81c.8-.78.8-2.07 0-2.86zM5.41 20L4 18.59l7.72-7.72 1.47 1.35L5.41 20z\"/>\n",
              "  </svg>\n",
              "      </button>\n",
              "      \n",
              "  <style>\n",
              "    .colab-df-container {\n",
              "      display:flex;\n",
              "      flex-wrap:wrap;\n",
              "      gap: 12px;\n",
              "    }\n",
              "\n",
              "    .colab-df-convert {\n",
              "      background-color: #E8F0FE;\n",
              "      border: none;\n",
              "      border-radius: 50%;\n",
              "      cursor: pointer;\n",
              "      display: none;\n",
              "      fill: #1967D2;\n",
              "      height: 32px;\n",
              "      padding: 0 0 0 0;\n",
              "      width: 32px;\n",
              "    }\n",
              "\n",
              "    .colab-df-convert:hover {\n",
              "      background-color: #E2EBFA;\n",
              "      box-shadow: 0px 1px 2px rgba(60, 64, 67, 0.3), 0px 1px 3px 1px rgba(60, 64, 67, 0.15);\n",
              "      fill: #174EA6;\n",
              "    }\n",
              "\n",
              "    [theme=dark] .colab-df-convert {\n",
              "      background-color: #3B4455;\n",
              "      fill: #D2E3FC;\n",
              "    }\n",
              "\n",
              "    [theme=dark] .colab-df-convert:hover {\n",
              "      background-color: #434B5C;\n",
              "      box-shadow: 0px 1px 3px 1px rgba(0, 0, 0, 0.15);\n",
              "      filter: drop-shadow(0px 1px 2px rgba(0, 0, 0, 0.3));\n",
              "      fill: #FFFFFF;\n",
              "    }\n",
              "  </style>\n",
              "\n",
              "      <script>\n",
              "        const buttonEl =\n",
              "          document.querySelector('#df-174aad35-cb54-477e-8224-def43745acdd button.colab-df-convert');\n",
              "        buttonEl.style.display =\n",
              "          google.colab.kernel.accessAllowed ? 'block' : 'none';\n",
              "\n",
              "        async function convertToInteractive(key) {\n",
              "          const element = document.querySelector('#df-174aad35-cb54-477e-8224-def43745acdd');\n",
              "          const dataTable =\n",
              "            await google.colab.kernel.invokeFunction('convertToInteractive',\n",
              "                                                     [key], {});\n",
              "          if (!dataTable) return;\n",
              "\n",
              "          const docLinkHtml = 'Like what you see? Visit the ' +\n",
              "            '<a target=\"_blank\" href=https://colab.research.google.com/notebooks/data_table.ipynb>data table notebook</a>'\n",
              "            + ' to learn more about interactive tables.';\n",
              "          element.innerHTML = '';\n",
              "          dataTable['output_type'] = 'display_data';\n",
              "          await google.colab.output.renderOutput(dataTable, element);\n",
              "          const docLink = document.createElement('div');\n",
              "          docLink.innerHTML = docLinkHtml;\n",
              "          element.appendChild(docLink);\n",
              "        }\n",
              "      </script>\n",
              "    </div>\n",
              "  </div>\n",
              "  "
            ]
          },
          "metadata": {},
          "execution_count": 46
        }
      ],
      "source": [
        "#Print the top 10 words in the bigram frequency\n",
        "df_bigram = pd.DataFrame(top_grams(2),columns = ['bigram' , 'count'])\n",
        "df_bigram.head(10)"
      ]
    },
    {
      "cell_type": "code",
      "execution_count": 47,
      "metadata": {
        "colab": {
          "base_uri": "https://localhost:8080/",
          "height": 363
        },
        "id": "REcVxNfvJrF-",
        "outputId": "127ab738-b6c1-4198-cb0c-632f44ead0d6"
      },
      "outputs": [
        {
          "output_type": "execute_result",
          "data": {
            "text/plain": [
              "                  trigram  count\n",
              "0       chase credit card   2268\n",
              "1       credit card chase    938\n",
              "2     credit card account    859\n",
              "3     credit card company    820\n",
              "4      credit card credit    711\n",
              "5  chase customer service    555\n",
              "6        card credit card    519\n",
              "7   account chase account    462\n",
              "8    credit report credit    413\n",
              "9     chase account chase    392"
            ],
            "text/html": [
              "\n",
              "  <div id=\"df-9b4f6ad9-1eb5-4148-8927-8a32a9526cd2\">\n",
              "    <div class=\"colab-df-container\">\n",
              "      <div>\n",
              "<style scoped>\n",
              "    .dataframe tbody tr th:only-of-type {\n",
              "        vertical-align: middle;\n",
              "    }\n",
              "\n",
              "    .dataframe tbody tr th {\n",
              "        vertical-align: top;\n",
              "    }\n",
              "\n",
              "    .dataframe thead th {\n",
              "        text-align: right;\n",
              "    }\n",
              "</style>\n",
              "<table border=\"1\" class=\"dataframe\">\n",
              "  <thead>\n",
              "    <tr style=\"text-align: right;\">\n",
              "      <th></th>\n",
              "      <th>trigram</th>\n",
              "      <th>count</th>\n",
              "    </tr>\n",
              "  </thead>\n",
              "  <tbody>\n",
              "    <tr>\n",
              "      <th>0</th>\n",
              "      <td>chase credit card</td>\n",
              "      <td>2268</td>\n",
              "    </tr>\n",
              "    <tr>\n",
              "      <th>1</th>\n",
              "      <td>credit card chase</td>\n",
              "      <td>938</td>\n",
              "    </tr>\n",
              "    <tr>\n",
              "      <th>2</th>\n",
              "      <td>credit card account</td>\n",
              "      <td>859</td>\n",
              "    </tr>\n",
              "    <tr>\n",
              "      <th>3</th>\n",
              "      <td>credit card company</td>\n",
              "      <td>820</td>\n",
              "    </tr>\n",
              "    <tr>\n",
              "      <th>4</th>\n",
              "      <td>credit card credit</td>\n",
              "      <td>711</td>\n",
              "    </tr>\n",
              "    <tr>\n",
              "      <th>5</th>\n",
              "      <td>chase customer service</td>\n",
              "      <td>555</td>\n",
              "    </tr>\n",
              "    <tr>\n",
              "      <th>6</th>\n",
              "      <td>card credit card</td>\n",
              "      <td>519</td>\n",
              "    </tr>\n",
              "    <tr>\n",
              "      <th>7</th>\n",
              "      <td>account chase account</td>\n",
              "      <td>462</td>\n",
              "    </tr>\n",
              "    <tr>\n",
              "      <th>8</th>\n",
              "      <td>credit report credit</td>\n",
              "      <td>413</td>\n",
              "    </tr>\n",
              "    <tr>\n",
              "      <th>9</th>\n",
              "      <td>chase account chase</td>\n",
              "      <td>392</td>\n",
              "    </tr>\n",
              "  </tbody>\n",
              "</table>\n",
              "</div>\n",
              "      <button class=\"colab-df-convert\" onclick=\"convertToInteractive('df-9b4f6ad9-1eb5-4148-8927-8a32a9526cd2')\"\n",
              "              title=\"Convert this dataframe to an interactive table.\"\n",
              "              style=\"display:none;\">\n",
              "        \n",
              "  <svg xmlns=\"http://www.w3.org/2000/svg\" height=\"24px\"viewBox=\"0 0 24 24\"\n",
              "       width=\"24px\">\n",
              "    <path d=\"M0 0h24v24H0V0z\" fill=\"none\"/>\n",
              "    <path d=\"M18.56 5.44l.94 2.06.94-2.06 2.06-.94-2.06-.94-.94-2.06-.94 2.06-2.06.94zm-11 1L8.5 8.5l.94-2.06 2.06-.94-2.06-.94L8.5 2.5l-.94 2.06-2.06.94zm10 10l.94 2.06.94-2.06 2.06-.94-2.06-.94-.94-2.06-.94 2.06-2.06.94z\"/><path d=\"M17.41 7.96l-1.37-1.37c-.4-.4-.92-.59-1.43-.59-.52 0-1.04.2-1.43.59L10.3 9.45l-7.72 7.72c-.78.78-.78 2.05 0 2.83L4 21.41c.39.39.9.59 1.41.59.51 0 1.02-.2 1.41-.59l7.78-7.78 2.81-2.81c.8-.78.8-2.07 0-2.86zM5.41 20L4 18.59l7.72-7.72 1.47 1.35L5.41 20z\"/>\n",
              "  </svg>\n",
              "      </button>\n",
              "      \n",
              "  <style>\n",
              "    .colab-df-container {\n",
              "      display:flex;\n",
              "      flex-wrap:wrap;\n",
              "      gap: 12px;\n",
              "    }\n",
              "\n",
              "    .colab-df-convert {\n",
              "      background-color: #E8F0FE;\n",
              "      border: none;\n",
              "      border-radius: 50%;\n",
              "      cursor: pointer;\n",
              "      display: none;\n",
              "      fill: #1967D2;\n",
              "      height: 32px;\n",
              "      padding: 0 0 0 0;\n",
              "      width: 32px;\n",
              "    }\n",
              "\n",
              "    .colab-df-convert:hover {\n",
              "      background-color: #E2EBFA;\n",
              "      box-shadow: 0px 1px 2px rgba(60, 64, 67, 0.3), 0px 1px 3px 1px rgba(60, 64, 67, 0.15);\n",
              "      fill: #174EA6;\n",
              "    }\n",
              "\n",
              "    [theme=dark] .colab-df-convert {\n",
              "      background-color: #3B4455;\n",
              "      fill: #D2E3FC;\n",
              "    }\n",
              "\n",
              "    [theme=dark] .colab-df-convert:hover {\n",
              "      background-color: #434B5C;\n",
              "      box-shadow: 0px 1px 3px 1px rgba(0, 0, 0, 0.15);\n",
              "      filter: drop-shadow(0px 1px 2px rgba(0, 0, 0, 0.3));\n",
              "      fill: #FFFFFF;\n",
              "    }\n",
              "  </style>\n",
              "\n",
              "      <script>\n",
              "        const buttonEl =\n",
              "          document.querySelector('#df-9b4f6ad9-1eb5-4148-8927-8a32a9526cd2 button.colab-df-convert');\n",
              "        buttonEl.style.display =\n",
              "          google.colab.kernel.accessAllowed ? 'block' : 'none';\n",
              "\n",
              "        async function convertToInteractive(key) {\n",
              "          const element = document.querySelector('#df-9b4f6ad9-1eb5-4148-8927-8a32a9526cd2');\n",
              "          const dataTable =\n",
              "            await google.colab.kernel.invokeFunction('convertToInteractive',\n",
              "                                                     [key], {});\n",
              "          if (!dataTable) return;\n",
              "\n",
              "          const docLinkHtml = 'Like what you see? Visit the ' +\n",
              "            '<a target=\"_blank\" href=https://colab.research.google.com/notebooks/data_table.ipynb>data table notebook</a>'\n",
              "            + ' to learn more about interactive tables.';\n",
              "          element.innerHTML = '';\n",
              "          dataTable['output_type'] = 'display_data';\n",
              "          await google.colab.output.renderOutput(dataTable, element);\n",
              "          const docLink = document.createElement('div');\n",
              "          docLink.innerHTML = docLinkHtml;\n",
              "          element.appendChild(docLink);\n",
              "        }\n",
              "      </script>\n",
              "    </div>\n",
              "  </div>\n",
              "  "
            ]
          },
          "metadata": {},
          "execution_count": 47
        }
      ],
      "source": [
        "#Print the top 10 words in the trigram frequency\n",
        "df_trigram = pd.DataFrame(top_grams(3),columns = ['trigram' , 'count'])\n",
        "df_trigram.head(10)"
      ]
    },
    {
      "cell_type": "markdown",
      "metadata": {
        "id": "yUXzFji0JrF_"
      },
      "source": [
        "## The personal details of customer has been masked in the dataset with xxxx. Let's remove the masked text as this will be of no use for our analysis"
      ]
    },
    {
      "cell_type": "code",
      "execution_count": 48,
      "metadata": {
        "id": "wKda-a_IJrF_"
      },
      "outputs": [],
      "source": [
        "# Replacing XXXX with Null\n",
        "\n",
        "df_clean['Complaint_clean'] = df_clean['Complaint_clean'].str.replace('xxxx','')"
      ]
    },
    {
      "cell_type": "code",
      "execution_count": 51,
      "metadata": {
        "colab": {
          "base_uri": "https://localhost:8080/"
        },
        "id": "05N32xPIIv6k",
        "outputId": "49707a89-791a-445b-aa86-11f08f0f3794"
      },
      "outputs": [
        {
          "output_type": "execute_result",
          "data": {
            "text/plain": [
              "61"
            ]
          },
          "metadata": {},
          "execution_count": 51
        }
      ],
      "source": [
        "#checking number of rows with null\n",
        "\n",
        "len(df_clean[df_clean['Complaint_clean'] == \"\"])"
      ]
    },
    {
      "cell_type": "code",
      "execution_count": 52,
      "metadata": {
        "id": "KhNRzud6I6P0"
      },
      "outputs": [],
      "source": [
        "# replacing the null with na\n",
        "\n",
        "df_clean['Complaint_clean'].replace(\"\", np.nan, inplace=True)"
      ]
    },
    {
      "cell_type": "code",
      "source": [
        "#checking shape of df_clean\n",
        "\n",
        "df_clean.shape"
      ],
      "metadata": {
        "colab": {
          "base_uri": "https://localhost:8080/"
        },
        "id": "a0aSfzLV_xFt",
        "outputId": "c7562ff9-cb93-43e7-d44c-44c9c773ee93"
      },
      "execution_count": 54,
      "outputs": [
        {
          "output_type": "execute_result",
          "data": {
            "text/plain": [
              "(21072, 4)"
            ]
          },
          "metadata": {},
          "execution_count": 54
        }
      ]
    },
    {
      "cell_type": "code",
      "execution_count": 86,
      "metadata": {
        "id": "s3g5_HQCJcUo"
      },
      "outputs": [],
      "source": [
        "#dropping na values\n",
        "\n",
        "df_clean.dropna(subset=['Complaint_clean'], inplace=True)"
      ]
    },
    {
      "cell_type": "code",
      "execution_count": 88,
      "metadata": {
        "colab": {
          "base_uri": "https://localhost:8080/",
          "height": 337
        },
        "id": "9UIFk8fQJrF_",
        "outputId": "4f98037f-45e0-474c-b8b4-34de9574ed89"
      },
      "outputs": [
        {
          "output_type": "execute_result",
          "data": {
            "text/plain": [
              "                              complaint_what_happened  \\\n",
              "1   good morning my name is xxxx xxxx and i apprec...   \n",
              "2   i upgraded my xxxx xxxx card in  and was told ...   \n",
              "10  chase card was reported on  however fraudulent...   \n",
              "11  on  while trying to book a xxxx  xxxx  ticket ...   \n",
              "14  my grand son give me check for  i deposit it i...   \n",
              "\n",
              "                                      Lemm_Complaints  \\\n",
              "1   morning name stop debt verification statement ...   \n",
              "2   agent anniversary date agent information order...   \n",
              "10  chase card application identity consent credit...   \n",
              "11  ticket offer ticket card information offer min...   \n",
              "14  son check chase account fund chase bank accoun...   \n",
              "\n",
              "                                complaint_POS_removed  \\\n",
              "1   morning name debt verification statement bank ...   \n",
              "2   agent anniversary date agent information order...   \n",
              "10  chase card application identity consent credit...   \n",
              "11  ticket offer ticket card information minute sc...   \n",
              "14  account money son money bank check owner count...   \n",
              "\n",
              "                                      Complaint_clean  \n",
              "1   morning name debt verification statement bank ...  \n",
              "2   agent anniversary date agent information order...  \n",
              "10  chase card application identity consent credit...  \n",
              "11  ticket offer ticket card information minute sc...  \n",
              "14  account money son money bank check owner count...  "
            ],
            "text/html": [
              "\n",
              "  <div id=\"df-2a74986c-ed61-407c-b40c-ba1f06ffbe45\">\n",
              "    <div class=\"colab-df-container\">\n",
              "      <div>\n",
              "<style scoped>\n",
              "    .dataframe tbody tr th:only-of-type {\n",
              "        vertical-align: middle;\n",
              "    }\n",
              "\n",
              "    .dataframe tbody tr th {\n",
              "        vertical-align: top;\n",
              "    }\n",
              "\n",
              "    .dataframe thead th {\n",
              "        text-align: right;\n",
              "    }\n",
              "</style>\n",
              "<table border=\"1\" class=\"dataframe\">\n",
              "  <thead>\n",
              "    <tr style=\"text-align: right;\">\n",
              "      <th></th>\n",
              "      <th>complaint_what_happened</th>\n",
              "      <th>Lemm_Complaints</th>\n",
              "      <th>complaint_POS_removed</th>\n",
              "      <th>Complaint_clean</th>\n",
              "    </tr>\n",
              "  </thead>\n",
              "  <tbody>\n",
              "    <tr>\n",
              "      <th>1</th>\n",
              "      <td>good morning my name is xxxx xxxx and i apprec...</td>\n",
              "      <td>morning name stop debt verification statement ...</td>\n",
              "      <td>morning name debt verification statement bank ...</td>\n",
              "      <td>morning name debt verification statement bank ...</td>\n",
              "    </tr>\n",
              "    <tr>\n",
              "      <th>2</th>\n",
              "      <td>i upgraded my xxxx xxxx card in  and was told ...</td>\n",
              "      <td>agent anniversary date agent information order...</td>\n",
              "      <td>agent anniversary date agent information order...</td>\n",
              "      <td>agent anniversary date agent information order...</td>\n",
              "    </tr>\n",
              "    <tr>\n",
              "      <th>10</th>\n",
              "      <td>chase card was reported on  however fraudulent...</td>\n",
              "      <td>chase card application identity consent credit...</td>\n",
              "      <td>chase card application identity consent credit...</td>\n",
              "      <td>chase card application identity consent credit...</td>\n",
              "    </tr>\n",
              "    <tr>\n",
              "      <th>11</th>\n",
              "      <td>on  while trying to book a xxxx  xxxx  ticket ...</td>\n",
              "      <td>ticket offer ticket card information offer min...</td>\n",
              "      <td>ticket offer ticket card information minute sc...</td>\n",
              "      <td>ticket offer ticket card information minute sc...</td>\n",
              "    </tr>\n",
              "    <tr>\n",
              "      <th>14</th>\n",
              "      <td>my grand son give me check for  i deposit it i...</td>\n",
              "      <td>son check chase account fund chase bank accoun...</td>\n",
              "      <td>account money son money bank check owner count...</td>\n",
              "      <td>account money son money bank check owner count...</td>\n",
              "    </tr>\n",
              "  </tbody>\n",
              "</table>\n",
              "</div>\n",
              "      <button class=\"colab-df-convert\" onclick=\"convertToInteractive('df-2a74986c-ed61-407c-b40c-ba1f06ffbe45')\"\n",
              "              title=\"Convert this dataframe to an interactive table.\"\n",
              "              style=\"display:none;\">\n",
              "        \n",
              "  <svg xmlns=\"http://www.w3.org/2000/svg\" height=\"24px\"viewBox=\"0 0 24 24\"\n",
              "       width=\"24px\">\n",
              "    <path d=\"M0 0h24v24H0V0z\" fill=\"none\"/>\n",
              "    <path d=\"M18.56 5.44l.94 2.06.94-2.06 2.06-.94-2.06-.94-.94-2.06-.94 2.06-2.06.94zm-11 1L8.5 8.5l.94-2.06 2.06-.94-2.06-.94L8.5 2.5l-.94 2.06-2.06.94zm10 10l.94 2.06.94-2.06 2.06-.94-2.06-.94-.94-2.06-.94 2.06-2.06.94z\"/><path d=\"M17.41 7.96l-1.37-1.37c-.4-.4-.92-.59-1.43-.59-.52 0-1.04.2-1.43.59L10.3 9.45l-7.72 7.72c-.78.78-.78 2.05 0 2.83L4 21.41c.39.39.9.59 1.41.59.51 0 1.02-.2 1.41-.59l7.78-7.78 2.81-2.81c.8-.78.8-2.07 0-2.86zM5.41 20L4 18.59l7.72-7.72 1.47 1.35L5.41 20z\"/>\n",
              "  </svg>\n",
              "      </button>\n",
              "      \n",
              "  <style>\n",
              "    .colab-df-container {\n",
              "      display:flex;\n",
              "      flex-wrap:wrap;\n",
              "      gap: 12px;\n",
              "    }\n",
              "\n",
              "    .colab-df-convert {\n",
              "      background-color: #E8F0FE;\n",
              "      border: none;\n",
              "      border-radius: 50%;\n",
              "      cursor: pointer;\n",
              "      display: none;\n",
              "      fill: #1967D2;\n",
              "      height: 32px;\n",
              "      padding: 0 0 0 0;\n",
              "      width: 32px;\n",
              "    }\n",
              "\n",
              "    .colab-df-convert:hover {\n",
              "      background-color: #E2EBFA;\n",
              "      box-shadow: 0px 1px 2px rgba(60, 64, 67, 0.3), 0px 1px 3px 1px rgba(60, 64, 67, 0.15);\n",
              "      fill: #174EA6;\n",
              "    }\n",
              "\n",
              "    [theme=dark] .colab-df-convert {\n",
              "      background-color: #3B4455;\n",
              "      fill: #D2E3FC;\n",
              "    }\n",
              "\n",
              "    [theme=dark] .colab-df-convert:hover {\n",
              "      background-color: #434B5C;\n",
              "      box-shadow: 0px 1px 3px 1px rgba(0, 0, 0, 0.15);\n",
              "      filter: drop-shadow(0px 1px 2px rgba(0, 0, 0, 0.3));\n",
              "      fill: #FFFFFF;\n",
              "    }\n",
              "  </style>\n",
              "\n",
              "      <script>\n",
              "        const buttonEl =\n",
              "          document.querySelector('#df-2a74986c-ed61-407c-b40c-ba1f06ffbe45 button.colab-df-convert');\n",
              "        buttonEl.style.display =\n",
              "          google.colab.kernel.accessAllowed ? 'block' : 'none';\n",
              "\n",
              "        async function convertToInteractive(key) {\n",
              "          const element = document.querySelector('#df-2a74986c-ed61-407c-b40c-ba1f06ffbe45');\n",
              "          const dataTable =\n",
              "            await google.colab.kernel.invokeFunction('convertToInteractive',\n",
              "                                                     [key], {});\n",
              "          if (!dataTable) return;\n",
              "\n",
              "          const docLinkHtml = 'Like what you see? Visit the ' +\n",
              "            '<a target=\"_blank\" href=https://colab.research.google.com/notebooks/data_table.ipynb>data table notebook</a>'\n",
              "            + ' to learn more about interactive tables.';\n",
              "          element.innerHTML = '';\n",
              "          dataTable['output_type'] = 'display_data';\n",
              "          await google.colab.output.renderOutput(dataTable, element);\n",
              "          const docLink = document.createElement('div');\n",
              "          docLink.innerHTML = docLinkHtml;\n",
              "          element.appendChild(docLink);\n",
              "        }\n",
              "      </script>\n",
              "    </div>\n",
              "  </div>\n",
              "  "
            ]
          },
          "metadata": {},
          "execution_count": 88
        }
      ],
      "source": [
        "#All masked texts has been removed\n",
        "df_clean.head()"
      ]
    },
    {
      "cell_type": "code",
      "execution_count": 89,
      "metadata": {
        "colab": {
          "base_uri": "https://localhost:8080/"
        },
        "id": "33KhSU7_4zmE",
        "outputId": "97202615-aaaa-480b-924f-26b1eb189162"
      },
      "outputs": [
        {
          "output_type": "execute_result",
          "data": {
            "text/plain": [
              "0"
            ]
          },
          "metadata": {},
          "execution_count": 89
        }
      ],
      "source": [
        "#checking if df_clean have any na values\n",
        "df_clean['Complaint_clean'].isna().sum()"
      ]
    },
    {
      "cell_type": "markdown",
      "metadata": {
        "id": "k-I0k0QtJrGA"
      },
      "source": [
        "## Feature Extraction\n",
        "Convert the raw texts to a matrix of TF-IDF features\n",
        "\n",
        "**max_df** is used for removing terms that appear too frequently, also known as \"corpus-specific stop words\"\n",
        "max_df = 0.95 means \"ignore terms that appear in more than 95% of the complaints\"\n",
        "\n",
        "**min_df** is used for removing terms that appear too infrequently\n",
        "min_df = 2 means \"ignore terms that appear in less than 2 complaints\""
      ]
    },
    {
      "cell_type": "code",
      "execution_count": 90,
      "metadata": {
        "id": "Y8fGwaCPJrGA"
      },
      "outputs": [],
      "source": [
        "#Write your code here to initialise the TfidfVectorizer \n",
        "tfidf = TfidfVectorizer(max_df=0.95, min_df=2,stop_words='english')"
      ]
    },
    {
      "cell_type": "markdown",
      "metadata": {
        "id": "yYzD85nTJrGA"
      },
      "source": [
        "#### Create a document term matrix using fit_transform\n",
        "\n",
        "The contents of a document term matrix are tuples of (complaint_id,token_id) tf-idf score:\n",
        "The tuples that are not there have a tf-idf score of 0"
      ]
    },
    {
      "cell_type": "code",
      "execution_count": 91,
      "metadata": {
        "id": "ffzdDpp_JrGB"
      },
      "outputs": [],
      "source": [
        "#Write your code here to create the Document Term Matrix by transforming the complaints column present in df_clean.\n",
        "dtm = tfidf.fit_transform(df_clean['Complaint_clean'])"
      ]
    },
    {
      "cell_type": "code",
      "execution_count": 93,
      "metadata": {
        "colab": {
          "base_uri": "https://localhost:8080/"
        },
        "id": "r_R4ZkGY5hAg",
        "outputId": "0d1286ef-80fa-4289-ac47-2be8c9a97f56"
      },
      "outputs": [
        {
          "output_type": "execute_result",
          "data": {
            "text/plain": [
              "(21011, 4362)"
            ]
          },
          "metadata": {},
          "execution_count": 93
        }
      ],
      "source": [
        "#shape of the dtm\n",
        "dtm.shape"
      ]
    },
    {
      "cell_type": "markdown",
      "metadata": {
        "id": "7Q9lwvNEJrGB"
      },
      "source": [
        "## Topic Modelling using NMF\n",
        "\n",
        "Non-Negative Matrix Factorization (NMF) is an unsupervised technique so there are no labeling of topics that the model will be trained on. The way it works is that, NMF decomposes (or factorizes) high-dimensional vectors into a lower-dimensional representation. These lower-dimensional vectors are non-negative which also means their coefficients are non-negative.\n",
        "\n",
        "In this task you have to perform the following:\n",
        "\n",
        "* Find the best number of clusters \n",
        "* Apply the best number to create word clusters\n",
        "* Inspect & validate the correction of each cluster wrt the complaints \n",
        "* Correct the labels if needed \n",
        "* Map the clusters to topics/cluster names"
      ]
    },
    {
      "cell_type": "code",
      "execution_count": 95,
      "metadata": {
        "id": "amLT4omWJrGB"
      },
      "outputs": [],
      "source": [
        "#importing packages of sklearn\n",
        "\n",
        "from sklearn.decomposition import NMF\n",
        "from sklearn.feature_extraction.text import TfidfTransformer\n"
      ]
    },
    {
      "cell_type": "markdown",
      "metadata": {
        "id": "0wYR1xUTJrGD"
      },
      "source": [
        "## Manual Topic Modeling\n",
        "You need to do take the trial & error approach to find the best num of topics for your NMF model.\n",
        "\n",
        "The only parameter that is required is the number of components i.e. the number of topics we want. This is the most crucial step in the whole topic modeling process and will greatly affect how good your final topics are."
      ]
    },
    {
      "cell_type": "markdown",
      "metadata": {
        "id": "s56JomfPCAXv"
      },
      "source": [
        "#### Using Coherence Model to select best number of Topics"
      ]
    },
    {
      "cell_type": "code",
      "execution_count": 96,
      "metadata": {
        "colab": {
          "base_uri": "https://localhost:8080/"
        },
        "id": "mkvu_U_LI3Yx",
        "outputId": "a73a128f-41e1-4d21-b6bb-90be314c48de"
      },
      "outputs": [
        {
          "output_type": "stream",
          "name": "stdout",
          "text": [
            "Looking in indexes: https://pypi.org/simple, https://us-python.pkg.dev/colab-wheels/public/simple/\n",
            "Requirement already satisfied: gensim in /usr/local/lib/python3.7/dist-packages (4.2.0)\n",
            "Requirement already satisfied: scipy>=0.18.1 in /usr/local/lib/python3.7/dist-packages (from gensim) (1.7.3)\n",
            "Requirement already satisfied: smart-open>=1.8.1 in /usr/local/lib/python3.7/dist-packages (from gensim) (5.2.1)\n",
            "Requirement already satisfied: numpy>=1.17.0 in /usr/local/lib/python3.7/dist-packages (from gensim) (1.21.6)\n"
          ]
        }
      ],
      "source": [
        "#installing necessary package genism\n",
        "pip install -U gensim"
      ]
    },
    {
      "cell_type": "code",
      "execution_count": 97,
      "metadata": {
        "colab": {
          "base_uri": "https://localhost:8080/"
        },
        "id": "m5jyu_W4CAXw",
        "outputId": "e5100469-c95a-46a2-fafd-bc0e22d20fd9"
      },
      "outputs": [
        {
          "output_type": "stream",
          "name": "stdout",
          "text": [
            "5\n"
          ]
        }
      ],
      "source": [
        "# Use Coherence model to find best number of topics\n",
        "from gensim.corpora.dictionary import Dictionary\n",
        "from gensim.models.nmf import Nmf\n",
        "from gensim.models.coherencemodel import CoherenceModel\n",
        "from operator import itemgetter\n",
        "from gensim import corpora\n",
        "\n",
        "# Use Gensim's NMF to get the best num of topics via coherence score\n",
        "texts = df_clean['Complaint_clean']\n",
        "dataset = [d.split() for d in texts]\n",
        "\n",
        "dictionary = corpora.Dictionary(dataset)\n",
        "\n",
        "# Filter out extremes to limit the number of features\n",
        "dictionary.filter_extremes(\n",
        "    no_below=3,\n",
        "    no_above=0.85,\n",
        "    keep_n=5000\n",
        ")\n",
        "\n",
        "corpus = [dictionary.doc2bow(text) for text in dataset]\n",
        "\n",
        "# Create a list of the topic numbers we want to try\n",
        "topic_nums = list(np.arange(5, 10, 1))\n",
        "\n",
        "# Run the nmf model and calculate the coherence score\n",
        "# for each number of topics\n",
        "coherence_scores = []\n",
        "\n",
        "for num in topic_nums:\n",
        "    nmf = Nmf(\n",
        "        corpus=corpus,\n",
        "        num_topics=num,\n",
        "        id2word=dictionary,\n",
        "        chunksize=2000,\n",
        "        passes=5,\n",
        "        kappa=.1,\n",
        "        minimum_probability=0.01,\n",
        "        w_max_iter=300,\n",
        "        w_stop_condition=0.0001,\n",
        "        h_max_iter=100,\n",
        "        h_stop_condition=0.001,\n",
        "        eval_every=10,\n",
        "        normalize=True,\n",
        "        random_state=42\n",
        "    )\n",
        "\n",
        "    cm = CoherenceModel(\n",
        "        model=nmf,\n",
        "        texts=texts,\n",
        "        dictionary=dictionary,\n",
        "        coherence='c_v'\n",
        "    )\n",
        "\n",
        "    coherence_scores.append(round(cm.get_coherence(), 5))\n",
        "\n",
        "#print(cm.get_coherence())\n",
        "\n",
        "# Get the number of topics with the highest coherence score\n",
        "scores = list(zip(topic_nums, coherence_scores))\n",
        "best_num_topics = sorted(scores, key=itemgetter(1), reverse=True)[0][0]\n",
        "\n",
        "print(best_num_topics)"
      ]
    },
    {
      "cell_type": "code",
      "execution_count": 98,
      "metadata": {
        "id": "sgd2A6bhJrGD"
      },
      "outputs": [],
      "source": [
        "#Load your nmf_model with the n_components i.e 5\n",
        "num_topics = best_num_topics\n",
        "\n",
        "#keep the random_state =40\n",
        "nmf_model = NMF(random_state=40, n_components=num_topics)"
      ]
    },
    {
      "cell_type": "code",
      "execution_count": 99,
      "metadata": {
        "colab": {
          "base_uri": "https://localhost:8080/"
        },
        "id": "VPMDYbt_JrGE",
        "outputId": "f22f04eb-bcfe-480e-9a75-a642b411ef4d"
      },
      "outputs": [
        {
          "output_type": "execute_result",
          "data": {
            "text/plain": [
              "4362"
            ]
          },
          "metadata": {},
          "execution_count": 99
        }
      ],
      "source": [
        "#to fit the model\n",
        "nmf_model.fit(dtm)\n",
        "# checking total count of features names\n",
        "len(tfidf.get_feature_names())"
      ]
    },
    {
      "cell_type": "code",
      "execution_count": 100,
      "metadata": {
        "colab": {
          "base_uri": "https://localhost:8080/",
          "height": 374
        },
        "id": "16kRfat5JrGE",
        "outputId": "b3ef2d91-eb2c-4706-f9a7-c70e67ede46a"
      },
      "outputs": [
        {
          "output_type": "execute_result",
          "data": {
            "text/plain": [
              "          Word 1    Word 2   Word 3     Word 4        Word 5       Word 6  \\\n",
              "Topic 1     card     chase   credit     charge         fraud      dispute   \n",
              "Topic 2   credit    report  inquiry      score          debt  information   \n",
              "Topic 3     loan  mortgage    chase       home  modification     property   \n",
              "Topic 4  account     money    chase      check          bank       branch   \n",
              "Topic 5  payment   balance    month  statement           fee         date   \n",
              "\n",
              "              Word 7    Word 8    Word 9      Word 10   Word 11      Word 12  \\\n",
              "Topic 1      company  merchant  purchase          fee      time        debit   \n",
              "Topic 2      account     limit  identity    reporting   company        theft   \n",
              "Topic 3  foreclosure      time      rate       letter      sale  information   \n",
              "Topic 4       number   deposit  business  information  customer        phone   \n",
              "Topic 5         time      auto     chase         bank       day        error   \n",
              "\n",
              "             Word 13      Word 14      Word 15  \n",
              "Topic 1        phone     customer       number  \n",
              "Topic 2      history         file  application  \n",
              "Topic 3      process  application         debt  \n",
              "Topic 4  transaction        fraud          day  \n",
              "Topic 5          car      history        phone  "
            ],
            "text/html": [
              "\n",
              "  <div id=\"df-4747f20a-e799-43ef-b603-c42d7c5aabb4\">\n",
              "    <div class=\"colab-df-container\">\n",
              "      <div>\n",
              "<style scoped>\n",
              "    .dataframe tbody tr th:only-of-type {\n",
              "        vertical-align: middle;\n",
              "    }\n",
              "\n",
              "    .dataframe tbody tr th {\n",
              "        vertical-align: top;\n",
              "    }\n",
              "\n",
              "    .dataframe thead th {\n",
              "        text-align: right;\n",
              "    }\n",
              "</style>\n",
              "<table border=\"1\" class=\"dataframe\">\n",
              "  <thead>\n",
              "    <tr style=\"text-align: right;\">\n",
              "      <th></th>\n",
              "      <th>Word 1</th>\n",
              "      <th>Word 2</th>\n",
              "      <th>Word 3</th>\n",
              "      <th>Word 4</th>\n",
              "      <th>Word 5</th>\n",
              "      <th>Word 6</th>\n",
              "      <th>Word 7</th>\n",
              "      <th>Word 8</th>\n",
              "      <th>Word 9</th>\n",
              "      <th>Word 10</th>\n",
              "      <th>Word 11</th>\n",
              "      <th>Word 12</th>\n",
              "      <th>Word 13</th>\n",
              "      <th>Word 14</th>\n",
              "      <th>Word 15</th>\n",
              "    </tr>\n",
              "  </thead>\n",
              "  <tbody>\n",
              "    <tr>\n",
              "      <th>Topic 1</th>\n",
              "      <td>card</td>\n",
              "      <td>chase</td>\n",
              "      <td>credit</td>\n",
              "      <td>charge</td>\n",
              "      <td>fraud</td>\n",
              "      <td>dispute</td>\n",
              "      <td>company</td>\n",
              "      <td>merchant</td>\n",
              "      <td>purchase</td>\n",
              "      <td>fee</td>\n",
              "      <td>time</td>\n",
              "      <td>debit</td>\n",
              "      <td>phone</td>\n",
              "      <td>customer</td>\n",
              "      <td>number</td>\n",
              "    </tr>\n",
              "    <tr>\n",
              "      <th>Topic 2</th>\n",
              "      <td>credit</td>\n",
              "      <td>report</td>\n",
              "      <td>inquiry</td>\n",
              "      <td>score</td>\n",
              "      <td>debt</td>\n",
              "      <td>information</td>\n",
              "      <td>account</td>\n",
              "      <td>limit</td>\n",
              "      <td>identity</td>\n",
              "      <td>reporting</td>\n",
              "      <td>company</td>\n",
              "      <td>theft</td>\n",
              "      <td>history</td>\n",
              "      <td>file</td>\n",
              "      <td>application</td>\n",
              "    </tr>\n",
              "    <tr>\n",
              "      <th>Topic 3</th>\n",
              "      <td>loan</td>\n",
              "      <td>mortgage</td>\n",
              "      <td>chase</td>\n",
              "      <td>home</td>\n",
              "      <td>modification</td>\n",
              "      <td>property</td>\n",
              "      <td>foreclosure</td>\n",
              "      <td>time</td>\n",
              "      <td>rate</td>\n",
              "      <td>letter</td>\n",
              "      <td>sale</td>\n",
              "      <td>information</td>\n",
              "      <td>process</td>\n",
              "      <td>application</td>\n",
              "      <td>debt</td>\n",
              "    </tr>\n",
              "    <tr>\n",
              "      <th>Topic 4</th>\n",
              "      <td>account</td>\n",
              "      <td>money</td>\n",
              "      <td>chase</td>\n",
              "      <td>check</td>\n",
              "      <td>bank</td>\n",
              "      <td>branch</td>\n",
              "      <td>number</td>\n",
              "      <td>deposit</td>\n",
              "      <td>business</td>\n",
              "      <td>information</td>\n",
              "      <td>customer</td>\n",
              "      <td>phone</td>\n",
              "      <td>transaction</td>\n",
              "      <td>fraud</td>\n",
              "      <td>day</td>\n",
              "    </tr>\n",
              "    <tr>\n",
              "      <th>Topic 5</th>\n",
              "      <td>payment</td>\n",
              "      <td>balance</td>\n",
              "      <td>month</td>\n",
              "      <td>statement</td>\n",
              "      <td>fee</td>\n",
              "      <td>date</td>\n",
              "      <td>time</td>\n",
              "      <td>auto</td>\n",
              "      <td>chase</td>\n",
              "      <td>bank</td>\n",
              "      <td>day</td>\n",
              "      <td>error</td>\n",
              "      <td>car</td>\n",
              "      <td>history</td>\n",
              "      <td>phone</td>\n",
              "    </tr>\n",
              "  </tbody>\n",
              "</table>\n",
              "</div>\n",
              "      <button class=\"colab-df-convert\" onclick=\"convertToInteractive('df-4747f20a-e799-43ef-b603-c42d7c5aabb4')\"\n",
              "              title=\"Convert this dataframe to an interactive table.\"\n",
              "              style=\"display:none;\">\n",
              "        \n",
              "  <svg xmlns=\"http://www.w3.org/2000/svg\" height=\"24px\"viewBox=\"0 0 24 24\"\n",
              "       width=\"24px\">\n",
              "    <path d=\"M0 0h24v24H0V0z\" fill=\"none\"/>\n",
              "    <path d=\"M18.56 5.44l.94 2.06.94-2.06 2.06-.94-2.06-.94-.94-2.06-.94 2.06-2.06.94zm-11 1L8.5 8.5l.94-2.06 2.06-.94-2.06-.94L8.5 2.5l-.94 2.06-2.06.94zm10 10l.94 2.06.94-2.06 2.06-.94-2.06-.94-.94-2.06-.94 2.06-2.06.94z\"/><path d=\"M17.41 7.96l-1.37-1.37c-.4-.4-.92-.59-1.43-.59-.52 0-1.04.2-1.43.59L10.3 9.45l-7.72 7.72c-.78.78-.78 2.05 0 2.83L4 21.41c.39.39.9.59 1.41.59.51 0 1.02-.2 1.41-.59l7.78-7.78 2.81-2.81c.8-.78.8-2.07 0-2.86zM5.41 20L4 18.59l7.72-7.72 1.47 1.35L5.41 20z\"/>\n",
              "  </svg>\n",
              "      </button>\n",
              "      \n",
              "  <style>\n",
              "    .colab-df-container {\n",
              "      display:flex;\n",
              "      flex-wrap:wrap;\n",
              "      gap: 12px;\n",
              "    }\n",
              "\n",
              "    .colab-df-convert {\n",
              "      background-color: #E8F0FE;\n",
              "      border: none;\n",
              "      border-radius: 50%;\n",
              "      cursor: pointer;\n",
              "      display: none;\n",
              "      fill: #1967D2;\n",
              "      height: 32px;\n",
              "      padding: 0 0 0 0;\n",
              "      width: 32px;\n",
              "    }\n",
              "\n",
              "    .colab-df-convert:hover {\n",
              "      background-color: #E2EBFA;\n",
              "      box-shadow: 0px 1px 2px rgba(60, 64, 67, 0.3), 0px 1px 3px 1px rgba(60, 64, 67, 0.15);\n",
              "      fill: #174EA6;\n",
              "    }\n",
              "\n",
              "    [theme=dark] .colab-df-convert {\n",
              "      background-color: #3B4455;\n",
              "      fill: #D2E3FC;\n",
              "    }\n",
              "\n",
              "    [theme=dark] .colab-df-convert:hover {\n",
              "      background-color: #434B5C;\n",
              "      box-shadow: 0px 1px 3px 1px rgba(0, 0, 0, 0.15);\n",
              "      filter: drop-shadow(0px 1px 2px rgba(0, 0, 0, 0.3));\n",
              "      fill: #FFFFFF;\n",
              "    }\n",
              "  </style>\n",
              "\n",
              "      <script>\n",
              "        const buttonEl =\n",
              "          document.querySelector('#df-4747f20a-e799-43ef-b603-c42d7c5aabb4 button.colab-df-convert');\n",
              "        buttonEl.style.display =\n",
              "          google.colab.kernel.accessAllowed ? 'block' : 'none';\n",
              "\n",
              "        async function convertToInteractive(key) {\n",
              "          const element = document.querySelector('#df-4747f20a-e799-43ef-b603-c42d7c5aabb4');\n",
              "          const dataTable =\n",
              "            await google.colab.kernel.invokeFunction('convertToInteractive',\n",
              "                                                     [key], {});\n",
              "          if (!dataTable) return;\n",
              "\n",
              "          const docLinkHtml = 'Like what you see? Visit the ' +\n",
              "            '<a target=\"_blank\" href=https://colab.research.google.com/notebooks/data_table.ipynb>data table notebook</a>'\n",
              "            + ' to learn more about interactive tables.';\n",
              "          element.innerHTML = '';\n",
              "          dataTable['output_type'] = 'display_data';\n",
              "          await google.colab.output.renderOutput(dataTable, element);\n",
              "          const docLink = document.createElement('div');\n",
              "          docLink.innerHTML = docLinkHtml;\n",
              "          element.appendChild(docLink);\n",
              "        }\n",
              "      </script>\n",
              "    </div>\n",
              "  </div>\n",
              "  "
            ]
          },
          "metadata": {},
          "execution_count": 100
        }
      ],
      "source": [
        "#Print the Top15 words for each of the topics\n",
        "words = np.array(tfidf.get_feature_names())\n",
        "topic_words_df = pd.DataFrame(np.zeros((num_topics, 15)), index=[f'Topic {i + 1}' for i in range(num_topics)],\n",
        "                           columns=[f'Word {i + 1}' for i in range(15)]).astype(str)\n",
        "for i in range(num_topics):\n",
        "    ix = nmf_model.components_[i].argsort()[::-1][:15]\n",
        "    topic_words_df.iloc[i] = words[ix]\n",
        "\n",
        "topic_words_df"
      ]
    },
    {
      "cell_type": "code",
      "execution_count": 101,
      "metadata": {
        "colab": {
          "base_uri": "https://localhost:8080/"
        },
        "id": "0OIT7LmFJrGF",
        "outputId": "a0b70a72-5fcf-492f-f60e-34c5f77427bf"
      },
      "outputs": [
        {
          "output_type": "execute_result",
          "data": {
            "text/plain": [
              "array([3, 3, 1, ..., 3, 4, 4])"
            ]
          },
          "metadata": {},
          "execution_count": 101
        }
      ],
      "source": [
        "#Create the best topic for each complaint in terms of integer value 0,1,2,3 & 4\n",
        "topic_results = nmf_model.transform(dtm)\n",
        "topic_results.argmax(axis=1)"
      ]
    },
    {
      "cell_type": "code",
      "execution_count": 102,
      "metadata": {
        "id": "peyYv-ORJrGF"
      },
      "outputs": [],
      "source": [
        "#Assign the best topic to each of the cmplaints in Topic Column\n",
        "\n",
        "df_clean['Topic'] = topic_results.argmax(axis=1)#write your code to assign topics to each rows."
      ]
    },
    {
      "cell_type": "code",
      "execution_count": 106,
      "metadata": {
        "colab": {
          "base_uri": "https://localhost:8080/",
          "height": 1869
        },
        "id": "aQKpufSPJrGG",
        "outputId": "6bb5c46c-e16e-4762-97dc-aeffa1dd8522"
      },
      "outputs": [
        {
          "output_type": "execute_result",
          "data": {
            "text/plain": [
              "                               complaint_what_happened  \\\n",
              "32   my chase amazon card was declined for a cateri...   \n",
              "59   i currently have over xxxx chase ultimate rewa...   \n",
              "52   my roommate was stealing my chase debit card a...   \n",
              "40   xxxx xxxx a sofa love seat table and chairs an...   \n",
              "50   i am a senior citizen that has been scammed by...   \n",
              "10   chase card was reported on  however fraudulent...   \n",
              "11   on  while trying to book a xxxx  xxxx  ticket ...   \n",
              "15                       can you please remove inquiry   \n",
              "23   i have a chase credit card which is incorrectl...   \n",
              "26   i have reached out to xxxx several times in at...   \n",
              "99   my name is xxxx xxxx i have missed a payment i...   \n",
              "81   i bought a new xxxx xxxx on xxxxxxxx from xxxx...   \n",
              "73   i have wired through one of chase branches in ...   \n",
              "57   i have been trying to do a loan modification w...   \n",
              "24   mishandling of this account by chase auto and ...   \n",
              "1    good morning my name is xxxx xxxx and i apprec...   \n",
              "21   on xxxx  i made a  payment to an online retail...   \n",
              "17   with out notice jp morgan chase restricted my ...   \n",
              "14   my grand son give me check for  i deposit it i...   \n",
              "2    i upgraded my xxxx xxxx card in  and was told ...   \n",
              "58   i made a purchase of  on xxxxxxxx i made payme...   \n",
              "20   during the summer months i experience a declin...   \n",
              "82   i recently called to ask chase bank why they r...   \n",
              "141  action taken by the company between the dates ...   \n",
              "167  a double payment from my chase debt cart to ch...   \n",
              "\n",
              "                                       Lemm_Complaints  \\\n",
              "32   chase amazon card catering order funeral amoun...   \n",
              "59   chase bonus chase freedom page request time im...   \n",
              "52   roommate chase debit card license money accoun...   \n",
              "40   sofa love seat table debit card bank claim fur...   \n",
              "50   citizen time share nothing refund credit card ...   \n",
              "10   chase card application identity consent credit...   \n",
              "11   ticket offer ticket card information offer min...   \n",
              "15                                             inquiry   \n",
              "23       chase credit card credit report company issue   \n",
              "26   attempt inquiry creditor inquiry report chase ...   \n",
              "99   name payment loan modification loss mitigation...   \n",
              "81   loan title chase time resolution time nothing ...   \n",
              "73   chase reinstatement amount order foreclosure p...   \n",
              "57                loan modification chase runaround mo   \n",
              "24                             account chase auto xxxx   \n",
              "1    morning name stop debt verification statement ...   \n",
              "21   payment retailer chase pay chase website scam ...   \n",
              "17   notice chase account debit card branch custome...   \n",
              "14   son check chase account fund chase bank accoun...   \n",
              "2    agent anniversary date agent information order...   \n",
              "58   purchase payment closing date statement statem...   \n",
              "20   summer decline income employment month payment...   \n",
              "82   chase bank credit bureau payment info bill bal...   \n",
              "141  action company group chase claim individual gr...   \n",
              "167  payment chase debt cart credit card request mo...   \n",
              "\n",
              "                                 complaint_POS_removed  \\\n",
              "32   amazon card catering order funeral amount chas...   \n",
              "59   chase bonus chase freedom page request time im...   \n",
              "52   roommate chase debit card license money accoun...   \n",
              "40   love seat table debit card bank claim furnitur...   \n",
              "50   citizen time nothing credit card information c...   \n",
              "10   chase card application identity consent credit...   \n",
              "11   ticket offer ticket card information minute sc...   \n",
              "15                                             inquiry   \n",
              "23       chase credit card credit report company issue   \n",
              "26   inquiry creditor inquiry inquiry person care i...   \n",
              "99   name payment loan modification loss mitigation...   \n",
              "81   loan title chase time resolution time nothing ...   \n",
              "73   chase reinstatement amount order foreclosure p...   \n",
              "57                             loan modification chase   \n",
              "24                                          chase auto   \n",
              "1    morning name debt verification statement bank ...   \n",
              "21   payment retailer chase pay chase website scam ...   \n",
              "17   chase account debit card branch customer servi...   \n",
              "14   account money son money bank check owner count...   \n",
              "2    agent anniversary date agent information order...   \n",
              "58   payment closing date statement statement purch...   \n",
              "20   summer income employment month payment extensi...   \n",
              "82   credit payment info balance day payment day re...   \n",
              "141  action company group chase group payment loan ...   \n",
              "167  payment chase debt cart credit card request mo...   \n",
              "\n",
              "                                       Complaint_clean  Topic  \n",
              "32   amazon card catering order funeral amount chas...      0  \n",
              "59   chase bonus chase freedom page request time im...      0  \n",
              "52   roommate chase debit card license money accoun...      0  \n",
              "40   love seat table debit card bank claim furnitur...      0  \n",
              "50   citizen time nothing credit card information c...      0  \n",
              "10   chase card application identity consent credit...      1  \n",
              "11   ticket offer ticket card information minute sc...      1  \n",
              "15                                             inquiry      1  \n",
              "23       chase credit card credit report company issue      1  \n",
              "26   inquiry creditor inquiry inquiry person care i...      1  \n",
              "99   name payment loan modification loss mitigation...      2  \n",
              "81   loan title chase time resolution time nothing ...      2  \n",
              "73   chase reinstatement amount order foreclosure p...      2  \n",
              "57                             loan modification chase      2  \n",
              "24                                          chase auto      2  \n",
              "1    morning name debt verification statement bank ...      3  \n",
              "21   payment retailer chase pay chase website scam ...      3  \n",
              "17   chase account debit card branch customer servi...      3  \n",
              "14   account money son money bank check owner count...      3  \n",
              "2    agent anniversary date agent information order...      3  \n",
              "58   payment closing date statement statement purch...      4  \n",
              "20   summer income employment month payment extensi...      4  \n",
              "82   credit payment info balance day payment day re...      4  \n",
              "141  action company group chase group payment loan ...      4  \n",
              "167  payment chase debt cart credit card request mo...      4  "
            ],
            "text/html": [
              "\n",
              "  <div id=\"df-3061dbee-f486-4161-882b-6d152d4c1cff\">\n",
              "    <div class=\"colab-df-container\">\n",
              "      <div>\n",
              "<style scoped>\n",
              "    .dataframe tbody tr th:only-of-type {\n",
              "        vertical-align: middle;\n",
              "    }\n",
              "\n",
              "    .dataframe tbody tr th {\n",
              "        vertical-align: top;\n",
              "    }\n",
              "\n",
              "    .dataframe thead th {\n",
              "        text-align: right;\n",
              "    }\n",
              "</style>\n",
              "<table border=\"1\" class=\"dataframe\">\n",
              "  <thead>\n",
              "    <tr style=\"text-align: right;\">\n",
              "      <th></th>\n",
              "      <th>complaint_what_happened</th>\n",
              "      <th>Lemm_Complaints</th>\n",
              "      <th>complaint_POS_removed</th>\n",
              "      <th>Complaint_clean</th>\n",
              "      <th>Topic</th>\n",
              "    </tr>\n",
              "  </thead>\n",
              "  <tbody>\n",
              "    <tr>\n",
              "      <th>32</th>\n",
              "      <td>my chase amazon card was declined for a cateri...</td>\n",
              "      <td>chase amazon card catering order funeral amoun...</td>\n",
              "      <td>amazon card catering order funeral amount chas...</td>\n",
              "      <td>amazon card catering order funeral amount chas...</td>\n",
              "      <td>0</td>\n",
              "    </tr>\n",
              "    <tr>\n",
              "      <th>59</th>\n",
              "      <td>i currently have over xxxx chase ultimate rewa...</td>\n",
              "      <td>chase bonus chase freedom page request time im...</td>\n",
              "      <td>chase bonus chase freedom page request time im...</td>\n",
              "      <td>chase bonus chase freedom page request time im...</td>\n",
              "      <td>0</td>\n",
              "    </tr>\n",
              "    <tr>\n",
              "      <th>52</th>\n",
              "      <td>my roommate was stealing my chase debit card a...</td>\n",
              "      <td>roommate chase debit card license money accoun...</td>\n",
              "      <td>roommate chase debit card license money accoun...</td>\n",
              "      <td>roommate chase debit card license money accoun...</td>\n",
              "      <td>0</td>\n",
              "    </tr>\n",
              "    <tr>\n",
              "      <th>40</th>\n",
              "      <td>xxxx xxxx a sofa love seat table and chairs an...</td>\n",
              "      <td>sofa love seat table debit card bank claim fur...</td>\n",
              "      <td>love seat table debit card bank claim furnitur...</td>\n",
              "      <td>love seat table debit card bank claim furnitur...</td>\n",
              "      <td>0</td>\n",
              "    </tr>\n",
              "    <tr>\n",
              "      <th>50</th>\n",
              "      <td>i am a senior citizen that has been scammed by...</td>\n",
              "      <td>citizen time share nothing refund credit card ...</td>\n",
              "      <td>citizen time nothing credit card information c...</td>\n",
              "      <td>citizen time nothing credit card information c...</td>\n",
              "      <td>0</td>\n",
              "    </tr>\n",
              "    <tr>\n",
              "      <th>10</th>\n",
              "      <td>chase card was reported on  however fraudulent...</td>\n",
              "      <td>chase card application identity consent credit...</td>\n",
              "      <td>chase card application identity consent credit...</td>\n",
              "      <td>chase card application identity consent credit...</td>\n",
              "      <td>1</td>\n",
              "    </tr>\n",
              "    <tr>\n",
              "      <th>11</th>\n",
              "      <td>on  while trying to book a xxxx  xxxx  ticket ...</td>\n",
              "      <td>ticket offer ticket card information offer min...</td>\n",
              "      <td>ticket offer ticket card information minute sc...</td>\n",
              "      <td>ticket offer ticket card information minute sc...</td>\n",
              "      <td>1</td>\n",
              "    </tr>\n",
              "    <tr>\n",
              "      <th>15</th>\n",
              "      <td>can you please remove inquiry</td>\n",
              "      <td>inquiry</td>\n",
              "      <td>inquiry</td>\n",
              "      <td>inquiry</td>\n",
              "      <td>1</td>\n",
              "    </tr>\n",
              "    <tr>\n",
              "      <th>23</th>\n",
              "      <td>i have a chase credit card which is incorrectl...</td>\n",
              "      <td>chase credit card credit report company issue</td>\n",
              "      <td>chase credit card credit report company issue</td>\n",
              "      <td>chase credit card credit report company issue</td>\n",
              "      <td>1</td>\n",
              "    </tr>\n",
              "    <tr>\n",
              "      <th>26</th>\n",
              "      <td>i have reached out to xxxx several times in at...</td>\n",
              "      <td>attempt inquiry creditor inquiry report chase ...</td>\n",
              "      <td>inquiry creditor inquiry inquiry person care i...</td>\n",
              "      <td>inquiry creditor inquiry inquiry person care i...</td>\n",
              "      <td>1</td>\n",
              "    </tr>\n",
              "    <tr>\n",
              "      <th>99</th>\n",
              "      <td>my name is xxxx xxxx i have missed a payment i...</td>\n",
              "      <td>name payment loan modification loss mitigation...</td>\n",
              "      <td>name payment loan modification loss mitigation...</td>\n",
              "      <td>name payment loan modification loss mitigation...</td>\n",
              "      <td>2</td>\n",
              "    </tr>\n",
              "    <tr>\n",
              "      <th>81</th>\n",
              "      <td>i bought a new xxxx xxxx on xxxxxxxx from xxxx...</td>\n",
              "      <td>loan title chase time resolution time nothing ...</td>\n",
              "      <td>loan title chase time resolution time nothing ...</td>\n",
              "      <td>loan title chase time resolution time nothing ...</td>\n",
              "      <td>2</td>\n",
              "    </tr>\n",
              "    <tr>\n",
              "      <th>73</th>\n",
              "      <td>i have wired through one of chase branches in ...</td>\n",
              "      <td>chase reinstatement amount order foreclosure p...</td>\n",
              "      <td>chase reinstatement amount order foreclosure p...</td>\n",
              "      <td>chase reinstatement amount order foreclosure p...</td>\n",
              "      <td>2</td>\n",
              "    </tr>\n",
              "    <tr>\n",
              "      <th>57</th>\n",
              "      <td>i have been trying to do a loan modification w...</td>\n",
              "      <td>loan modification chase runaround mo</td>\n",
              "      <td>loan modification chase</td>\n",
              "      <td>loan modification chase</td>\n",
              "      <td>2</td>\n",
              "    </tr>\n",
              "    <tr>\n",
              "      <th>24</th>\n",
              "      <td>mishandling of this account by chase auto and ...</td>\n",
              "      <td>account chase auto xxxx</td>\n",
              "      <td>chase auto</td>\n",
              "      <td>chase auto</td>\n",
              "      <td>2</td>\n",
              "    </tr>\n",
              "    <tr>\n",
              "      <th>1</th>\n",
              "      <td>good morning my name is xxxx xxxx and i apprec...</td>\n",
              "      <td>morning name stop debt verification statement ...</td>\n",
              "      <td>morning name debt verification statement bank ...</td>\n",
              "      <td>morning name debt verification statement bank ...</td>\n",
              "      <td>3</td>\n",
              "    </tr>\n",
              "    <tr>\n",
              "      <th>21</th>\n",
              "      <td>on xxxx  i made a  payment to an online retail...</td>\n",
              "      <td>payment retailer chase pay chase website scam ...</td>\n",
              "      <td>payment retailer chase pay chase website scam ...</td>\n",
              "      <td>payment retailer chase pay chase website scam ...</td>\n",
              "      <td>3</td>\n",
              "    </tr>\n",
              "    <tr>\n",
              "      <th>17</th>\n",
              "      <td>with out notice jp morgan chase restricted my ...</td>\n",
              "      <td>notice chase account debit card branch custome...</td>\n",
              "      <td>chase account debit card branch customer servi...</td>\n",
              "      <td>chase account debit card branch customer servi...</td>\n",
              "      <td>3</td>\n",
              "    </tr>\n",
              "    <tr>\n",
              "      <th>14</th>\n",
              "      <td>my grand son give me check for  i deposit it i...</td>\n",
              "      <td>son check chase account fund chase bank accoun...</td>\n",
              "      <td>account money son money bank check owner count...</td>\n",
              "      <td>account money son money bank check owner count...</td>\n",
              "      <td>3</td>\n",
              "    </tr>\n",
              "    <tr>\n",
              "      <th>2</th>\n",
              "      <td>i upgraded my xxxx xxxx card in  and was told ...</td>\n",
              "      <td>agent anniversary date agent information order...</td>\n",
              "      <td>agent anniversary date agent information order...</td>\n",
              "      <td>agent anniversary date agent information order...</td>\n",
              "      <td>3</td>\n",
              "    </tr>\n",
              "    <tr>\n",
              "      <th>58</th>\n",
              "      <td>i made a purchase of  on xxxxxxxx i made payme...</td>\n",
              "      <td>purchase payment closing date statement statem...</td>\n",
              "      <td>payment closing date statement statement purch...</td>\n",
              "      <td>payment closing date statement statement purch...</td>\n",
              "      <td>4</td>\n",
              "    </tr>\n",
              "    <tr>\n",
              "      <th>20</th>\n",
              "      <td>during the summer months i experience a declin...</td>\n",
              "      <td>summer decline income employment month payment...</td>\n",
              "      <td>summer income employment month payment extensi...</td>\n",
              "      <td>summer income employment month payment extensi...</td>\n",
              "      <td>4</td>\n",
              "    </tr>\n",
              "    <tr>\n",
              "      <th>82</th>\n",
              "      <td>i recently called to ask chase bank why they r...</td>\n",
              "      <td>chase bank credit bureau payment info bill bal...</td>\n",
              "      <td>credit payment info balance day payment day re...</td>\n",
              "      <td>credit payment info balance day payment day re...</td>\n",
              "      <td>4</td>\n",
              "    </tr>\n",
              "    <tr>\n",
              "      <th>141</th>\n",
              "      <td>action taken by the company between the dates ...</td>\n",
              "      <td>action company group chase claim individual gr...</td>\n",
              "      <td>action company group chase group payment loan ...</td>\n",
              "      <td>action company group chase group payment loan ...</td>\n",
              "      <td>4</td>\n",
              "    </tr>\n",
              "    <tr>\n",
              "      <th>167</th>\n",
              "      <td>a double payment from my chase debt cart to ch...</td>\n",
              "      <td>payment chase debt cart credit card request mo...</td>\n",
              "      <td>payment chase debt cart credit card request mo...</td>\n",
              "      <td>payment chase debt cart credit card request mo...</td>\n",
              "      <td>4</td>\n",
              "    </tr>\n",
              "  </tbody>\n",
              "</table>\n",
              "</div>\n",
              "      <button class=\"colab-df-convert\" onclick=\"convertToInteractive('df-3061dbee-f486-4161-882b-6d152d4c1cff')\"\n",
              "              title=\"Convert this dataframe to an interactive table.\"\n",
              "              style=\"display:none;\">\n",
              "        \n",
              "  <svg xmlns=\"http://www.w3.org/2000/svg\" height=\"24px\"viewBox=\"0 0 24 24\"\n",
              "       width=\"24px\">\n",
              "    <path d=\"M0 0h24v24H0V0z\" fill=\"none\"/>\n",
              "    <path d=\"M18.56 5.44l.94 2.06.94-2.06 2.06-.94-2.06-.94-.94-2.06-.94 2.06-2.06.94zm-11 1L8.5 8.5l.94-2.06 2.06-.94-2.06-.94L8.5 2.5l-.94 2.06-2.06.94zm10 10l.94 2.06.94-2.06 2.06-.94-2.06-.94-.94-2.06-.94 2.06-2.06.94z\"/><path d=\"M17.41 7.96l-1.37-1.37c-.4-.4-.92-.59-1.43-.59-.52 0-1.04.2-1.43.59L10.3 9.45l-7.72 7.72c-.78.78-.78 2.05 0 2.83L4 21.41c.39.39.9.59 1.41.59.51 0 1.02-.2 1.41-.59l7.78-7.78 2.81-2.81c.8-.78.8-2.07 0-2.86zM5.41 20L4 18.59l7.72-7.72 1.47 1.35L5.41 20z\"/>\n",
              "  </svg>\n",
              "      </button>\n",
              "      \n",
              "  <style>\n",
              "    .colab-df-container {\n",
              "      display:flex;\n",
              "      flex-wrap:wrap;\n",
              "      gap: 12px;\n",
              "    }\n",
              "\n",
              "    .colab-df-convert {\n",
              "      background-color: #E8F0FE;\n",
              "      border: none;\n",
              "      border-radius: 50%;\n",
              "      cursor: pointer;\n",
              "      display: none;\n",
              "      fill: #1967D2;\n",
              "      height: 32px;\n",
              "      padding: 0 0 0 0;\n",
              "      width: 32px;\n",
              "    }\n",
              "\n",
              "    .colab-df-convert:hover {\n",
              "      background-color: #E2EBFA;\n",
              "      box-shadow: 0px 1px 2px rgba(60, 64, 67, 0.3), 0px 1px 3px 1px rgba(60, 64, 67, 0.15);\n",
              "      fill: #174EA6;\n",
              "    }\n",
              "\n",
              "    [theme=dark] .colab-df-convert {\n",
              "      background-color: #3B4455;\n",
              "      fill: #D2E3FC;\n",
              "    }\n",
              "\n",
              "    [theme=dark] .colab-df-convert:hover {\n",
              "      background-color: #434B5C;\n",
              "      box-shadow: 0px 1px 3px 1px rgba(0, 0, 0, 0.15);\n",
              "      filter: drop-shadow(0px 1px 2px rgba(0, 0, 0, 0.3));\n",
              "      fill: #FFFFFF;\n",
              "    }\n",
              "  </style>\n",
              "\n",
              "      <script>\n",
              "        const buttonEl =\n",
              "          document.querySelector('#df-3061dbee-f486-4161-882b-6d152d4c1cff button.colab-df-convert');\n",
              "        buttonEl.style.display =\n",
              "          google.colab.kernel.accessAllowed ? 'block' : 'none';\n",
              "\n",
              "        async function convertToInteractive(key) {\n",
              "          const element = document.querySelector('#df-3061dbee-f486-4161-882b-6d152d4c1cff');\n",
              "          const dataTable =\n",
              "            await google.colab.kernel.invokeFunction('convertToInteractive',\n",
              "                                                     [key], {});\n",
              "          if (!dataTable) return;\n",
              "\n",
              "          const docLinkHtml = 'Like what you see? Visit the ' +\n",
              "            '<a target=\"_blank\" href=https://colab.research.google.com/notebooks/data_table.ipynb>data table notebook</a>'\n",
              "            + ' to learn more about interactive tables.';\n",
              "          element.innerHTML = '';\n",
              "          dataTable['output_type'] = 'display_data';\n",
              "          await google.colab.output.renderOutput(dataTable, element);\n",
              "          const docLink = document.createElement('div');\n",
              "          docLink.innerHTML = docLinkHtml;\n",
              "          element.appendChild(docLink);\n",
              "        }\n",
              "      </script>\n",
              "    </div>\n",
              "  </div>\n",
              "  "
            ]
          },
          "metadata": {},
          "execution_count": 106
        }
      ],
      "source": [
        "#Print the first 5 Complaint for each of the Topics\n",
        "df_clean_5 = df_clean.groupby('Topic').head(5)\n",
        "df_clean_5.sort_values('Topic')"
      ]
    },
    {
      "cell_type": "markdown",
      "metadata": {
        "id": "piyLxzj6v07j"
      },
      "source": [
        "#### After evaluating the mapping, if the topics assigned are correct then assign these names to the relevant topic:\n",
        "\n",
        "* Topic 0: Credit card or prepaid card\n",
        "* Topic 1: Theft/Dispute Reporting\n",
        "* Topic 2: Mortgage/Loan\n",
        "* Topic 3: Bank Account services\n",
        "* Topic 4: Others"
      ]
    },
    {
      "cell_type": "code",
      "execution_count": 107,
      "metadata": {
        "id": "TWpwDG4RJrGG"
      },
      "outputs": [],
      "source": [
        "#Create the dictionary of Topic names and Topics\n",
        "\n",
        "Topic_names = {0:'Credit card or prepaid card', 1:'Theft/Dispute Reporting', 2:'Mortgage/Loan', 3:'Bank Account services', 4:'Others'   }\n",
        "#Replace Topics with Topic Names\n",
        "df_clean['Topic'] = df_clean['Topic'].map(Topic_names)"
      ]
    },
    {
      "cell_type": "code",
      "execution_count": 108,
      "metadata": {
        "colab": {
          "base_uri": "https://localhost:8080/",
          "height": 337
        },
        "id": "-2ULY5K6JrGG",
        "outputId": "a78e141a-1fbc-4382-bec5-cf99cb093a37"
      },
      "outputs": [
        {
          "output_type": "execute_result",
          "data": {
            "text/plain": [
              "                              complaint_what_happened  \\\n",
              "1   good morning my name is xxxx xxxx and i apprec...   \n",
              "2   i upgraded my xxxx xxxx card in  and was told ...   \n",
              "10  chase card was reported on  however fraudulent...   \n",
              "11  on  while trying to book a xxxx  xxxx  ticket ...   \n",
              "14  my grand son give me check for  i deposit it i...   \n",
              "\n",
              "                                      Lemm_Complaints  \\\n",
              "1   morning name stop debt verification statement ...   \n",
              "2   agent anniversary date agent information order...   \n",
              "10  chase card application identity consent credit...   \n",
              "11  ticket offer ticket card information offer min...   \n",
              "14  son check chase account fund chase bank accoun...   \n",
              "\n",
              "                                complaint_POS_removed  \\\n",
              "1   morning name debt verification statement bank ...   \n",
              "2   agent anniversary date agent information order...   \n",
              "10  chase card application identity consent credit...   \n",
              "11  ticket offer ticket card information minute sc...   \n",
              "14  account money son money bank check owner count...   \n",
              "\n",
              "                                      Complaint_clean                    Topic  \n",
              "1   morning name debt verification statement bank ...    Bank Account services  \n",
              "2   agent anniversary date agent information order...    Bank Account services  \n",
              "10  chase card application identity consent credit...  Theft/Dispute Reporting  \n",
              "11  ticket offer ticket card information minute sc...  Theft/Dispute Reporting  \n",
              "14  account money son money bank check owner count...    Bank Account services  "
            ],
            "text/html": [
              "\n",
              "  <div id=\"df-068bda17-4069-4773-8233-3be385074bc9\">\n",
              "    <div class=\"colab-df-container\">\n",
              "      <div>\n",
              "<style scoped>\n",
              "    .dataframe tbody tr th:only-of-type {\n",
              "        vertical-align: middle;\n",
              "    }\n",
              "\n",
              "    .dataframe tbody tr th {\n",
              "        vertical-align: top;\n",
              "    }\n",
              "\n",
              "    .dataframe thead th {\n",
              "        text-align: right;\n",
              "    }\n",
              "</style>\n",
              "<table border=\"1\" class=\"dataframe\">\n",
              "  <thead>\n",
              "    <tr style=\"text-align: right;\">\n",
              "      <th></th>\n",
              "      <th>complaint_what_happened</th>\n",
              "      <th>Lemm_Complaints</th>\n",
              "      <th>complaint_POS_removed</th>\n",
              "      <th>Complaint_clean</th>\n",
              "      <th>Topic</th>\n",
              "    </tr>\n",
              "  </thead>\n",
              "  <tbody>\n",
              "    <tr>\n",
              "      <th>1</th>\n",
              "      <td>good morning my name is xxxx xxxx and i apprec...</td>\n",
              "      <td>morning name stop debt verification statement ...</td>\n",
              "      <td>morning name debt verification statement bank ...</td>\n",
              "      <td>morning name debt verification statement bank ...</td>\n",
              "      <td>Bank Account services</td>\n",
              "    </tr>\n",
              "    <tr>\n",
              "      <th>2</th>\n",
              "      <td>i upgraded my xxxx xxxx card in  and was told ...</td>\n",
              "      <td>agent anniversary date agent information order...</td>\n",
              "      <td>agent anniversary date agent information order...</td>\n",
              "      <td>agent anniversary date agent information order...</td>\n",
              "      <td>Bank Account services</td>\n",
              "    </tr>\n",
              "    <tr>\n",
              "      <th>10</th>\n",
              "      <td>chase card was reported on  however fraudulent...</td>\n",
              "      <td>chase card application identity consent credit...</td>\n",
              "      <td>chase card application identity consent credit...</td>\n",
              "      <td>chase card application identity consent credit...</td>\n",
              "      <td>Theft/Dispute Reporting</td>\n",
              "    </tr>\n",
              "    <tr>\n",
              "      <th>11</th>\n",
              "      <td>on  while trying to book a xxxx  xxxx  ticket ...</td>\n",
              "      <td>ticket offer ticket card information offer min...</td>\n",
              "      <td>ticket offer ticket card information minute sc...</td>\n",
              "      <td>ticket offer ticket card information minute sc...</td>\n",
              "      <td>Theft/Dispute Reporting</td>\n",
              "    </tr>\n",
              "    <tr>\n",
              "      <th>14</th>\n",
              "      <td>my grand son give me check for  i deposit it i...</td>\n",
              "      <td>son check chase account fund chase bank accoun...</td>\n",
              "      <td>account money son money bank check owner count...</td>\n",
              "      <td>account money son money bank check owner count...</td>\n",
              "      <td>Bank Account services</td>\n",
              "    </tr>\n",
              "  </tbody>\n",
              "</table>\n",
              "</div>\n",
              "      <button class=\"colab-df-convert\" onclick=\"convertToInteractive('df-068bda17-4069-4773-8233-3be385074bc9')\"\n",
              "              title=\"Convert this dataframe to an interactive table.\"\n",
              "              style=\"display:none;\">\n",
              "        \n",
              "  <svg xmlns=\"http://www.w3.org/2000/svg\" height=\"24px\"viewBox=\"0 0 24 24\"\n",
              "       width=\"24px\">\n",
              "    <path d=\"M0 0h24v24H0V0z\" fill=\"none\"/>\n",
              "    <path d=\"M18.56 5.44l.94 2.06.94-2.06 2.06-.94-2.06-.94-.94-2.06-.94 2.06-2.06.94zm-11 1L8.5 8.5l.94-2.06 2.06-.94-2.06-.94L8.5 2.5l-.94 2.06-2.06.94zm10 10l.94 2.06.94-2.06 2.06-.94-2.06-.94-.94-2.06-.94 2.06-2.06.94z\"/><path d=\"M17.41 7.96l-1.37-1.37c-.4-.4-.92-.59-1.43-.59-.52 0-1.04.2-1.43.59L10.3 9.45l-7.72 7.72c-.78.78-.78 2.05 0 2.83L4 21.41c.39.39.9.59 1.41.59.51 0 1.02-.2 1.41-.59l7.78-7.78 2.81-2.81c.8-.78.8-2.07 0-2.86zM5.41 20L4 18.59l7.72-7.72 1.47 1.35L5.41 20z\"/>\n",
              "  </svg>\n",
              "      </button>\n",
              "      \n",
              "  <style>\n",
              "    .colab-df-container {\n",
              "      display:flex;\n",
              "      flex-wrap:wrap;\n",
              "      gap: 12px;\n",
              "    }\n",
              "\n",
              "    .colab-df-convert {\n",
              "      background-color: #E8F0FE;\n",
              "      border: none;\n",
              "      border-radius: 50%;\n",
              "      cursor: pointer;\n",
              "      display: none;\n",
              "      fill: #1967D2;\n",
              "      height: 32px;\n",
              "      padding: 0 0 0 0;\n",
              "      width: 32px;\n",
              "    }\n",
              "\n",
              "    .colab-df-convert:hover {\n",
              "      background-color: #E2EBFA;\n",
              "      box-shadow: 0px 1px 2px rgba(60, 64, 67, 0.3), 0px 1px 3px 1px rgba(60, 64, 67, 0.15);\n",
              "      fill: #174EA6;\n",
              "    }\n",
              "\n",
              "    [theme=dark] .colab-df-convert {\n",
              "      background-color: #3B4455;\n",
              "      fill: #D2E3FC;\n",
              "    }\n",
              "\n",
              "    [theme=dark] .colab-df-convert:hover {\n",
              "      background-color: #434B5C;\n",
              "      box-shadow: 0px 1px 3px 1px rgba(0, 0, 0, 0.15);\n",
              "      filter: drop-shadow(0px 1px 2px rgba(0, 0, 0, 0.3));\n",
              "      fill: #FFFFFF;\n",
              "    }\n",
              "  </style>\n",
              "\n",
              "      <script>\n",
              "        const buttonEl =\n",
              "          document.querySelector('#df-068bda17-4069-4773-8233-3be385074bc9 button.colab-df-convert');\n",
              "        buttonEl.style.display =\n",
              "          google.colab.kernel.accessAllowed ? 'block' : 'none';\n",
              "\n",
              "        async function convertToInteractive(key) {\n",
              "          const element = document.querySelector('#df-068bda17-4069-4773-8233-3be385074bc9');\n",
              "          const dataTable =\n",
              "            await google.colab.kernel.invokeFunction('convertToInteractive',\n",
              "                                                     [key], {});\n",
              "          if (!dataTable) return;\n",
              "\n",
              "          const docLinkHtml = 'Like what you see? Visit the ' +\n",
              "            '<a target=\"_blank\" href=https://colab.research.google.com/notebooks/data_table.ipynb>data table notebook</a>'\n",
              "            + ' to learn more about interactive tables.';\n",
              "          element.innerHTML = '';\n",
              "          dataTable['output_type'] = 'display_data';\n",
              "          await google.colab.output.renderOutput(dataTable, element);\n",
              "          const docLink = document.createElement('div');\n",
              "          docLink.innerHTML = docLinkHtml;\n",
              "          element.appendChild(docLink);\n",
              "        }\n",
              "      </script>\n",
              "    </div>\n",
              "  </div>\n",
              "  "
            ]
          },
          "metadata": {},
          "execution_count": 108
        }
      ],
      "source": [
        "# checking the valeus are re-mapping\n",
        "df_clean.head(5)"
      ]
    },
    {
      "cell_type": "markdown",
      "metadata": {
        "id": "7Mu0QBOcJrGH"
      },
      "source": [
        "## Supervised model to predict any new complaints to the relevant Topics.\n",
        "\n",
        "You have now build the model to create the topics for each complaints.Now in the below section you will use them to classify any new complaints.\n",
        "\n",
        "Since you will be using supervised learning technique we have to convert the topic names to numbers(numpy arrays only understand numbers)"
      ]
    },
    {
      "cell_type": "code",
      "execution_count": 110,
      "metadata": {
        "id": "_U8J3J8wJrGH"
      },
      "outputs": [],
      "source": [
        "#Create the dictionary again of Topic names and Topics\n",
        "\n",
        "Topic_names = {'Credit card or prepaid card':0, 'Theft/Dispute Reporting':1, 'Mortgage/Loan':2, 'Bank Account services':3, 'Others':4}\n",
        "#Replace Topics with Topic Names\n",
        "df_clean['Topic'] = df_clean['Topic'].map(Topic_names)"
      ]
    },
    {
      "cell_type": "code",
      "execution_count": 111,
      "metadata": {
        "colab": {
          "base_uri": "https://localhost:8080/",
          "height": 641
        },
        "id": "BWIgJUkQJrGH",
        "outputId": "ef9e7c0a-ce19-4fb0-c50a-b5f59e9e9765"
      },
      "outputs": [
        {
          "output_type": "execute_result",
          "data": {
            "text/plain": [
              "                                 complaint_what_happened  \\\n",
              "1      good morning my name is xxxx xxxx and i apprec...   \n",
              "2      i upgraded my xxxx xxxx card in  and was told ...   \n",
              "10     chase card was reported on  however fraudulent...   \n",
              "11     on  while trying to book a xxxx  xxxx  ticket ...   \n",
              "14     my grand son give me check for  i deposit it i...   \n",
              "...                                                  ...   \n",
              "78303  after being a chase card customer for well ove...   \n",
              "78309  on wednesday xxxxxxxx i called chas my xxxx xx...   \n",
              "78310  i am not familiar with xxxx pay and did not un...   \n",
              "78311  i have had flawless credit for  yrs ive had ch...   \n",
              "78312  roughly  years ago i closed out my accounts wi...   \n",
              "\n",
              "                                         Lemm_Complaints  \\\n",
              "1      morning name stop debt verification statement ...   \n",
              "2      agent anniversary date agent information order...   \n",
              "10     chase card application identity consent credit...   \n",
              "11     ticket offer ticket card information offer min...   \n",
              "14     son check chase account fund chase bank accoun...   \n",
              "...                                                  ...   \n",
              "78303  chase card customer decade credit chase bonus ...   \n",
              "78309  credit card provider claim purchase protection...   \n",
              "78310  pay risk chase bank app chase banking merchant...   \n",
              "78311  credit chase credit chase freedom balance life...   \n",
              "78312  order line credit account payment payment cred...   \n",
              "\n",
              "                                   complaint_POS_removed  \\\n",
              "1      morning name debt verification statement bank ...   \n",
              "2      agent anniversary date agent information order...   \n",
              "10     chase card application identity consent credit...   \n",
              "11     ticket offer ticket card information minute sc...   \n",
              "14     account money son money bank check owner count...   \n",
              "...                                                  ...   \n",
              "78303  chase card customer decade credit chase bonus ...   \n",
              "78309  credit card provider claim purchase protection...   \n",
              "78310  risk chase app chase banking merchant merchant...   \n",
              "78311  credit chase credit chase freedom balance life...   \n",
              "78312  order line credit account payment payment cred...   \n",
              "\n",
              "                                         Complaint_clean  Topic  \n",
              "1      morning name debt verification statement bank ...      3  \n",
              "2      agent anniversary date agent information order...      3  \n",
              "10     chase card application identity consent credit...      1  \n",
              "11     ticket offer ticket card information minute sc...      1  \n",
              "14     account money son money bank check owner count...      3  \n",
              "...                                                  ...    ...  \n",
              "78303  chase card customer decade credit chase bonus ...      0  \n",
              "78309  credit card provider claim purchase protection...      0  \n",
              "78310  risk chase app chase banking merchant merchant...      3  \n",
              "78311  credit chase credit chase freedom balance life...      4  \n",
              "78312  order line credit account payment payment cred...      4  \n",
              "\n",
              "[21011 rows x 5 columns]"
            ],
            "text/html": [
              "\n",
              "  <div id=\"df-1bbbb202-da88-4f62-8c74-59e49e34dae7\">\n",
              "    <div class=\"colab-df-container\">\n",
              "      <div>\n",
              "<style scoped>\n",
              "    .dataframe tbody tr th:only-of-type {\n",
              "        vertical-align: middle;\n",
              "    }\n",
              "\n",
              "    .dataframe tbody tr th {\n",
              "        vertical-align: top;\n",
              "    }\n",
              "\n",
              "    .dataframe thead th {\n",
              "        text-align: right;\n",
              "    }\n",
              "</style>\n",
              "<table border=\"1\" class=\"dataframe\">\n",
              "  <thead>\n",
              "    <tr style=\"text-align: right;\">\n",
              "      <th></th>\n",
              "      <th>complaint_what_happened</th>\n",
              "      <th>Lemm_Complaints</th>\n",
              "      <th>complaint_POS_removed</th>\n",
              "      <th>Complaint_clean</th>\n",
              "      <th>Topic</th>\n",
              "    </tr>\n",
              "  </thead>\n",
              "  <tbody>\n",
              "    <tr>\n",
              "      <th>1</th>\n",
              "      <td>good morning my name is xxxx xxxx and i apprec...</td>\n",
              "      <td>morning name stop debt verification statement ...</td>\n",
              "      <td>morning name debt verification statement bank ...</td>\n",
              "      <td>morning name debt verification statement bank ...</td>\n",
              "      <td>3</td>\n",
              "    </tr>\n",
              "    <tr>\n",
              "      <th>2</th>\n",
              "      <td>i upgraded my xxxx xxxx card in  and was told ...</td>\n",
              "      <td>agent anniversary date agent information order...</td>\n",
              "      <td>agent anniversary date agent information order...</td>\n",
              "      <td>agent anniversary date agent information order...</td>\n",
              "      <td>3</td>\n",
              "    </tr>\n",
              "    <tr>\n",
              "      <th>10</th>\n",
              "      <td>chase card was reported on  however fraudulent...</td>\n",
              "      <td>chase card application identity consent credit...</td>\n",
              "      <td>chase card application identity consent credit...</td>\n",
              "      <td>chase card application identity consent credit...</td>\n",
              "      <td>1</td>\n",
              "    </tr>\n",
              "    <tr>\n",
              "      <th>11</th>\n",
              "      <td>on  while trying to book a xxxx  xxxx  ticket ...</td>\n",
              "      <td>ticket offer ticket card information offer min...</td>\n",
              "      <td>ticket offer ticket card information minute sc...</td>\n",
              "      <td>ticket offer ticket card information minute sc...</td>\n",
              "      <td>1</td>\n",
              "    </tr>\n",
              "    <tr>\n",
              "      <th>14</th>\n",
              "      <td>my grand son give me check for  i deposit it i...</td>\n",
              "      <td>son check chase account fund chase bank accoun...</td>\n",
              "      <td>account money son money bank check owner count...</td>\n",
              "      <td>account money son money bank check owner count...</td>\n",
              "      <td>3</td>\n",
              "    </tr>\n",
              "    <tr>\n",
              "      <th>...</th>\n",
              "      <td>...</td>\n",
              "      <td>...</td>\n",
              "      <td>...</td>\n",
              "      <td>...</td>\n",
              "      <td>...</td>\n",
              "    </tr>\n",
              "    <tr>\n",
              "      <th>78303</th>\n",
              "      <td>after being a chase card customer for well ove...</td>\n",
              "      <td>chase card customer decade credit chase bonus ...</td>\n",
              "      <td>chase card customer decade credit chase bonus ...</td>\n",
              "      <td>chase card customer decade credit chase bonus ...</td>\n",
              "      <td>0</td>\n",
              "    </tr>\n",
              "    <tr>\n",
              "      <th>78309</th>\n",
              "      <td>on wednesday xxxxxxxx i called chas my xxxx xx...</td>\n",
              "      <td>credit card provider claim purchase protection...</td>\n",
              "      <td>credit card provider claim purchase protection...</td>\n",
              "      <td>credit card provider claim purchase protection...</td>\n",
              "      <td>0</td>\n",
              "    </tr>\n",
              "    <tr>\n",
              "      <th>78310</th>\n",
              "      <td>i am not familiar with xxxx pay and did not un...</td>\n",
              "      <td>pay risk chase bank app chase banking merchant...</td>\n",
              "      <td>risk chase app chase banking merchant merchant...</td>\n",
              "      <td>risk chase app chase banking merchant merchant...</td>\n",
              "      <td>3</td>\n",
              "    </tr>\n",
              "    <tr>\n",
              "      <th>78311</th>\n",
              "      <td>i have had flawless credit for  yrs ive had ch...</td>\n",
              "      <td>credit chase credit chase freedom balance life...</td>\n",
              "      <td>credit chase credit chase freedom balance life...</td>\n",
              "      <td>credit chase credit chase freedom balance life...</td>\n",
              "      <td>4</td>\n",
              "    </tr>\n",
              "    <tr>\n",
              "      <th>78312</th>\n",
              "      <td>roughly  years ago i closed out my accounts wi...</td>\n",
              "      <td>order line credit account payment payment cred...</td>\n",
              "      <td>order line credit account payment payment cred...</td>\n",
              "      <td>order line credit account payment payment cred...</td>\n",
              "      <td>4</td>\n",
              "    </tr>\n",
              "  </tbody>\n",
              "</table>\n",
              "<p>21011 rows × 5 columns</p>\n",
              "</div>\n",
              "      <button class=\"colab-df-convert\" onclick=\"convertToInteractive('df-1bbbb202-da88-4f62-8c74-59e49e34dae7')\"\n",
              "              title=\"Convert this dataframe to an interactive table.\"\n",
              "              style=\"display:none;\">\n",
              "        \n",
              "  <svg xmlns=\"http://www.w3.org/2000/svg\" height=\"24px\"viewBox=\"0 0 24 24\"\n",
              "       width=\"24px\">\n",
              "    <path d=\"M0 0h24v24H0V0z\" fill=\"none\"/>\n",
              "    <path d=\"M18.56 5.44l.94 2.06.94-2.06 2.06-.94-2.06-.94-.94-2.06-.94 2.06-2.06.94zm-11 1L8.5 8.5l.94-2.06 2.06-.94-2.06-.94L8.5 2.5l-.94 2.06-2.06.94zm10 10l.94 2.06.94-2.06 2.06-.94-2.06-.94-.94-2.06-.94 2.06-2.06.94z\"/><path d=\"M17.41 7.96l-1.37-1.37c-.4-.4-.92-.59-1.43-.59-.52 0-1.04.2-1.43.59L10.3 9.45l-7.72 7.72c-.78.78-.78 2.05 0 2.83L4 21.41c.39.39.9.59 1.41.59.51 0 1.02-.2 1.41-.59l7.78-7.78 2.81-2.81c.8-.78.8-2.07 0-2.86zM5.41 20L4 18.59l7.72-7.72 1.47 1.35L5.41 20z\"/>\n",
              "  </svg>\n",
              "      </button>\n",
              "      \n",
              "  <style>\n",
              "    .colab-df-container {\n",
              "      display:flex;\n",
              "      flex-wrap:wrap;\n",
              "      gap: 12px;\n",
              "    }\n",
              "\n",
              "    .colab-df-convert {\n",
              "      background-color: #E8F0FE;\n",
              "      border: none;\n",
              "      border-radius: 50%;\n",
              "      cursor: pointer;\n",
              "      display: none;\n",
              "      fill: #1967D2;\n",
              "      height: 32px;\n",
              "      padding: 0 0 0 0;\n",
              "      width: 32px;\n",
              "    }\n",
              "\n",
              "    .colab-df-convert:hover {\n",
              "      background-color: #E2EBFA;\n",
              "      box-shadow: 0px 1px 2px rgba(60, 64, 67, 0.3), 0px 1px 3px 1px rgba(60, 64, 67, 0.15);\n",
              "      fill: #174EA6;\n",
              "    }\n",
              "\n",
              "    [theme=dark] .colab-df-convert {\n",
              "      background-color: #3B4455;\n",
              "      fill: #D2E3FC;\n",
              "    }\n",
              "\n",
              "    [theme=dark] .colab-df-convert:hover {\n",
              "      background-color: #434B5C;\n",
              "      box-shadow: 0px 1px 3px 1px rgba(0, 0, 0, 0.15);\n",
              "      filter: drop-shadow(0px 1px 2px rgba(0, 0, 0, 0.3));\n",
              "      fill: #FFFFFF;\n",
              "    }\n",
              "  </style>\n",
              "\n",
              "      <script>\n",
              "        const buttonEl =\n",
              "          document.querySelector('#df-1bbbb202-da88-4f62-8c74-59e49e34dae7 button.colab-df-convert');\n",
              "        buttonEl.style.display =\n",
              "          google.colab.kernel.accessAllowed ? 'block' : 'none';\n",
              "\n",
              "        async function convertToInteractive(key) {\n",
              "          const element = document.querySelector('#df-1bbbb202-da88-4f62-8c74-59e49e34dae7');\n",
              "          const dataTable =\n",
              "            await google.colab.kernel.invokeFunction('convertToInteractive',\n",
              "                                                     [key], {});\n",
              "          if (!dataTable) return;\n",
              "\n",
              "          const docLinkHtml = 'Like what you see? Visit the ' +\n",
              "            '<a target=\"_blank\" href=https://colab.research.google.com/notebooks/data_table.ipynb>data table notebook</a>'\n",
              "            + ' to learn more about interactive tables.';\n",
              "          element.innerHTML = '';\n",
              "          dataTable['output_type'] = 'display_data';\n",
              "          await google.colab.output.renderOutput(dataTable, element);\n",
              "          const docLink = document.createElement('div');\n",
              "          docLink.innerHTML = docLinkHtml;\n",
              "          element.appendChild(docLink);\n",
              "        }\n",
              "      </script>\n",
              "    </div>\n",
              "  </div>\n",
              "  "
            ]
          },
          "metadata": {},
          "execution_count": 111
        }
      ],
      "source": [
        "df_clean"
      ]
    },
    {
      "cell_type": "code",
      "execution_count": 112,
      "metadata": {
        "id": "Xx-FrbkWJrGH"
      },
      "outputs": [],
      "source": [
        "#Keep the columns\"complaint_what_happened\" & \"Topic\" only in the new dataframe --> training_data\n",
        "training_data=df_clean[[\"complaint_what_happened\",\"Topic\"]]"
      ]
    },
    {
      "cell_type": "code",
      "execution_count": 113,
      "metadata": {
        "colab": {
          "base_uri": "https://localhost:8080/",
          "height": 424
        },
        "id": "lVg2pa12JrGI",
        "outputId": "52f81bcc-a74d-4410-ae58-dd982e255907"
      },
      "outputs": [
        {
          "output_type": "execute_result",
          "data": {
            "text/plain": [
              "                                 complaint_what_happened  Topic\n",
              "1      good morning my name is xxxx xxxx and i apprec...      3\n",
              "2      i upgraded my xxxx xxxx card in  and was told ...      3\n",
              "10     chase card was reported on  however fraudulent...      1\n",
              "11     on  while trying to book a xxxx  xxxx  ticket ...      1\n",
              "14     my grand son give me check for  i deposit it i...      3\n",
              "...                                                  ...    ...\n",
              "78303  after being a chase card customer for well ove...      0\n",
              "78309  on wednesday xxxxxxxx i called chas my xxxx xx...      0\n",
              "78310  i am not familiar with xxxx pay and did not un...      3\n",
              "78311  i have had flawless credit for  yrs ive had ch...      4\n",
              "78312  roughly  years ago i closed out my accounts wi...      4\n",
              "\n",
              "[21011 rows x 2 columns]"
            ],
            "text/html": [
              "\n",
              "  <div id=\"df-49f6ece9-a758-42b7-8486-98ead47ec954\">\n",
              "    <div class=\"colab-df-container\">\n",
              "      <div>\n",
              "<style scoped>\n",
              "    .dataframe tbody tr th:only-of-type {\n",
              "        vertical-align: middle;\n",
              "    }\n",
              "\n",
              "    .dataframe tbody tr th {\n",
              "        vertical-align: top;\n",
              "    }\n",
              "\n",
              "    .dataframe thead th {\n",
              "        text-align: right;\n",
              "    }\n",
              "</style>\n",
              "<table border=\"1\" class=\"dataframe\">\n",
              "  <thead>\n",
              "    <tr style=\"text-align: right;\">\n",
              "      <th></th>\n",
              "      <th>complaint_what_happened</th>\n",
              "      <th>Topic</th>\n",
              "    </tr>\n",
              "  </thead>\n",
              "  <tbody>\n",
              "    <tr>\n",
              "      <th>1</th>\n",
              "      <td>good morning my name is xxxx xxxx and i apprec...</td>\n",
              "      <td>3</td>\n",
              "    </tr>\n",
              "    <tr>\n",
              "      <th>2</th>\n",
              "      <td>i upgraded my xxxx xxxx card in  and was told ...</td>\n",
              "      <td>3</td>\n",
              "    </tr>\n",
              "    <tr>\n",
              "      <th>10</th>\n",
              "      <td>chase card was reported on  however fraudulent...</td>\n",
              "      <td>1</td>\n",
              "    </tr>\n",
              "    <tr>\n",
              "      <th>11</th>\n",
              "      <td>on  while trying to book a xxxx  xxxx  ticket ...</td>\n",
              "      <td>1</td>\n",
              "    </tr>\n",
              "    <tr>\n",
              "      <th>14</th>\n",
              "      <td>my grand son give me check for  i deposit it i...</td>\n",
              "      <td>3</td>\n",
              "    </tr>\n",
              "    <tr>\n",
              "      <th>...</th>\n",
              "      <td>...</td>\n",
              "      <td>...</td>\n",
              "    </tr>\n",
              "    <tr>\n",
              "      <th>78303</th>\n",
              "      <td>after being a chase card customer for well ove...</td>\n",
              "      <td>0</td>\n",
              "    </tr>\n",
              "    <tr>\n",
              "      <th>78309</th>\n",
              "      <td>on wednesday xxxxxxxx i called chas my xxxx xx...</td>\n",
              "      <td>0</td>\n",
              "    </tr>\n",
              "    <tr>\n",
              "      <th>78310</th>\n",
              "      <td>i am not familiar with xxxx pay and did not un...</td>\n",
              "      <td>3</td>\n",
              "    </tr>\n",
              "    <tr>\n",
              "      <th>78311</th>\n",
              "      <td>i have had flawless credit for  yrs ive had ch...</td>\n",
              "      <td>4</td>\n",
              "    </tr>\n",
              "    <tr>\n",
              "      <th>78312</th>\n",
              "      <td>roughly  years ago i closed out my accounts wi...</td>\n",
              "      <td>4</td>\n",
              "    </tr>\n",
              "  </tbody>\n",
              "</table>\n",
              "<p>21011 rows × 2 columns</p>\n",
              "</div>\n",
              "      <button class=\"colab-df-convert\" onclick=\"convertToInteractive('df-49f6ece9-a758-42b7-8486-98ead47ec954')\"\n",
              "              title=\"Convert this dataframe to an interactive table.\"\n",
              "              style=\"display:none;\">\n",
              "        \n",
              "  <svg xmlns=\"http://www.w3.org/2000/svg\" height=\"24px\"viewBox=\"0 0 24 24\"\n",
              "       width=\"24px\">\n",
              "    <path d=\"M0 0h24v24H0V0z\" fill=\"none\"/>\n",
              "    <path d=\"M18.56 5.44l.94 2.06.94-2.06 2.06-.94-2.06-.94-.94-2.06-.94 2.06-2.06.94zm-11 1L8.5 8.5l.94-2.06 2.06-.94-2.06-.94L8.5 2.5l-.94 2.06-2.06.94zm10 10l.94 2.06.94-2.06 2.06-.94-2.06-.94-.94-2.06-.94 2.06-2.06.94z\"/><path d=\"M17.41 7.96l-1.37-1.37c-.4-.4-.92-.59-1.43-.59-.52 0-1.04.2-1.43.59L10.3 9.45l-7.72 7.72c-.78.78-.78 2.05 0 2.83L4 21.41c.39.39.9.59 1.41.59.51 0 1.02-.2 1.41-.59l7.78-7.78 2.81-2.81c.8-.78.8-2.07 0-2.86zM5.41 20L4 18.59l7.72-7.72 1.47 1.35L5.41 20z\"/>\n",
              "  </svg>\n",
              "      </button>\n",
              "      \n",
              "  <style>\n",
              "    .colab-df-container {\n",
              "      display:flex;\n",
              "      flex-wrap:wrap;\n",
              "      gap: 12px;\n",
              "    }\n",
              "\n",
              "    .colab-df-convert {\n",
              "      background-color: #E8F0FE;\n",
              "      border: none;\n",
              "      border-radius: 50%;\n",
              "      cursor: pointer;\n",
              "      display: none;\n",
              "      fill: #1967D2;\n",
              "      height: 32px;\n",
              "      padding: 0 0 0 0;\n",
              "      width: 32px;\n",
              "    }\n",
              "\n",
              "    .colab-df-convert:hover {\n",
              "      background-color: #E2EBFA;\n",
              "      box-shadow: 0px 1px 2px rgba(60, 64, 67, 0.3), 0px 1px 3px 1px rgba(60, 64, 67, 0.15);\n",
              "      fill: #174EA6;\n",
              "    }\n",
              "\n",
              "    [theme=dark] .colab-df-convert {\n",
              "      background-color: #3B4455;\n",
              "      fill: #D2E3FC;\n",
              "    }\n",
              "\n",
              "    [theme=dark] .colab-df-convert:hover {\n",
              "      background-color: #434B5C;\n",
              "      box-shadow: 0px 1px 3px 1px rgba(0, 0, 0, 0.15);\n",
              "      filter: drop-shadow(0px 1px 2px rgba(0, 0, 0, 0.3));\n",
              "      fill: #FFFFFF;\n",
              "    }\n",
              "  </style>\n",
              "\n",
              "      <script>\n",
              "        const buttonEl =\n",
              "          document.querySelector('#df-49f6ece9-a758-42b7-8486-98ead47ec954 button.colab-df-convert');\n",
              "        buttonEl.style.display =\n",
              "          google.colab.kernel.accessAllowed ? 'block' : 'none';\n",
              "\n",
              "        async function convertToInteractive(key) {\n",
              "          const element = document.querySelector('#df-49f6ece9-a758-42b7-8486-98ead47ec954');\n",
              "          const dataTable =\n",
              "            await google.colab.kernel.invokeFunction('convertToInteractive',\n",
              "                                                     [key], {});\n",
              "          if (!dataTable) return;\n",
              "\n",
              "          const docLinkHtml = 'Like what you see? Visit the ' +\n",
              "            '<a target=\"_blank\" href=https://colab.research.google.com/notebooks/data_table.ipynb>data table notebook</a>'\n",
              "            + ' to learn more about interactive tables.';\n",
              "          element.innerHTML = '';\n",
              "          dataTable['output_type'] = 'display_data';\n",
              "          await google.colab.output.renderOutput(dataTable, element);\n",
              "          const docLink = document.createElement('div');\n",
              "          docLink.innerHTML = docLinkHtml;\n",
              "          element.appendChild(docLink);\n",
              "        }\n",
              "      </script>\n",
              "    </div>\n",
              "  </div>\n",
              "  "
            ]
          },
          "metadata": {},
          "execution_count": 113
        }
      ],
      "source": [
        "#checking training data\n",
        "training_data"
      ]
    },
    {
      "cell_type": "code",
      "execution_count": 114,
      "metadata": {
        "colab": {
          "base_uri": "https://localhost:8080/"
        },
        "id": "c5inbywLKxeR",
        "outputId": "8cbd9a14-0a9f-4a1a-d7a3-80389f27cd44"
      },
      "outputs": [
        {
          "output_type": "execute_result",
          "data": {
            "text/plain": [
              "(21011, 2)"
            ]
          },
          "metadata": {},
          "execution_count": 114
        }
      ],
      "source": [
        "#training data shape\n",
        "\n",
        "training_data.shape"
      ]
    },
    {
      "cell_type": "code",
      "source": [
        "# View value counts of the five topics\n",
        "training_data['Topic'].value_counts()"
      ],
      "metadata": {
        "colab": {
          "base_uri": "https://localhost:8080/"
        },
        "id": "3wRzG-gjKTaH",
        "outputId": "0c756c99-b184-43dc-fa6f-fa6200ccc3a9"
      },
      "execution_count": 135,
      "outputs": [
        {
          "output_type": "execute_result",
          "data": {
            "text/plain": [
              "3    6416\n",
              "0    4885\n",
              "2    3845\n",
              "1    3693\n",
              "4    2172\n",
              "Name: Topic, dtype: int64"
            ]
          },
          "metadata": {},
          "execution_count": 135
        }
      ]
    },
    {
      "cell_type": "markdown",
      "metadata": {
        "id": "280Vbqk-7a8M"
      },
      "source": [
        "####Apply the supervised models on the training data created. In this process, you have to do the following:\n",
        "* Create the vector counts using Count Vectoriser\n",
        "* Transform the word vecotr to tf-idf\n",
        "* Create the train & test data using the train_test_split on the tf-idf & topics\n"
      ]
    },
    {
      "cell_type": "code",
      "execution_count": 115,
      "metadata": {
        "id": "oUlQpgkzJrGI"
      },
      "outputs": [],
      "source": [
        "\n",
        "#Write your code to get the Vector count\n",
        "count_vector = CountVectorizer()\n",
        "X_train_counts = count_vector.fit_transform(training_data.complaint_what_happened)\n",
        "\n",
        "#Write your code here to transform the word vector to tf-idf\n",
        "tfidf_transformer = TfidfTransformer()\n",
        "X_train_tfidf = tfidf_transformer.fit_transform(X_train_counts)"
      ]
    },
    {
      "cell_type": "markdown",
      "metadata": {
        "id": "uMU3vj6w-wqL"
      },
      "source": [
        "You have to try atleast 3 models on the train & test data from these options:\n",
        "* Logistic regression\n",
        "* Decision Tree\n",
        "* Random Forest\n",
        "* Naive Bayes (optional)\n",
        "\n",
        "**Using the required evaluation metrics judge the tried models and select the ones performing the best**"
      ]
    },
    {
      "cell_type": "code",
      "execution_count": 116,
      "metadata": {
        "id": "udLHpPsZJrGI"
      },
      "outputs": [],
      "source": [
        "# Write your code here to build any 3 models and evaluate them using the required metrics\n",
        "from sklearn.model_selection import train_test_split\n",
        "from sklearn.linear_model import LogisticRegression\n",
        "from sklearn.tree import DecisionTreeClassifier\n",
        "from sklearn.ensemble import RandomForestClassifier\n",
        "from sklearn.naive_bayes import GaussianNB\n",
        "\n",
        "from sklearn.metrics import classification_report, f1_score, confusion_matrix"
      ]
    },
    {
      "cell_type": "code",
      "execution_count": 117,
      "metadata": {
        "id": "N2OznsObJrGP"
      },
      "outputs": [],
      "source": [
        "#split the data into train and test\n",
        "X_train, X_test, y_train, y_test = train_test_split(X_train_tfidf, training_data.Topic, test_size=0.25, random_state=42)"
      ]
    },
    {
      "cell_type": "code",
      "execution_count": 118,
      "metadata": {
        "colab": {
          "base_uri": "https://localhost:8080/"
        },
        "id": "Cdx1y6Q0Kh3Z",
        "outputId": "f22b1aa6-d94b-4f7e-f137-2ae767a9e5bd"
      },
      "outputs": [
        {
          "output_type": "stream",
          "name": "stdout",
          "text": [
            "Shape of X_train: (15758, 33592)\n",
            "Shape of y_train: (15758,)\n",
            "Shape of X_test: (5253, 33592)\n",
            "Shape of y_test: (5253,)\n"
          ]
        }
      ],
      "source": [
        "# shapes of X_train, y_Train, X_test, y_test\n",
        "print(f\"Shape of X_train: {X_train.shape}\")\n",
        "print(f\"Shape of y_train: {y_train.shape}\")\n",
        "print(f\"Shape of X_test: {X_test.shape}\")\n",
        "print(f\"Shape of y_test: {y_test.shape}\")"
      ]
    },
    {
      "cell_type": "markdown",
      "metadata": {
        "id": "tlSqyD0RCAYI"
      },
      "source": [
        "#### 1. Logistic Regression"
      ]
    },
    {
      "cell_type": "code",
      "execution_count": 137,
      "metadata": {
        "colab": {
          "base_uri": "https://localhost:8080/"
        },
        "id": "tsbwl9d7CAYJ",
        "outputId": "a83ef3ee-e3f5-4836-b835-dff650a3e98c"
      },
      "outputs": [
        {
          "output_type": "stream",
          "name": "stdout",
          "text": [
            "              precision    recall  f1-score   support\n",
            "\n",
            "           0       0.88      0.93      0.90      1219\n",
            "           1       0.92      0.87      0.89       908\n",
            "           2       0.91      0.90      0.91       970\n",
            "           3       0.90      0.93      0.92      1624\n",
            "           4       0.93      0.80      0.86       532\n",
            "\n",
            "    accuracy                           0.90      5253\n",
            "   macro avg       0.91      0.89      0.89      5253\n",
            "weighted avg       0.90      0.90      0.90      5253\n",
            "\n"
          ]
        }
      ],
      "source": [
        "# Logistic Regression\n",
        "lr = LogisticRegression().fit(X_train, y_train)\n",
        "predicted_lr = lr.predict(X_test)\n",
        "\n",
        "print(classification_report(y_true=y_test, y_pred=predicted_lr))"
      ]
    },
    {
      "cell_type": "code",
      "source": [
        "    # confusion matrix\n",
        "    plt.figure(figsize=(10,6))\n",
        "    plt.title(f\"CONFUSION MATRIX for Logistic Regression\\n\")\n",
        "    matrix = confusion_matrix(y_test, predicted_lr)\n",
        "    sns.heatmap(matrix, annot=True, cbar=None, cmap=\"Blues\", fmt='d', xticklabels=[\"Bank Account services\", \"Credit card or prepaid card\", \"Others\", \"Theft/Dispute Reporting\",\n",
        "\"Mortgage/Loan\"], yticklabels=[\"Bank Account services\", \"Credit card or prepaid card\", \"Others\", \"Theft/Dispute Reporting\",\n",
        "\"Mortgage/Loan\"])\n",
        "    plt.show()"
      ],
      "metadata": {
        "colab": {
          "base_uri": "https://localhost:8080/",
          "height": 530
        },
        "id": "J9Gmui7WKncH",
        "outputId": "5a4f414c-5575-4000-b96e-f17fbf3c6449"
      },
      "execution_count": 138,
      "outputs": [
        {
          "output_type": "display_data",
          "data": {
            "text/plain": [
              "<Figure size 720x432 with 1 Axes>"
            ],
            "image/png": "[encoded data removed]"
          },
          "metadata": {
            "needs_background": "light"
          }
        }
      ]
    },
    {
      "cell_type": "markdown",
      "metadata": {
        "id": "ENU-u6rLCAYK"
      },
      "source": [
        "#### 2. Decision Tree"
      ]
    },
    {
      "cell_type": "code",
      "execution_count": 140,
      "metadata": {
        "colab": {
          "base_uri": "https://localhost:8080/"
        },
        "id": "Y7n6zoc8CAYL",
        "outputId": "d3c7e6af-828e-4a27-c7d1-928e422427e0"
      },
      "outputs": [
        {
          "output_type": "stream",
          "name": "stdout",
          "text": [
            "              precision    recall  f1-score   support\n",
            "\n",
            "           0       0.80      0.83      0.81      1219\n",
            "           1       0.77      0.74      0.76       908\n",
            "           2       0.84      0.85      0.85       970\n",
            "           3       0.85      0.82      0.83      1624\n",
            "           4       0.76      0.80      0.78       532\n",
            "\n",
            "    accuracy                           0.81      5253\n",
            "   macro avg       0.80      0.81      0.81      5253\n",
            "weighted avg       0.81      0.81      0.81      5253\n",
            "\n"
          ]
        }
      ],
      "source": [
        "dt = DecisionTreeClassifier().fit(X_train, y_train)\n",
        "predicted_dt = dt.predict(X_test)\n",
        "\n",
        "print(classification_report(y_pred=predicted_dt, y_true=y_test))"
      ]
    },
    {
      "cell_type": "code",
      "source": [
        "  # confusion matrix\n",
        "  plt.figure(figsize=(10,6))\n",
        "  plt.title(f\"CONFUSION MATRIX for Decision Tree\\n\")\n",
        "  matrix = confusion_matrix(y_test, predicted_dt)\n",
        "  sns.heatmap(matrix, annot=True, cbar=None, cmap=\"Blues\", fmt='d', xticklabels=[\"Bank Account services\", \"Credit card or prepaid card\", \"Others\", \"Theft/Dispute Reporting\",\n",
        "\"Mortgage/Loan\"], yticklabels=[\"Bank Account services\", \"Credit card or prepaid card\", \"Others\", \"Theft/Dispute Reporting\",\n",
        "\"Mortgage/Loan\"])\n",
        "  plt.show()"
      ],
      "metadata": {
        "colab": {
          "base_uri": "https://localhost:8080/",
          "height": 530
        },
        "id": "8zTxodYuK5_G",
        "outputId": "96d5885c-4210-4636-ab14-657be31e62ec"
      },
      "execution_count": 143,
      "outputs": [
        {
          "output_type": "display_data",
          "data": {
            "text/plain": [
              "<Figure size 720x432 with 1 Axes>"
            ],
            "image/png": "[encoded data removed]"
          },
          "metadata": {
            "needs_background": "light"
          }
        }
      ]
    },
    {
      "cell_type": "markdown",
      "metadata": {
        "id": "ftV--EIUCAYM"
      },
      "source": [
        "#### 3. Random Forest Classifier"
      ]
    },
    {
      "cell_type": "code",
      "execution_count": 144,
      "metadata": {
        "colab": {
          "base_uri": "https://localhost:8080/"
        },
        "id": "z200zv3ACAYM",
        "outputId": "217d5177-e207-4384-d1ad-d7f4d8b32bff"
      },
      "outputs": [
        {
          "output_type": "stream",
          "name": "stdout",
          "text": [
            "              precision    recall  f1-score   support\n",
            "\n",
            "           0       0.74      0.49      0.59      1219\n",
            "           1       0.85      0.37      0.51       908\n",
            "           2       0.86      0.65      0.74       970\n",
            "           3       0.48      0.97      0.64      1624\n",
            "           4       0.00      0.00      0.00       532\n",
            "\n",
            "    accuracy                           0.60      5253\n",
            "   macro avg       0.59      0.50      0.50      5253\n",
            "weighted avg       0.63      0.60      0.56      5253\n",
            "\n"
          ]
        }
      ],
      "source": [
        "rfc = RandomForestClassifier(max_depth=10)\n",
        "rfc.fit(X_train, y_train)\n",
        "predicted_rfc = rfc.predict(X_test)\n",
        "\n",
        "print(classification_report(y_pred=predicted_rfc, y_true=y_test))"
      ]
    },
    {
      "cell_type": "code",
      "source": [
        "  # confusion matrix\n",
        "  plt.figure(figsize=(10,6))\n",
        "  plt.title(f\"CONFUSION MATRIX for Random Forest\\n\")\n",
        "  matrix = confusion_matrix(y_test, predicted_rfc)\n",
        "  sns.heatmap(matrix, annot=True, cbar=None, cmap=\"Blues\", fmt='d', xticklabels=[\"Bank Account services\", \"Credit card or prepaid card\", \"Others\", \"Theft/Dispute Reporting\",\n",
        "\"Mortgage/Loan\"], yticklabels=[\"Bank Account services\", \"Credit card or prepaid card\", \"Others\", \"Theft/Dispute Reporting\",\n",
        "\"Mortgage/Loan\"])\n",
        "  plt.show()"
      ],
      "metadata": {
        "colab": {
          "base_uri": "https://localhost:8080/",
          "height": 530
        },
        "id": "W2puZJPXLlA5",
        "outputId": "2ec54b49-d6b5-476e-8a66-3559e1d23618"
      },
      "execution_count": 146,
      "outputs": [
        {
          "output_type": "display_data",
          "data": {
            "text/plain": [
              "<Figure size 720x432 with 1 Axes>"
            ],
            "image/png": "[encoded data removed]"
          },
          "metadata": {
            "needs_background": "light"
          }
        }
      ]
    },
    {
      "cell_type": "markdown",
      "metadata": {
        "id": "kno_OXokCAYN"
      },
      "source": [
        "#### 4. Gaussian Naive Bayes"
      ]
    },
    {
      "cell_type": "code",
      "execution_count": 147,
      "metadata": {
        "colab": {
          "base_uri": "https://localhost:8080/"
        },
        "id": "oulyOMBZCAYO",
        "outputId": "5c69b87e-1077-4c89-c981-55740aba5138"
      },
      "outputs": [
        {
          "output_type": "stream",
          "name": "stdout",
          "text": [
            "              precision    recall  f1-score   support\n",
            "\n",
            "           0       0.42      0.35      0.38      1219\n",
            "           1       0.29      0.27      0.28       908\n",
            "           2       0.52      0.47      0.49       970\n",
            "           3       0.46      0.26      0.33      1624\n",
            "           4       0.13      0.40      0.20       532\n",
            "\n",
            "    accuracy                           0.34      5253\n",
            "   macro avg       0.36      0.35      0.34      5253\n",
            "weighted avg       0.40      0.34      0.35      5253\n",
            "\n"
          ]
        }
      ],
      "source": [
        "nb = GaussianNB().fit(X_train.toarray(), y_train)\n",
        "predicted_nb = nb.predict(X_test.toarray())\n",
        "\n",
        "print(classification_report(y_pred=predicted_nb, y_true=y_test))"
      ]
    },
    {
      "cell_type": "code",
      "source": [
        "  # confusion matrix\n",
        "  plt.figure(figsize=(10,6))\n",
        "  plt.title(f\"CONFUSION MATRIX for Naive Bayes\\n\")\n",
        "  matrix = confusion_matrix(y_test, predicted_nb)\n",
        "  sns.heatmap(matrix, annot=True, cbar=None, cmap=\"Blues\", fmt='d', xticklabels=[\"Bank Account services\", \"Credit card or prepaid card\", \"Others\", \"Theft/Dispute Reporting\",\n",
        "\"Mortgage/Loan\"], yticklabels=[\"Bank Account services\", \"Credit card or prepaid card\", \"Others\", \"Theft/Dispute Reporting\",\n",
        "\"Mortgage/Loan\"])\n",
        "  plt.show()"
      ],
      "metadata": {
        "colab": {
          "base_uri": "https://localhost:8080/",
          "height": 530
        },
        "id": "_7g8Zul7L4up",
        "outputId": "197c4820-60a7-46cc-c38d-96d58cc3aae7"
      },
      "execution_count": 148,
      "outputs": [
        {
          "output_type": "display_data",
          "data": {
            "text/plain": [
              "<Figure size 720x432 with 1 Axes>"
            ],
            "image/png": "[encoded data removed]"
          },
          "metadata": {
            "needs_background": "light"
          }
        }
      ]
    },
    {
      "cell_type": "markdown",
      "source": [
        "Based on the accuracy of the 4 models Logistic Regression did a better job compared to 4 with 90% accuracy.\n",
        "\n",
        "The best model will be Logistic Regression"
      ],
      "metadata": {
        "id": "QrE-K6JBH8tt"
      }
    },
    {
      "cell_type": "markdown",
      "metadata": {
        "id": "G8fg8HF0CAYP"
      },
      "source": [
        "#### Infering the best model"
      ]
    },
    {
      "cell_type": "code",
      "execution_count": 125,
      "metadata": {
        "colab": {
          "base_uri": "https://localhost:8080/",
          "height": 237
        },
        "id": "xNLC59ZnCAYQ",
        "outputId": "bff76089-d117-4c0e-ee79-7479ec168e14"
      },
      "outputs": [
        {
          "output_type": "execute_result",
          "data": {
            "text/plain": [
              "                                          complaints\n",
              "0  I can not get from chase who services my mortg...\n",
              "1  The bill amount of my credit card was debited ...\n",
              "2  I want to open a salary account at your downto...\n",
              "3  Yesterday, I received a fraudulent email regar...\n",
              "4      What is the procedure to know my CIBIL score?\n",
              "5  I need to know the number of bank branches and..."
            ],
            "text/html": [
              "\n",
              "  <div id=\"df-0ebbbd7d-aa1b-447f-a00e-39973e17031c\">\n",
              "    <div class=\"colab-df-container\">\n",
              "      <div>\n",
              "<style scoped>\n",
              "    .dataframe tbody tr th:only-of-type {\n",
              "        vertical-align: middle;\n",
              "    }\n",
              "\n",
              "    .dataframe tbody tr th {\n",
              "        vertical-align: top;\n",
              "    }\n",
              "\n",
              "    .dataframe thead th {\n",
              "        text-align: right;\n",
              "    }\n",
              "</style>\n",
              "<table border=\"1\" class=\"dataframe\">\n",
              "  <thead>\n",
              "    <tr style=\"text-align: right;\">\n",
              "      <th></th>\n",
              "      <th>complaints</th>\n",
              "    </tr>\n",
              "  </thead>\n",
              "  <tbody>\n",
              "    <tr>\n",
              "      <th>0</th>\n",
              "      <td>I can not get from chase who services my mortg...</td>\n",
              "    </tr>\n",
              "    <tr>\n",
              "      <th>1</th>\n",
              "      <td>The bill amount of my credit card was debited ...</td>\n",
              "    </tr>\n",
              "    <tr>\n",
              "      <th>2</th>\n",
              "      <td>I want to open a salary account at your downto...</td>\n",
              "    </tr>\n",
              "    <tr>\n",
              "      <th>3</th>\n",
              "      <td>Yesterday, I received a fraudulent email regar...</td>\n",
              "    </tr>\n",
              "    <tr>\n",
              "      <th>4</th>\n",
              "      <td>What is the procedure to know my CIBIL score?</td>\n",
              "    </tr>\n",
              "    <tr>\n",
              "      <th>5</th>\n",
              "      <td>I need to know the number of bank branches and...</td>\n",
              "    </tr>\n",
              "  </tbody>\n",
              "</table>\n",
              "</div>\n",
              "      <button class=\"colab-df-convert\" onclick=\"convertToInteractive('df-0ebbbd7d-aa1b-447f-a00e-39973e17031c')\"\n",
              "              title=\"Convert this dataframe to an interactive table.\"\n",
              "              style=\"display:none;\">\n",
              "        \n",
              "  <svg xmlns=\"http://www.w3.org/2000/svg\" height=\"24px\"viewBox=\"0 0 24 24\"\n",
              "       width=\"24px\">\n",
              "    <path d=\"M0 0h24v24H0V0z\" fill=\"none\"/>\n",
              "    <path d=\"M18.56 5.44l.94 2.06.94-2.06 2.06-.94-2.06-.94-.94-2.06-.94 2.06-2.06.94zm-11 1L8.5 8.5l.94-2.06 2.06-.94-2.06-.94L8.5 2.5l-.94 2.06-2.06.94zm10 10l.94 2.06.94-2.06 2.06-.94-2.06-.94-.94-2.06-.94 2.06-2.06.94z\"/><path d=\"M17.41 7.96l-1.37-1.37c-.4-.4-.92-.59-1.43-.59-.52 0-1.04.2-1.43.59L10.3 9.45l-7.72 7.72c-.78.78-.78 2.05 0 2.83L4 21.41c.39.39.9.59 1.41.59.51 0 1.02-.2 1.41-.59l7.78-7.78 2.81-2.81c.8-.78.8-2.07 0-2.86zM5.41 20L4 18.59l7.72-7.72 1.47 1.35L5.41 20z\"/>\n",
              "  </svg>\n",
              "      </button>\n",
              "      \n",
              "  <style>\n",
              "    .colab-df-container {\n",
              "      display:flex;\n",
              "      flex-wrap:wrap;\n",
              "      gap: 12px;\n",
              "    }\n",
              "\n",
              "    .colab-df-convert {\n",
              "      background-color: #E8F0FE;\n",
              "      border: none;\n",
              "      border-radius: 50%;\n",
              "      cursor: pointer;\n",
              "      display: none;\n",
              "      fill: #1967D2;\n",
              "      height: 32px;\n",
              "      padding: 0 0 0 0;\n",
              "      width: 32px;\n",
              "    }\n",
              "\n",
              "    .colab-df-convert:hover {\n",
              "      background-color: #E2EBFA;\n",
              "      box-shadow: 0px 1px 2px rgba(60, 64, 67, 0.3), 0px 1px 3px 1px rgba(60, 64, 67, 0.15);\n",
              "      fill: #174EA6;\n",
              "    }\n",
              "\n",
              "    [theme=dark] .colab-df-convert {\n",
              "      background-color: #3B4455;\n",
              "      fill: #D2E3FC;\n",
              "    }\n",
              "\n",
              "    [theme=dark] .colab-df-convert:hover {\n",
              "      background-color: #434B5C;\n",
              "      box-shadow: 0px 1px 3px 1px rgba(0, 0, 0, 0.15);\n",
              "      filter: drop-shadow(0px 1px 2px rgba(0, 0, 0, 0.3));\n",
              "      fill: #FFFFFF;\n",
              "    }\n",
              "  </style>\n",
              "\n",
              "      <script>\n",
              "        const buttonEl =\n",
              "          document.querySelector('#df-0ebbbd7d-aa1b-447f-a00e-39973e17031c button.colab-df-convert');\n",
              "        buttonEl.style.display =\n",
              "          google.colab.kernel.accessAllowed ? 'block' : 'none';\n",
              "\n",
              "        async function convertToInteractive(key) {\n",
              "          const element = document.querySelector('#df-0ebbbd7d-aa1b-447f-a00e-39973e17031c');\n",
              "          const dataTable =\n",
              "            await google.colab.kernel.invokeFunction('convertToInteractive',\n",
              "                                                     [key], {});\n",
              "          if (!dataTable) return;\n",
              "\n",
              "          const docLinkHtml = 'Like what you see? Visit the ' +\n",
              "            '<a target=\"_blank\" href=https://colab.research.google.com/notebooks/data_table.ipynb>data table notebook</a>'\n",
              "            + ' to learn more about interactive tables.';\n",
              "          element.innerHTML = '';\n",
              "          dataTable['output_type'] = 'display_data';\n",
              "          await google.colab.output.renderOutput(dataTable, element);\n",
              "          const docLink = document.createElement('div');\n",
              "          docLink.innerHTML = docLinkHtml;\n",
              "          element.appendChild(docLink);\n",
              "        }\n",
              "      </script>\n",
              "    </div>\n",
              "  </div>\n",
              "  "
            ]
          },
          "metadata": {},
          "execution_count": 125
        }
      ],
      "source": [
        "df_complaints = pd.DataFrame({'complaints': [\"I can not get from chase who services my mortgage, who owns it and who has original loan docs\", \n",
        "                                  \"The bill amount of my credit card was debited twice. Please look into the matter and resolve at the earliest.\",\n",
        "                                  \"I want to open a salary account at your downtown branch. Please provide me the procedure.\",\n",
        "                                  \"Yesterday, I received a fraudulent email regarding renewal of my services.\",\n",
        "                                  \"What is the procedure to know my CIBIL score?\",\n",
        "                                  \"I need to know the number of bank branches and their locations in the city of Dubai\"]})\n",
        "df_complaints"
      ]
    },
    {
      "cell_type": "code",
      "execution_count": 129,
      "metadata": {
        "id": "7ntXHysJCAYR"
      },
      "outputs": [],
      "source": [
        "def predict_lr(text):\n",
        "    Topic_names = {0:'Credit card or prepaid card', 1:'Theft/Dispute Reporting', 2:'Mortgage/Loan', 3:'Bank Account services', 4:'Others'   }\n",
        "    X_new_counts = count_vector.transform(text)\n",
        "    X_new_tfidf = tfidf_transformer.transform(X_new_counts)\n",
        "    predicted = lr.predict(X_new_tfidf)\n",
        "    return Topic_names[predicted[0]]"
      ]
    },
    {
      "cell_type": "code",
      "execution_count": 130,
      "metadata": {
        "colab": {
          "base_uri": "https://localhost:8080/",
          "height": 237
        },
        "id": "ntvDou4xCAYS",
        "outputId": "594f691a-ab67-4d75-de27-c4198624bf69"
      },
      "outputs": [
        {
          "output_type": "execute_result",
          "data": {
            "text/plain": [
              "                                          complaints  \\\n",
              "0  I can not get from chase who services my mortg...   \n",
              "1  The bill amount of my credit card was debited ...   \n",
              "2  I want to open a salary account at your downto...   \n",
              "3  Yesterday, I received a fraudulent email regar...   \n",
              "4      What is the procedure to know my CIBIL score?   \n",
              "5  I need to know the number of bank branches and...   \n",
              "\n",
              "                           tag  \n",
              "0                Mortgage/Loan  \n",
              "1  Credit card or prepaid card  \n",
              "2        Bank Account services  \n",
              "3  Credit card or prepaid card  \n",
              "4      Theft/Dispute Reporting  \n",
              "5        Bank Account services  "
            ],
            "text/html": [
              "\n",
              "  <div id=\"df-8107bbee-675a-462e-809b-b047d098f9b2\">\n",
              "    <div class=\"colab-df-container\">\n",
              "      <div>\n",
              "<style scoped>\n",
              "    .dataframe tbody tr th:only-of-type {\n",
              "        vertical-align: middle;\n",
              "    }\n",
              "\n",
              "    .dataframe tbody tr th {\n",
              "        vertical-align: top;\n",
              "    }\n",
              "\n",
              "    .dataframe thead th {\n",
              "        text-align: right;\n",
              "    }\n",
              "</style>\n",
              "<table border=\"1\" class=\"dataframe\">\n",
              "  <thead>\n",
              "    <tr style=\"text-align: right;\">\n",
              "      <th></th>\n",
              "      <th>complaints</th>\n",
              "      <th>tag</th>\n",
              "    </tr>\n",
              "  </thead>\n",
              "  <tbody>\n",
              "    <tr>\n",
              "      <th>0</th>\n",
              "      <td>I can not get from chase who services my mortg...</td>\n",
              "      <td>Mortgage/Loan</td>\n",
              "    </tr>\n",
              "    <tr>\n",
              "      <th>1</th>\n",
              "      <td>The bill amount of my credit card was debited ...</td>\n",
              "      <td>Credit card or prepaid card</td>\n",
              "    </tr>\n",
              "    <tr>\n",
              "      <th>2</th>\n",
              "      <td>I want to open a salary account at your downto...</td>\n",
              "      <td>Bank Account services</td>\n",
              "    </tr>\n",
              "    <tr>\n",
              "      <th>3</th>\n",
              "      <td>Yesterday, I received a fraudulent email regar...</td>\n",
              "      <td>Credit card or prepaid card</td>\n",
              "    </tr>\n",
              "    <tr>\n",
              "      <th>4</th>\n",
              "      <td>What is the procedure to know my CIBIL score?</td>\n",
              "      <td>Theft/Dispute Reporting</td>\n",
              "    </tr>\n",
              "    <tr>\n",
              "      <th>5</th>\n",
              "      <td>I need to know the number of bank branches and...</td>\n",
              "      <td>Bank Account services</td>\n",
              "    </tr>\n",
              "  </tbody>\n",
              "</table>\n",
              "</div>\n",
              "      <button class=\"colab-df-convert\" onclick=\"convertToInteractive('df-8107bbee-675a-462e-809b-b047d098f9b2')\"\n",
              "              title=\"Convert this dataframe to an interactive table.\"\n",
              "              style=\"display:none;\">\n",
              "        \n",
              "  <svg xmlns=\"http://www.w3.org/2000/svg\" height=\"24px\"viewBox=\"0 0 24 24\"\n",
              "       width=\"24px\">\n",
              "    <path d=\"M0 0h24v24H0V0z\" fill=\"none\"/>\n",
              "    <path d=\"M18.56 5.44l.94 2.06.94-2.06 2.06-.94-2.06-.94-.94-2.06-.94 2.06-2.06.94zm-11 1L8.5 8.5l.94-2.06 2.06-.94-2.06-.94L8.5 2.5l-.94 2.06-2.06.94zm10 10l.94 2.06.94-2.06 2.06-.94-2.06-.94-.94-2.06-.94 2.06-2.06.94z\"/><path d=\"M17.41 7.96l-1.37-1.37c-.4-.4-.92-.59-1.43-.59-.52 0-1.04.2-1.43.59L10.3 9.45l-7.72 7.72c-.78.78-.78 2.05 0 2.83L4 21.41c.39.39.9.59 1.41.59.51 0 1.02-.2 1.41-.59l7.78-7.78 2.81-2.81c.8-.78.8-2.07 0-2.86zM5.41 20L4 18.59l7.72-7.72 1.47 1.35L5.41 20z\"/>\n",
              "  </svg>\n",
              "      </button>\n",
              "      \n",
              "  <style>\n",
              "    .colab-df-container {\n",
              "      display:flex;\n",
              "      flex-wrap:wrap;\n",
              "      gap: 12px;\n",
              "    }\n",
              "\n",
              "    .colab-df-convert {\n",
              "      background-color: #E8F0FE;\n",
              "      border: none;\n",
              "      border-radius: 50%;\n",
              "      cursor: pointer;\n",
              "      display: none;\n",
              "      fill: #1967D2;\n",
              "      height: 32px;\n",
              "      padding: 0 0 0 0;\n",
              "      width: 32px;\n",
              "    }\n",
              "\n",
              "    .colab-df-convert:hover {\n",
              "      background-color: #E2EBFA;\n",
              "      box-shadow: 0px 1px 2px rgba(60, 64, 67, 0.3), 0px 1px 3px 1px rgba(60, 64, 67, 0.15);\n",
              "      fill: #174EA6;\n",
              "    }\n",
              "\n",
              "    [theme=dark] .colab-df-convert {\n",
              "      background-color: #3B4455;\n",
              "      fill: #D2E3FC;\n",
              "    }\n",
              "\n",
              "    [theme=dark] .colab-df-convert:hover {\n",
              "      background-color: #434B5C;\n",
              "      box-shadow: 0px 1px 3px 1px rgba(0, 0, 0, 0.15);\n",
              "      filter: drop-shadow(0px 1px 2px rgba(0, 0, 0, 0.3));\n",
              "      fill: #FFFFFF;\n",
              "    }\n",
              "  </style>\n",
              "\n",
              "      <script>\n",
              "        const buttonEl =\n",
              "          document.querySelector('#df-8107bbee-675a-462e-809b-b047d098f9b2 button.colab-df-convert');\n",
              "        buttonEl.style.display =\n",
              "          google.colab.kernel.accessAllowed ? 'block' : 'none';\n",
              "\n",
              "        async function convertToInteractive(key) {\n",
              "          const element = document.querySelector('#df-8107bbee-675a-462e-809b-b047d098f9b2');\n",
              "          const dataTable =\n",
              "            await google.colab.kernel.invokeFunction('convertToInteractive',\n",
              "                                                     [key], {});\n",
              "          if (!dataTable) return;\n",
              "\n",
              "          const docLinkHtml = 'Like what you see? Visit the ' +\n",
              "            '<a target=\"_blank\" href=https://colab.research.google.com/notebooks/data_table.ipynb>data table notebook</a>'\n",
              "            + ' to learn more about interactive tables.';\n",
              "          element.innerHTML = '';\n",
              "          dataTable['output_type'] = 'display_data';\n",
              "          await google.colab.output.renderOutput(dataTable, element);\n",
              "          const docLink = document.createElement('div');\n",
              "          docLink.innerHTML = docLinkHtml;\n",
              "          element.appendChild(docLink);\n",
              "        }\n",
              "      </script>\n",
              "    </div>\n",
              "  </div>\n",
              "  "
            ]
          },
          "metadata": {},
          "execution_count": 130
        }
      ],
      "source": [
        "df_complaints['tag'] = df_complaints['complaints'].apply(lambda x: predict_lr([x]))\n",
        "df_complaints"
      ]
    }
  ],
  "metadata": {
    "accelerator": "GPU",
    "colab": {
      "collapsed_sections": [],
      "machine_shape": "hm",
      "provenance": [],
      "include_colab_link": true
    },
    "gpuClass": "standard",
    "kernelspec": {
      "display_name": "Python 3.8.12 ('base')",
      "language": "python",
      "name": "python3"
    },
    "language_info": {
      "codemirror_mode": {
        "name": "ipython",
        "version": 3
      },
      "file_extension": ".py",
      "mimetype": "text/x-python",
      "name": "python",
      "nbconvert_exporter": "python",
      "pygments_lexer": "ipython3",
      "version": "3.8.12"
    },
    "vscode": {
      "interpreter": {
        "hash": "f08154012ddadd8e950e6e9e035c7a7b32c136e7647e9b7c77e02eb723a8bedb"
      }
    }
  },
  "nbformat": 4,
  "nbformat_minor": 0
}